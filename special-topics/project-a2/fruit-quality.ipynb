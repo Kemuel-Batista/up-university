{
 "cells": [
  {
   "cell_type": "code",
   "execution_count": 33,
   "id": "ab50de86",
   "metadata": {},
   "outputs": [],
   "source": [
    "# EDA\n",
    "import pandas as pd\n",
    "import numpy as np\n",
    "import plotly.express as px\n",
    "import plotly.graph_objects as go\n",
    "import seaborn as sns"
   ]
  },
  {
   "cell_type": "code",
   "execution_count": 34,
   "id": "4e5742fd",
   "metadata": {},
   "outputs": [],
   "source": [
    "# Carregar dados para o dataframe\n",
    "df_frutas = pd.read_csv('./datasets/apple_quality.csv')"
   ]
  },
  {
   "cell_type": "code",
   "execution_count": 35,
   "id": "5d117076",
   "metadata": {},
   "outputs": [],
   "source": [
    "# 2. Tratamento inicial\n",
    "# Padronizar nomes das colunas (lowercase e sem espaços)\n",
    "df_frutas.columns = df_frutas.columns.str.strip().str.lower()"
   ]
  },
  {
   "cell_type": "code",
   "execution_count": 36,
   "id": "6546cc82",
   "metadata": {},
   "outputs": [
    {
     "data": {
      "text/html": [
       "<div>\n",
       "<style scoped>\n",
       "    .dataframe tbody tr th:only-of-type {\n",
       "        vertical-align: middle;\n",
       "    }\n",
       "\n",
       "    .dataframe tbody tr th {\n",
       "        vertical-align: top;\n",
       "    }\n",
       "\n",
       "    .dataframe thead th {\n",
       "        text-align: right;\n",
       "    }\n",
       "</style>\n",
       "<table border=\"1\" class=\"dataframe\">\n",
       "  <thead>\n",
       "    <tr style=\"text-align: right;\">\n",
       "      <th></th>\n",
       "      <th>a_id</th>\n",
       "      <th>size</th>\n",
       "      <th>weight</th>\n",
       "      <th>sweetness</th>\n",
       "      <th>crunchiness</th>\n",
       "      <th>juiciness</th>\n",
       "      <th>ripeness</th>\n",
       "      <th>acidity</th>\n",
       "      <th>quality</th>\n",
       "    </tr>\n",
       "  </thead>\n",
       "  <tbody>\n",
       "    <tr>\n",
       "      <th>0</th>\n",
       "      <td>0</td>\n",
       "      <td>-3.970049</td>\n",
       "      <td>-2.512336</td>\n",
       "      <td>5.346330</td>\n",
       "      <td>-1.012009</td>\n",
       "      <td>1.844900</td>\n",
       "      <td>0.329840</td>\n",
       "      <td>-0.491590</td>\n",
       "      <td>good</td>\n",
       "    </tr>\n",
       "    <tr>\n",
       "      <th>1</th>\n",
       "      <td>1</td>\n",
       "      <td>-1.195217</td>\n",
       "      <td>-2.839257</td>\n",
       "      <td>3.664059</td>\n",
       "      <td>1.588232</td>\n",
       "      <td>0.853286</td>\n",
       "      <td>0.867530</td>\n",
       "      <td>-0.722809</td>\n",
       "      <td>good</td>\n",
       "    </tr>\n",
       "    <tr>\n",
       "      <th>2</th>\n",
       "      <td>2</td>\n",
       "      <td>-0.292024</td>\n",
       "      <td>-1.351282</td>\n",
       "      <td>-1.738429</td>\n",
       "      <td>-0.342616</td>\n",
       "      <td>2.838636</td>\n",
       "      <td>-0.038033</td>\n",
       "      <td>2.621636</td>\n",
       "      <td>bad</td>\n",
       "    </tr>\n",
       "    <tr>\n",
       "      <th>3</th>\n",
       "      <td>3</td>\n",
       "      <td>-0.657196</td>\n",
       "      <td>-2.271627</td>\n",
       "      <td>1.324874</td>\n",
       "      <td>-0.097875</td>\n",
       "      <td>3.637970</td>\n",
       "      <td>-3.413761</td>\n",
       "      <td>0.790723</td>\n",
       "      <td>good</td>\n",
       "    </tr>\n",
       "    <tr>\n",
       "      <th>4</th>\n",
       "      <td>4</td>\n",
       "      <td>1.364217</td>\n",
       "      <td>-1.296612</td>\n",
       "      <td>-0.384658</td>\n",
       "      <td>-0.553006</td>\n",
       "      <td>3.030874</td>\n",
       "      <td>-1.303849</td>\n",
       "      <td>0.501984</td>\n",
       "      <td>good</td>\n",
       "    </tr>\n",
       "    <tr>\n",
       "      <th>5</th>\n",
       "      <td>5</td>\n",
       "      <td>-3.425400</td>\n",
       "      <td>-1.409082</td>\n",
       "      <td>-1.913511</td>\n",
       "      <td>-0.555775</td>\n",
       "      <td>-3.853071</td>\n",
       "      <td>1.914616</td>\n",
       "      <td>-2.981523</td>\n",
       "      <td>bad</td>\n",
       "    </tr>\n",
       "    <tr>\n",
       "      <th>6</th>\n",
       "      <td>6</td>\n",
       "      <td>1.331606</td>\n",
       "      <td>1.635956</td>\n",
       "      <td>0.875974</td>\n",
       "      <td>-1.677798</td>\n",
       "      <td>3.106344</td>\n",
       "      <td>-1.847417</td>\n",
       "      <td>2.414171</td>\n",
       "      <td>good</td>\n",
       "    </tr>\n",
       "    <tr>\n",
       "      <th>7</th>\n",
       "      <td>7</td>\n",
       "      <td>-1.995462</td>\n",
       "      <td>-0.428958</td>\n",
       "      <td>1.530644</td>\n",
       "      <td>-0.742972</td>\n",
       "      <td>0.158834</td>\n",
       "      <td>0.974438</td>\n",
       "      <td>-1.470125</td>\n",
       "      <td>good</td>\n",
       "    </tr>\n",
       "    <tr>\n",
       "      <th>8</th>\n",
       "      <td>8</td>\n",
       "      <td>-3.867632</td>\n",
       "      <td>-3.734514</td>\n",
       "      <td>0.986429</td>\n",
       "      <td>-1.207655</td>\n",
       "      <td>2.292873</td>\n",
       "      <td>4.080921</td>\n",
       "      <td>-4.871905</td>\n",
       "      <td>bad</td>\n",
       "    </tr>\n",
       "    <tr>\n",
       "      <th>9</th>\n",
       "      <td>9</td>\n",
       "      <td>-0.727983</td>\n",
       "      <td>-0.442820</td>\n",
       "      <td>-4.092223</td>\n",
       "      <td>0.597513</td>\n",
       "      <td>0.393714</td>\n",
       "      <td>1.620857</td>\n",
       "      <td>2.185608</td>\n",
       "      <td>bad</td>\n",
       "    </tr>\n",
       "  </tbody>\n",
       "</table>\n",
       "</div>"
      ],
      "text/plain": [
       "   a_id      size    weight  sweetness  crunchiness  juiciness  ripeness  \\\n",
       "0     0 -3.970049 -2.512336   5.346330    -1.012009   1.844900  0.329840   \n",
       "1     1 -1.195217 -2.839257   3.664059     1.588232   0.853286  0.867530   \n",
       "2     2 -0.292024 -1.351282  -1.738429    -0.342616   2.838636 -0.038033   \n",
       "3     3 -0.657196 -2.271627   1.324874    -0.097875   3.637970 -3.413761   \n",
       "4     4  1.364217 -1.296612  -0.384658    -0.553006   3.030874 -1.303849   \n",
       "5     5 -3.425400 -1.409082  -1.913511    -0.555775  -3.853071  1.914616   \n",
       "6     6  1.331606  1.635956   0.875974    -1.677798   3.106344 -1.847417   \n",
       "7     7 -1.995462 -0.428958   1.530644    -0.742972   0.158834  0.974438   \n",
       "8     8 -3.867632 -3.734514   0.986429    -1.207655   2.292873  4.080921   \n",
       "9     9 -0.727983 -0.442820  -4.092223     0.597513   0.393714  1.620857   \n",
       "\n",
       "    acidity quality  \n",
       "0 -0.491590    good  \n",
       "1 -0.722809    good  \n",
       "2  2.621636     bad  \n",
       "3  0.790723    good  \n",
       "4  0.501984    good  \n",
       "5 -2.981523     bad  \n",
       "6  2.414171    good  \n",
       "7 -1.470125    good  \n",
       "8 -4.871905     bad  \n",
       "9  2.185608     bad  "
      ]
     },
     "execution_count": 36,
     "metadata": {},
     "output_type": "execute_result"
    }
   ],
   "source": [
    "# Visualizar dataframe\n",
    "df_frutas.head(10)"
   ]
  },
  {
   "cell_type": "code",
   "execution_count": 37,
   "id": "21bfd400",
   "metadata": {},
   "outputs": [
    {
     "name": "stdout",
     "output_type": "stream",
     "text": [
      "Valores nulos por coluna:\n",
      "a_id           0\n",
      "size           0\n",
      "weight         0\n",
      "sweetness      0\n",
      "crunchiness    0\n",
      "juiciness      0\n",
      "ripeness       0\n",
      "acidity        0\n",
      "quality        0\n",
      "dtype: int64\n"
     ]
    }
   ],
   "source": [
    "# Verificar valores nulos\n",
    "print(\"Valores nulos por coluna:\")\n",
    "print(df_frutas.isnull().sum())"
   ]
  },
  {
   "cell_type": "code",
   "execution_count": 38,
   "id": "28fe61a5",
   "metadata": {},
   "outputs": [],
   "source": [
    "# Se houver valores nulos, exemplo de tratamento (remoção ou preenchimento)\n",
    "df_frutas = df_frutas.dropna()"
   ]
  },
  {
   "cell_type": "code",
   "execution_count": 39,
   "id": "1bb150be",
   "metadata": {},
   "outputs": [
    {
     "name": "stdout",
     "output_type": "stream",
     "text": [
      "<class 'pandas.core.frame.DataFrame'>\n",
      "RangeIndex: 4000 entries, 0 to 3999\n",
      "Data columns (total 9 columns):\n",
      " #   Column       Non-Null Count  Dtype  \n",
      "---  ------       --------------  -----  \n",
      " 0   a_id         4000 non-null   int64  \n",
      " 1   size         4000 non-null   float64\n",
      " 2   weight       4000 non-null   float64\n",
      " 3   sweetness    4000 non-null   float64\n",
      " 4   crunchiness  4000 non-null   float64\n",
      " 5   juiciness    4000 non-null   float64\n",
      " 6   ripeness     4000 non-null   float64\n",
      " 7   acidity      4000 non-null   float64\n",
      " 8   quality      4000 non-null   object \n",
      "dtypes: float64(7), int64(1), object(1)\n",
      "memory usage: 281.4+ KB\n"
     ]
    }
   ],
   "source": [
    "# Estrutura do dataframe\n",
    "df_frutas.info()"
   ]
  },
  {
   "cell_type": "code",
   "execution_count": 40,
   "id": "bfe11846",
   "metadata": {},
   "outputs": [],
   "source": [
    "# Transformar a variável quality em numérica (0 e 1)\n",
    "df_frutas['quality'] = (df_frutas['quality'] == 'good').astype(int)"
   ]
  },
  {
   "cell_type": "code",
   "execution_count": 41,
   "id": "1ce02d26",
   "metadata": {},
   "outputs": [],
   "source": [
    "# Remover a coluna A_id, pois não tem poder preditivo\n",
    "df_frutas.drop(columns=['a_id'], axis=1, inplace=True)"
   ]
  },
  {
   "cell_type": "code",
   "execution_count": 42,
   "id": "9b8819a8",
   "metadata": {},
   "outputs": [
    {
     "data": {
      "application/vnd.plotly.v1+json": {
       "config": {
        "plotlyServerURL": "https://plot.ly"
       },
       "data": [
        {
         "alignmentgroup": "True",
         "hovertemplate": "quality=%{x}<br>weight=%{y}<extra></extra>",
         "legendgroup": "1",
         "marker": {
          "color": "#636efa"
         },
         "name": "1",
         "notched": false,
         "offsetgroup": "1",
         "orientation": "v",
         "showlegend": true,
         "type": "box",
         "x": {
          "bdata": "AQEBAQEBAQEBAQEBAQEBAQEBAQEBAQEBAQEBAQEBAQEBAQEBAQEBAQEBAQEBAQEBAQEBAQEBAQEBAQEBAQEBAQEBAQEBAQEBAQEBAQEBAQEBAQEBAQEBAQEBAQEBAQEBAQEBAQEBAQEBAQEBAQEBAQEBAQEBAQEBAQEBAQEBAQEBAQEBAQEBAQEBAQEBAQEBAQEBAQEBAQEBAQEBAQEBAQEBAQEBAQEBAQEBAQEBAQEBAQEBAQEBAQEBAQEBAQEBAQEBAQEBAQEBAQEBAQEBAQEBAQEBAQEBAQEBAQEBAQEBAQEBAQEBAQEBAQEBAQEBAQEBAQEBAQEBAQEBAQEBAQEBAQEBAQEBAQEBAQEBAQEBAQEBAQEBAQEBAQEBAQEBAQEBAQEBAQEBAQEBAQEBAQEBAQEBAQEBAQEBAQEBAQEBAQEBAQEBAQEBAQEBAQEBAQEBAQEBAQEBAQEBAQEBAQEBAQEBAQEBAQEBAQEBAQEBAQEBAQEBAQEBAQEBAQEBAQEBAQEBAQEBAQEBAQEBAQEBAQEBAQEBAQEBAQEBAQEBAQEBAQEBAQEBAQEBAQEBAQEBAQEBAQEBAQEBAQEBAQEBAQEBAQEBAQEBAQEBAQEBAQEBAQEBAQEBAQEBAQEBAQEBAQEBAQEBAQEBAQEBAQEBAQEBAQEBAQEBAQEBAQEBAQEBAQEBAQEBAQEBAQEBAQEBAQEBAQEBAQEBAQEBAQEBAQEBAQEBAQEBAQEBAQEBAQEBAQEBAQEBAQEBAQEBAQEBAQEBAQEBAQEBAQEBAQEBAQEBAQEBAQEBAQEBAQEBAQEBAQEBAQEBAQEBAQEBAQEBAQEBAQEBAQEBAQEBAQEBAQEBAQEBAQEBAQEBAQEBAQEBAQEBAQEBAQEBAQEBAQEBAQEBAQEBAQEBAQEBAQEBAQEBAQEBAQEBAQEBAQEBAQEBAQEBAQEBAQEBAQEBAQEBAQEBAQEBAQEBAQEBAQEBAQEBAQEBAQEBAQEBAQEBAQEBAQEBAQEBAQEBAQEBAQEBAQEBAQEBAQEBAQEBAQEBAQEBAQEBAQEBAQEBAQEBAQEBAQEBAQEBAQEBAQEBAQEBAQEBAQEBAQEBAQEBAQEBAQEBAQEBAQEBAQEBAQEBAQEBAQEBAQEBAQEBAQEBAQEBAQEBAQEBAQEBAQEBAQEBAQEBAQEBAQEBAQEBAQEBAQEBAQEBAQEBAQEBAQEBAQEBAQEBAQEBAQEBAQEBAQEBAQEBAQEBAQEBAQEBAQEBAQEBAQEBAQEBAQEBAQEBAQEBAQEBAQEBAQEBAQEBAQEBAQEBAQEBAQEBAQEBAQEBAQEBAQEBAQEBAQEBAQEBAQEBAQEBAQEBAQEBAQEBAQEBAQEBAQEBAQEBAQEBAQEBAQEBAQEBAQEBAQEBAQEBAQEBAQEBAQEBAQEBAQEBAQEBAQEBAQEBAQEBAQEBAQEBAQEBAQEBAQEBAQEBAQEBAQEBAQEBAQEBAQEBAQEBAQEBAQEBAQEBAQEBAQEBAQEBAQEBAQEBAQEBAQEBAQEBAQEBAQEBAQEBAQEBAQEBAQEBAQEBAQEBAQEBAQEBAQEBAQEBAQEBAQEBAQEBAQEBAQEBAQEBAQEBAQEBAQEBAQEBAQEBAQEBAQEBAQEBAQEBAQEBAQEBAQEBAQEBAQEBAQEBAQEBAQEBAQEBAQEBAQEBAQEBAQEBAQEBAQEBAQEBAQEBAQEBAQEBAQEBAQEBAQEBAQEBAQEBAQEBAQEBAQEBAQEBAQEBAQEBAQEBAQEBAQEBAQEBAQEBAQEBAQEBAQEBAQEBAQEBAQEBAQEBAQEBAQEBAQEBAQEBAQEBAQEBAQEBAQEBAQEBAQEBAQEBAQEBAQEBAQEBAQEBAQEBAQEBAQEBAQEBAQEBAQEBAQEBAQEBAQEBAQEBAQEBAQEBAQEBAQEBAQEBAQEBAQEBAQEBAQEBAQEBAQEBAQEBAQEBAQEBAQEBAQEBAQEBAQEBAQEBAQEBAQEBAQEBAQEBAQEBAQEBAQEBAQEBAQEBAQEBAQEBAQEBAQEBAQEBAQEBAQEBAQEBAQEBAQEBAQEBAQEBAQEBAQEBAQEBAQEBAQEBAQEBAQEBAQEBAQEBAQEBAQEBAQEBAQEBAQEBAQEBAQEBAQEBAQEBAQEBAQEBAQEBAQEBAQEBAQEBAQEBAQEBAQEBAQEBAQEBAQEBAQEBAQEBAQEBAQEBAQEBAQEBAQEBAQEBAQEBAQEBAQEBAQEBAQEBAQEBAQEBAQEBAQEBAQEBAQEBAQEBAQEBAQEBAQEBAQEBAQEBAQEBAQEBAQEBAQEBAQEBAQEBAQEBAQEBAQEBAQEBAQEBAQEBAQEBAQEBAQEBAQEBAQEBAQEBAQEBAQEBAQEBAQEBAQEBAQEBAQEBAQEBAQEBAQEBAQEBAQEBAQEBAQEBAQEBAQEBAQEBAQEBAQEBAQEBAQEBAQEBAQEBAQEBAQEBAQEBAQEBAQEBAQEBAQEBAQEBAQEBAQEBAQEBAQEBAQEBAQEBAQEBAQEBAQEBAQEBAQEBAQEBAQEBAQEBAQEBAQEBAQEBAQEBAQEBAQEBAQEBAQEBAQEBAQEBAQEBAQEBAQEBAQEBAQEBAQEBAQEBAQEBAQEBAQEBAQEBAQEBAQEBAQEBAQEBAQEBAQEBAQEBAQEBAQEBAQEBAQEB",
          "dtype": "i1"
         },
         "x0": " ",
         "xaxis": "x",
         "y": {
          "bdata": "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",
          "dtype": "f8"
         },
         "y0": " ",
         "yaxis": "y"
        },
        {
         "alignmentgroup": "True",
         "hovertemplate": "quality=%{x}<br>weight=%{y}<extra></extra>",
         "legendgroup": "0",
         "marker": {
          "color": "#EF553B"
         },
         "name": "0",
         "notched": false,
         "offsetgroup": "0",
         "orientation": "v",
         "showlegend": true,
         "type": "box",
         "x": {
          "bdata": "AAAAAAAAAAAAAAAAAAAAAAAAAAAAAAAAAAAAAAAAAAAAAAAAAAAAAAAAAAAAAAAAAAAAAAAAAAAAAAAAAAAAAAAAAAAAAAAAAAAAAAAAAAAAAAAAAAAAAAAAAAAAAAAAAAAAAAAAAAAAAAAAAAAAAAAAAAAAAAAAAAAAAAAAAAAAAAAAAAAAAAAAAAAAAAAAAAAAAAAAAAAAAAAAAAAAAAAAAAAAAAAAAAAAAAAAAAAAAAAAAAAAAAAAAAAAAAAAAAAAAAAAAAAAAAAAAAAAAAAAAAAAAAAAAAAAAAAAAAAAAAAAAAAAAAAAAAAAAAAAAAAAAAAAAAAAAAAAAAAAAAAAAAAAAAAAAAAAAAAAAAAAAAAAAAAAAAAAAAAAAAAAAAAAAAAAAAAAAAAAAAAAAAAAAAAAAAAAAAAAAAAAAAAAAAAAAAAAAAAAAAAAAAAAAAAAAAAAAAAAAAAAAAAAAAAAAAAAAAAAAAAAAAAAAAAAAAAAAAAAAAAAAAAAAAAAAAAAAAAAAAAAAAAAAAAAAAAAAAAAAAAAAAAAAAAAAAAAAAAAAAAAAAAAAAAAAAAAAAAAAAAAAAAAAAAAAAAAAAAAAAAAAAAAAAAAAAAAAAAAAAAAAAAAAAAAAAAAAAAAAAAAAAAAAAAAAAAAAAAAAAAAAAAAAAAAAAAAAAAAAAAAAAAAAAAAAAAAAAAAAAAAAAAAAAAAAAAAAAAAAAAAAAAAAAAAAAAAAAAAAAAAAAAAAAAAAAAAAAAAAAAAAAAAAAAAAAAAAAAAAAAAAAAAAAAAAAAAAAAAAAAAAAAAAAAAAAAAAAAAAAAAAAAAAAAAAAAAAAAAAAAAAAAAAAAAAAAAAAAAAAAAAAAAAAAAAAAAAAAAAAAAAAAAAAAAAAAAAAAAAAAAAAAAAAAAAAAAAAAAAAAAAAAAAAAAAAAAAAAAAAAAAAAAAAAAAAAAAAAAAAAAAAAAAAAAAAAAAAAAAAAAAAAAAAAAAAAAAAAAAAAAAAAAAAAAAAAAAAAAAAAAAAAAAAAAAAAAAAAAAAAAAAAAAAAAAAAAAAAAAAAAAAAAAAAAAAAAAAAAAAAAAAAAAAAAAAAAAAAAAAAAAAAAAAAAAAAAAAAAAAAAAAAAAAAAAAAAAAAAAAAAAAAAAAAAAAAAAAAAAAAAAAAAAAAAAAAAAAAAAAAAAAAAAAAAAAAAAAAAAAAAAAAAAAAAAAAAAAAAAAAAAAAAAAAAAAAAAAAAAAAAAAAAAAAAAAAAAAAAAAAAAAAAAAAAAAAAAAAAAAAAAAAAAAAAAAAAAAAAAAAAAAAAAAAAAAAAAAAAAAAAAAAAAAAAAAAAAAAAAAAAAAAAAAAAAAAAAAAAAAAAAAAAAAAAAAAAAAAAAAAAAAAAAAAAAAAAAAAAAAAAAAAAAAAAAAAAAAAAAAAAAAAAAAAAAAAAAAAAAAAAAAAAAAAAAAAAAAAAAAAAAAAAAAAAAAAAAAAAAAAAAAAAAAAAAAAAAAAAAAAAAAAAAAAAAAAAAAAAAAAAAAAAAAAAAAAAAAAAAAAAAAAAAAAAAAAAAAAAAAAAAAAAAAAAAAAAAAAAAAAAAAAAAAAAAAAAAAAAAAAAAAAAAAAAAAAAAAAAAAAAAAAAAAAAAAAAAAAAAAAAAAAAAAAAAAAAAAAAAAAAAAAAAAAAAAAAAAAAAAAAAAAAAAAAAAAAAAAAAAAAAAAAAAAAAAAAAAAAAAAAAAAAAAAAAAAAAAAAAAAAAAAAAAAAAAAAAAAAAAAAAAAAAAAAAAAAAAAAAAAAAAAAAAAAAAAAAAAAAAAAAAAAAAAAAAAAAAAAAAAAAAAAAAAAAAAAAAAAAAAAAAAAAAAAAAAAAAAAAAAAAAAAAAAAAAAAAAAAAAAAAAAAAAAAAAAAAAAAAAAAAAAAAAAAAAAAAAAAAAAAAAAAAAAAAAAAAAAAAAAAAAAAAAAAAAAAAAAAAAAAAAAAAAAAAAAAAAAAAAAAAAAAAAAAAAAAAAAAAAAAAAAAAAAAAAAAAAAAAAAAAAAAAAAAAAAAAAAAAAAAAAAAAAAAAAAAAAAAAAAAAAAAAAAAAAAAAAAAAAAAAAAAAAAAAAAAAAAAAAAAAAAAAAAAAAAAAAAAAAAAAAAAAAAAAAAAAAAAAAAAAAAAAAAAAAAAAAAAAAAAAAAAAAAAAAAAAAAAAAAAAAAAAAAAAAAAAAAAAAAAAAAAAAAAAAAAAAAAAAAAAAAAAAAAAAAAAAAAAAAAAAAAAAAAAAAAAAAAAAAAAAAAAAAAAAAAAAAAAAAAAAAAAAAAAAAAAAAAAAAAAAAAAAAAAAAAAAAAAAAAAAAAAAAAAAAAAAAAAAAAAAAAAAAAAAAAAAAAAAAAAAAAAAAAAAAAAAAAAAAAAAAAAAAAAAAAAAAAAAAAAAAAAAAAAAAAAAAAAAAAAAAAAAAAAAAAAAAAAAAAAAAAAAAAAAAAAAAAAAAAAAAAAAAAAAAAAAAAAAAAAAAAAAAAAAAAAAAAAAAAAAAAAAAAAAAAAAAAAAAAAAAAAAAAAAAAAAAAAAAAAAAAAAAAAAAAAAAAAAAAAAAAAAAAAAAAAAAAAAAAAAAAAAAAAAAAAAAAAAAAAAAAAAAAAAAAAAAAAAAAAAAAAAAAAAAAAAAAAAAAAAAAAAAAAAAAAAAAAA==",
          "dtype": "i1"
         },
         "x0": " ",
         "xaxis": "x",
         "y": {
          "bdata": "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",
          "dtype": "f8"
         },
         "y0": " ",
         "yaxis": "y"
        }
       ],
       "layout": {
        "boxmode": "overlay",
        "legend": {
         "title": {
          "text": "quality"
         },
         "tracegroupgap": 0
        },
        "margin": {
         "t": 60
        },
        "template": {
         "data": {
          "bar": [
           {
            "error_x": {
             "color": "#2a3f5f"
            },
            "error_y": {
             "color": "#2a3f5f"
            },
            "marker": {
             "line": {
              "color": "#E5ECF6",
              "width": 0.5
             },
             "pattern": {
              "fillmode": "overlay",
              "size": 10,
              "solidity": 0.2
             }
            },
            "type": "bar"
           }
          ],
          "barpolar": [
           {
            "marker": {
             "line": {
              "color": "#E5ECF6",
              "width": 0.5
             },
             "pattern": {
              "fillmode": "overlay",
              "size": 10,
              "solidity": 0.2
             }
            },
            "type": "barpolar"
           }
          ],
          "carpet": [
           {
            "aaxis": {
             "endlinecolor": "#2a3f5f",
             "gridcolor": "white",
             "linecolor": "white",
             "minorgridcolor": "white",
             "startlinecolor": "#2a3f5f"
            },
            "baxis": {
             "endlinecolor": "#2a3f5f",
             "gridcolor": "white",
             "linecolor": "white",
             "minorgridcolor": "white",
             "startlinecolor": "#2a3f5f"
            },
            "type": "carpet"
           }
          ],
          "choropleth": [
           {
            "colorbar": {
             "outlinewidth": 0,
             "ticks": ""
            },
            "type": "choropleth"
           }
          ],
          "contour": [
           {
            "colorbar": {
             "outlinewidth": 0,
             "ticks": ""
            },
            "colorscale": [
             [
              0,
              "#0d0887"
             ],
             [
              0.1111111111111111,
              "#46039f"
             ],
             [
              0.2222222222222222,
              "#7201a8"
             ],
             [
              0.3333333333333333,
              "#9c179e"
             ],
             [
              0.4444444444444444,
              "#bd3786"
             ],
             [
              0.5555555555555556,
              "#d8576b"
             ],
             [
              0.6666666666666666,
              "#ed7953"
             ],
             [
              0.7777777777777778,
              "#fb9f3a"
             ],
             [
              0.8888888888888888,
              "#fdca26"
             ],
             [
              1,
              "#f0f921"
             ]
            ],
            "type": "contour"
           }
          ],
          "contourcarpet": [
           {
            "colorbar": {
             "outlinewidth": 0,
             "ticks": ""
            },
            "type": "contourcarpet"
           }
          ],
          "heatmap": [
           {
            "colorbar": {
             "outlinewidth": 0,
             "ticks": ""
            },
            "colorscale": [
             [
              0,
              "#0d0887"
             ],
             [
              0.1111111111111111,
              "#46039f"
             ],
             [
              0.2222222222222222,
              "#7201a8"
             ],
             [
              0.3333333333333333,
              "#9c179e"
             ],
             [
              0.4444444444444444,
              "#bd3786"
             ],
             [
              0.5555555555555556,
              "#d8576b"
             ],
             [
              0.6666666666666666,
              "#ed7953"
             ],
             [
              0.7777777777777778,
              "#fb9f3a"
             ],
             [
              0.8888888888888888,
              "#fdca26"
             ],
             [
              1,
              "#f0f921"
             ]
            ],
            "type": "heatmap"
           }
          ],
          "histogram": [
           {
            "marker": {
             "pattern": {
              "fillmode": "overlay",
              "size": 10,
              "solidity": 0.2
             }
            },
            "type": "histogram"
           }
          ],
          "histogram2d": [
           {
            "colorbar": {
             "outlinewidth": 0,
             "ticks": ""
            },
            "colorscale": [
             [
              0,
              "#0d0887"
             ],
             [
              0.1111111111111111,
              "#46039f"
             ],
             [
              0.2222222222222222,
              "#7201a8"
             ],
             [
              0.3333333333333333,
              "#9c179e"
             ],
             [
              0.4444444444444444,
              "#bd3786"
             ],
             [
              0.5555555555555556,
              "#d8576b"
             ],
             [
              0.6666666666666666,
              "#ed7953"
             ],
             [
              0.7777777777777778,
              "#fb9f3a"
             ],
             [
              0.8888888888888888,
              "#fdca26"
             ],
             [
              1,
              "#f0f921"
             ]
            ],
            "type": "histogram2d"
           }
          ],
          "histogram2dcontour": [
           {
            "colorbar": {
             "outlinewidth": 0,
             "ticks": ""
            },
            "colorscale": [
             [
              0,
              "#0d0887"
             ],
             [
              0.1111111111111111,
              "#46039f"
             ],
             [
              0.2222222222222222,
              "#7201a8"
             ],
             [
              0.3333333333333333,
              "#9c179e"
             ],
             [
              0.4444444444444444,
              "#bd3786"
             ],
             [
              0.5555555555555556,
              "#d8576b"
             ],
             [
              0.6666666666666666,
              "#ed7953"
             ],
             [
              0.7777777777777778,
              "#fb9f3a"
             ],
             [
              0.8888888888888888,
              "#fdca26"
             ],
             [
              1,
              "#f0f921"
             ]
            ],
            "type": "histogram2dcontour"
           }
          ],
          "mesh3d": [
           {
            "colorbar": {
             "outlinewidth": 0,
             "ticks": ""
            },
            "type": "mesh3d"
           }
          ],
          "parcoords": [
           {
            "line": {
             "colorbar": {
              "outlinewidth": 0,
              "ticks": ""
             }
            },
            "type": "parcoords"
           }
          ],
          "pie": [
           {
            "automargin": true,
            "type": "pie"
           }
          ],
          "scatter": [
           {
            "fillpattern": {
             "fillmode": "overlay",
             "size": 10,
             "solidity": 0.2
            },
            "type": "scatter"
           }
          ],
          "scatter3d": [
           {
            "line": {
             "colorbar": {
              "outlinewidth": 0,
              "ticks": ""
             }
            },
            "marker": {
             "colorbar": {
              "outlinewidth": 0,
              "ticks": ""
             }
            },
            "type": "scatter3d"
           }
          ],
          "scattercarpet": [
           {
            "marker": {
             "colorbar": {
              "outlinewidth": 0,
              "ticks": ""
             }
            },
            "type": "scattercarpet"
           }
          ],
          "scattergeo": [
           {
            "marker": {
             "colorbar": {
              "outlinewidth": 0,
              "ticks": ""
             }
            },
            "type": "scattergeo"
           }
          ],
          "scattergl": [
           {
            "marker": {
             "colorbar": {
              "outlinewidth": 0,
              "ticks": ""
             }
            },
            "type": "scattergl"
           }
          ],
          "scattermap": [
           {
            "marker": {
             "colorbar": {
              "outlinewidth": 0,
              "ticks": ""
             }
            },
            "type": "scattermap"
           }
          ],
          "scattermapbox": [
           {
            "marker": {
             "colorbar": {
              "outlinewidth": 0,
              "ticks": ""
             }
            },
            "type": "scattermapbox"
           }
          ],
          "scatterpolar": [
           {
            "marker": {
             "colorbar": {
              "outlinewidth": 0,
              "ticks": ""
             }
            },
            "type": "scatterpolar"
           }
          ],
          "scatterpolargl": [
           {
            "marker": {
             "colorbar": {
              "outlinewidth": 0,
              "ticks": ""
             }
            },
            "type": "scatterpolargl"
           }
          ],
          "scatterternary": [
           {
            "marker": {
             "colorbar": {
              "outlinewidth": 0,
              "ticks": ""
             }
            },
            "type": "scatterternary"
           }
          ],
          "surface": [
           {
            "colorbar": {
             "outlinewidth": 0,
             "ticks": ""
            },
            "colorscale": [
             [
              0,
              "#0d0887"
             ],
             [
              0.1111111111111111,
              "#46039f"
             ],
             [
              0.2222222222222222,
              "#7201a8"
             ],
             [
              0.3333333333333333,
              "#9c179e"
             ],
             [
              0.4444444444444444,
              "#bd3786"
             ],
             [
              0.5555555555555556,
              "#d8576b"
             ],
             [
              0.6666666666666666,
              "#ed7953"
             ],
             [
              0.7777777777777778,
              "#fb9f3a"
             ],
             [
              0.8888888888888888,
              "#fdca26"
             ],
             [
              1,
              "#f0f921"
             ]
            ],
            "type": "surface"
           }
          ],
          "table": [
           {
            "cells": {
             "fill": {
              "color": "#EBF0F8"
             },
             "line": {
              "color": "white"
             }
            },
            "header": {
             "fill": {
              "color": "#C8D4E3"
             },
             "line": {
              "color": "white"
             }
            },
            "type": "table"
           }
          ]
         },
         "layout": {
          "annotationdefaults": {
           "arrowcolor": "#2a3f5f",
           "arrowhead": 0,
           "arrowwidth": 1
          },
          "autotypenumbers": "strict",
          "coloraxis": {
           "colorbar": {
            "outlinewidth": 0,
            "ticks": ""
           }
          },
          "colorscale": {
           "diverging": [
            [
             0,
             "#8e0152"
            ],
            [
             0.1,
             "#c51b7d"
            ],
            [
             0.2,
             "#de77ae"
            ],
            [
             0.3,
             "#f1b6da"
            ],
            [
             0.4,
             "#fde0ef"
            ],
            [
             0.5,
             "#f7f7f7"
            ],
            [
             0.6,
             "#e6f5d0"
            ],
            [
             0.7,
             "#b8e186"
            ],
            [
             0.8,
             "#7fbc41"
            ],
            [
             0.9,
             "#4d9221"
            ],
            [
             1,
             "#276419"
            ]
           ],
           "sequential": [
            [
             0,
             "#0d0887"
            ],
            [
             0.1111111111111111,
             "#46039f"
            ],
            [
             0.2222222222222222,
             "#7201a8"
            ],
            [
             0.3333333333333333,
             "#9c179e"
            ],
            [
             0.4444444444444444,
             "#bd3786"
            ],
            [
             0.5555555555555556,
             "#d8576b"
            ],
            [
             0.6666666666666666,
             "#ed7953"
            ],
            [
             0.7777777777777778,
             "#fb9f3a"
            ],
            [
             0.8888888888888888,
             "#fdca26"
            ],
            [
             1,
             "#f0f921"
            ]
           ],
           "sequentialminus": [
            [
             0,
             "#0d0887"
            ],
            [
             0.1111111111111111,
             "#46039f"
            ],
            [
             0.2222222222222222,
             "#7201a8"
            ],
            [
             0.3333333333333333,
             "#9c179e"
            ],
            [
             0.4444444444444444,
             "#bd3786"
            ],
            [
             0.5555555555555556,
             "#d8576b"
            ],
            [
             0.6666666666666666,
             "#ed7953"
            ],
            [
             0.7777777777777778,
             "#fb9f3a"
            ],
            [
             0.8888888888888888,
             "#fdca26"
            ],
            [
             1,
             "#f0f921"
            ]
           ]
          },
          "colorway": [
           "#636efa",
           "#EF553B",
           "#00cc96",
           "#ab63fa",
           "#FFA15A",
           "#19d3f3",
           "#FF6692",
           "#B6E880",
           "#FF97FF",
           "#FECB52"
          ],
          "font": {
           "color": "#2a3f5f"
          },
          "geo": {
           "bgcolor": "white",
           "lakecolor": "white",
           "landcolor": "#E5ECF6",
           "showlakes": true,
           "showland": true,
           "subunitcolor": "white"
          },
          "hoverlabel": {
           "align": "left"
          },
          "hovermode": "closest",
          "mapbox": {
           "style": "light"
          },
          "paper_bgcolor": "white",
          "plot_bgcolor": "#E5ECF6",
          "polar": {
           "angularaxis": {
            "gridcolor": "white",
            "linecolor": "white",
            "ticks": ""
           },
           "bgcolor": "#E5ECF6",
           "radialaxis": {
            "gridcolor": "white",
            "linecolor": "white",
            "ticks": ""
           }
          },
          "scene": {
           "xaxis": {
            "backgroundcolor": "#E5ECF6",
            "gridcolor": "white",
            "gridwidth": 2,
            "linecolor": "white",
            "showbackground": true,
            "ticks": "",
            "zerolinecolor": "white"
           },
           "yaxis": {
            "backgroundcolor": "#E5ECF6",
            "gridcolor": "white",
            "gridwidth": 2,
            "linecolor": "white",
            "showbackground": true,
            "ticks": "",
            "zerolinecolor": "white"
           },
           "zaxis": {
            "backgroundcolor": "#E5ECF6",
            "gridcolor": "white",
            "gridwidth": 2,
            "linecolor": "white",
            "showbackground": true,
            "ticks": "",
            "zerolinecolor": "white"
           }
          },
          "shapedefaults": {
           "line": {
            "color": "#2a3f5f"
           }
          },
          "ternary": {
           "aaxis": {
            "gridcolor": "white",
            "linecolor": "white",
            "ticks": ""
           },
           "baxis": {
            "gridcolor": "white",
            "linecolor": "white",
            "ticks": ""
           },
           "bgcolor": "#E5ECF6",
           "caxis": {
            "gridcolor": "white",
            "linecolor": "white",
            "ticks": ""
           }
          },
          "title": {
           "x": 0.05
          },
          "xaxis": {
           "automargin": true,
           "gridcolor": "white",
           "linecolor": "white",
           "ticks": "",
           "title": {
            "standoff": 15
           },
           "zerolinecolor": "white",
           "zerolinewidth": 2
          },
          "yaxis": {
           "automargin": true,
           "gridcolor": "white",
           "linecolor": "white",
           "ticks": "",
           "title": {
            "standoff": 15
           },
           "zerolinecolor": "white",
           "zerolinewidth": 2
          }
         }
        },
        "xaxis": {
         "anchor": "y",
         "categoryarray": [
          1,
          0
         ],
         "categoryorder": "array",
         "domain": [
          0,
          1
         ],
         "title": {
          "text": "quality"
         }
        },
        "yaxis": {
         "anchor": "x",
         "domain": [
          0,
          1
         ],
         "title": {
          "text": "weight"
         }
        }
       }
      }
     },
     "metadata": {},
     "output_type": "display_data"
    }
   ],
   "source": [
    "# BoxPlot Quality x Weight\n",
    "# Será que tem diferença de peso, entre as frutas boas e ruims? Vemos isso atráves de um boxplot\n",
    "px.box(df_frutas, x='quality', y='weight', color='quality')"
   ]
  },
  {
   "cell_type": "code",
   "execution_count": 43,
   "id": "7e21e841",
   "metadata": {},
   "outputs": [
    {
     "data": {
      "application/vnd.plotly.v1+json": {
       "config": {
        "plotlyServerURL": "https://plot.ly"
       },
       "data": [
        {
         "alignmentgroup": "True",
         "hovertemplate": "quality=%{x}<br>sweetness=%{y}<extra></extra>",
         "legendgroup": "1",
         "marker": {
          "color": "#636efa"
         },
         "name": "1",
         "notched": false,
         "offsetgroup": "1",
         "orientation": "v",
         "showlegend": true,
         "type": "box",
         "x": {
          "bdata": "AQEBAQEBAQEBAQEBAQEBAQEBAQEBAQEBAQEBAQEBAQEBAQEBAQEBAQEBAQEBAQEBAQEBAQEBAQEBAQEBAQEBAQEBAQEBAQEBAQEBAQEBAQEBAQEBAQEBAQEBAQEBAQEBAQEBAQEBAQEBAQEBAQEBAQEBAQEBAQEBAQEBAQEBAQEBAQEBAQEBAQEBAQEBAQEBAQEBAQEBAQEBAQEBAQEBAQEBAQEBAQEBAQEBAQEBAQEBAQEBAQEBAQEBAQEBAQEBAQEBAQEBAQEBAQEBAQEBAQEBAQEBAQEBAQEBAQEBAQEBAQEBAQEBAQEBAQEBAQEBAQEBAQEBAQEBAQEBAQEBAQEBAQEBAQEBAQEBAQEBAQEBAQEBAQEBAQEBAQEBAQEBAQEBAQEBAQEBAQEBAQEBAQEBAQEBAQEBAQEBAQEBAQEBAQEBAQEBAQEBAQEBAQEBAQEBAQEBAQEBAQEBAQEBAQEBAQEBAQEBAQEBAQEBAQEBAQEBAQEBAQEBAQEBAQEBAQEBAQEBAQEBAQEBAQEBAQEBAQEBAQEBAQEBAQEBAQEBAQEBAQEBAQEBAQEBAQEBAQEBAQEBAQEBAQEBAQEBAQEBAQEBAQEBAQEBAQEBAQEBAQEBAQEBAQEBAQEBAQEBAQEBAQEBAQEBAQEBAQEBAQEBAQEBAQEBAQEBAQEBAQEBAQEBAQEBAQEBAQEBAQEBAQEBAQEBAQEBAQEBAQEBAQEBAQEBAQEBAQEBAQEBAQEBAQEBAQEBAQEBAQEBAQEBAQEBAQEBAQEBAQEBAQEBAQEBAQEBAQEBAQEBAQEBAQEBAQEBAQEBAQEBAQEBAQEBAQEBAQEBAQEBAQEBAQEBAQEBAQEBAQEBAQEBAQEBAQEBAQEBAQEBAQEBAQEBAQEBAQEBAQEBAQEBAQEBAQEBAQEBAQEBAQEBAQEBAQEBAQEBAQEBAQEBAQEBAQEBAQEBAQEBAQEBAQEBAQEBAQEBAQEBAQEBAQEBAQEBAQEBAQEBAQEBAQEBAQEBAQEBAQEBAQEBAQEBAQEBAQEBAQEBAQEBAQEBAQEBAQEBAQEBAQEBAQEBAQEBAQEBAQEBAQEBAQEBAQEBAQEBAQEBAQEBAQEBAQEBAQEBAQEBAQEBAQEBAQEBAQEBAQEBAQEBAQEBAQEBAQEBAQEBAQEBAQEBAQEBAQEBAQEBAQEBAQEBAQEBAQEBAQEBAQEBAQEBAQEBAQEBAQEBAQEBAQEBAQEBAQEBAQEBAQEBAQEBAQEBAQEBAQEBAQEBAQEBAQEBAQEBAQEBAQEBAQEBAQEBAQEBAQEBAQEBAQEBAQEBAQEBAQEBAQEBAQEBAQEBAQEBAQEBAQEBAQEBAQEBAQEBAQEBAQEBAQEBAQEBAQEBAQEBAQEBAQEBAQEBAQEBAQEBAQEBAQEBAQEBAQEBAQEBAQEBAQEBAQEBAQEBAQEBAQEBAQEBAQEBAQEBAQEBAQEBAQEBAQEBAQEBAQEBAQEBAQEBAQEBAQEBAQEBAQEBAQEBAQEBAQEBAQEBAQEBAQEBAQEBAQEBAQEBAQEBAQEBAQEBAQEBAQEBAQEBAQEBAQEBAQEBAQEBAQEBAQEBAQEBAQEBAQEBAQEBAQEBAQEBAQEBAQEBAQEBAQEBAQEBAQEBAQEBAQEBAQEBAQEBAQEBAQEBAQEBAQEBAQEBAQEBAQEBAQEBAQEBAQEBAQEBAQEBAQEBAQEBAQEBAQEBAQEBAQEBAQEBAQEBAQEBAQEBAQEBAQEBAQEBAQEBAQEBAQEBAQEBAQEBAQEBAQEBAQEBAQEBAQEBAQEBAQEBAQEBAQEBAQEBAQEBAQEBAQEBAQEBAQEBAQEBAQEBAQEBAQEBAQEBAQEBAQEBAQEBAQEBAQEBAQEBAQEBAQEBAQEBAQEBAQEBAQEBAQEBAQEBAQEBAQEBAQEBAQEBAQEBAQEBAQEBAQEBAQEBAQEBAQEBAQEBAQEBAQEBAQEBAQEBAQEBAQEBAQEBAQEBAQEBAQEBAQEBAQEBAQEBAQEBAQEBAQEBAQEBAQEBAQEBAQEBAQEBAQEBAQEBAQEBAQEBAQEBAQEBAQEBAQEBAQEBAQEBAQEBAQEBAQEBAQEBAQEBAQEBAQEBAQEBAQEBAQEBAQEBAQEBAQEBAQEBAQEBAQEBAQEBAQEBAQEBAQEBAQEBAQEBAQEBAQEBAQEBAQEBAQEBAQEBAQEBAQEBAQEBAQEBAQEBAQEBAQEBAQEBAQEBAQEBAQEBAQEBAQEBAQEBAQEBAQEBAQEBAQEBAQEBAQEBAQEBAQEBAQEBAQEBAQEBAQEBAQEBAQEBAQEBAQEBAQEBAQEBAQEBAQEBAQEBAQEBAQEBAQEBAQEBAQEBAQEBAQEBAQEBAQEBAQEBAQEBAQEBAQEBAQEBAQEBAQEBAQEBAQEBAQEBAQEBAQEBAQEBAQEBAQEBAQEBAQEBAQEBAQEBAQEBAQEBAQEBAQEBAQEBAQEBAQEBAQEBAQEBAQEBAQEBAQEBAQEBAQEBAQEBAQEBAQEBAQEBAQEBAQEBAQEBAQEBAQEBAQEBAQEBAQEBAQEBAQEBAQEBAQEBAQEBAQEBAQEBAQEBAQEBAQEBAQEBAQEBAQEBAQEBAQEBAQEBAQEBAQEBAQEBAQEBAQEBAQEBAQEBAQEBAQEBAQEBAQEBAQEBAQEBAQEB",
          "dtype": "i1"
         },
         "x0": " ",
         "xaxis": "x",
         "y": {
          "bdata": "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",
          "dtype": "f8"
         },
         "y0": " ",
         "yaxis": "y"
        },
        {
         "alignmentgroup": "True",
         "hovertemplate": "quality=%{x}<br>sweetness=%{y}<extra></extra>",
         "legendgroup": "0",
         "marker": {
          "color": "#EF553B"
         },
         "name": "0",
         "notched": false,
         "offsetgroup": "0",
         "orientation": "v",
         "showlegend": true,
         "type": "box",
         "x": {
          "bdata": "AAAAAAAAAAAAAAAAAAAAAAAAAAAAAAAAAAAAAAAAAAAAAAAAAAAAAAAAAAAAAAAAAAAAAAAAAAAAAAAAAAAAAAAAAAAAAAAAAAAAAAAAAAAAAAAAAAAAAAAAAAAAAAAAAAAAAAAAAAAAAAAAAAAAAAAAAAAAAAAAAAAAAAAAAAAAAAAAAAAAAAAAAAAAAAAAAAAAAAAAAAAAAAAAAAAAAAAAAAAAAAAAAAAAAAAAAAAAAAAAAAAAAAAAAAAAAAAAAAAAAAAAAAAAAAAAAAAAAAAAAAAAAAAAAAAAAAAAAAAAAAAAAAAAAAAAAAAAAAAAAAAAAAAAAAAAAAAAAAAAAAAAAAAAAAAAAAAAAAAAAAAAAAAAAAAAAAAAAAAAAAAAAAAAAAAAAAAAAAAAAAAAAAAAAAAAAAAAAAAAAAAAAAAAAAAAAAAAAAAAAAAAAAAAAAAAAAAAAAAAAAAAAAAAAAAAAAAAAAAAAAAAAAAAAAAAAAAAAAAAAAAAAAAAAAAAAAAAAAAAAAAAAAAAAAAAAAAAAAAAAAAAAAAAAAAAAAAAAAAAAAAAAAAAAAAAAAAAAAAAAAAAAAAAAAAAAAAAAAAAAAAAAAAAAAAAAAAAAAAAAAAAAAAAAAAAAAAAAAAAAAAAAAAAAAAAAAAAAAAAAAAAAAAAAAAAAAAAAAAAAAAAAAAAAAAAAAAAAAAAAAAAAAAAAAAAAAAAAAAAAAAAAAAAAAAAAAAAAAAAAAAAAAAAAAAAAAAAAAAAAAAAAAAAAAAAAAAAAAAAAAAAAAAAAAAAAAAAAAAAAAAAAAAAAAAAAAAAAAAAAAAAAAAAAAAAAAAAAAAAAAAAAAAAAAAAAAAAAAAAAAAAAAAAAAAAAAAAAAAAAAAAAAAAAAAAAAAAAAAAAAAAAAAAAAAAAAAAAAAAAAAAAAAAAAAAAAAAAAAAAAAAAAAAAAAAAAAAAAAAAAAAAAAAAAAAAAAAAAAAAAAAAAAAAAAAAAAAAAAAAAAAAAAAAAAAAAAAAAAAAAAAAAAAAAAAAAAAAAAAAAAAAAAAAAAAAAAAAAAAAAAAAAAAAAAAAAAAAAAAAAAAAAAAAAAAAAAAAAAAAAAAAAAAAAAAAAAAAAAAAAAAAAAAAAAAAAAAAAAAAAAAAAAAAAAAAAAAAAAAAAAAAAAAAAAAAAAAAAAAAAAAAAAAAAAAAAAAAAAAAAAAAAAAAAAAAAAAAAAAAAAAAAAAAAAAAAAAAAAAAAAAAAAAAAAAAAAAAAAAAAAAAAAAAAAAAAAAAAAAAAAAAAAAAAAAAAAAAAAAAAAAAAAAAAAAAAAAAAAAAAAAAAAAAAAAAAAAAAAAAAAAAAAAAAAAAAAAAAAAAAAAAAAAAAAAAAAAAAAAAAAAAAAAAAAAAAAAAAAAAAAAAAAAAAAAAAAAAAAAAAAAAAAAAAAAAAAAAAAAAAAAAAAAAAAAAAAAAAAAAAAAAAAAAAAAAAAAAAAAAAAAAAAAAAAAAAAAAAAAAAAAAAAAAAAAAAAAAAAAAAAAAAAAAAAAAAAAAAAAAAAAAAAAAAAAAAAAAAAAAAAAAAAAAAAAAAAAAAAAAAAAAAAAAAAAAAAAAAAAAAAAAAAAAAAAAAAAAAAAAAAAAAAAAAAAAAAAAAAAAAAAAAAAAAAAAAAAAAAAAAAAAAAAAAAAAAAAAAAAAAAAAAAAAAAAAAAAAAAAAAAAAAAAAAAAAAAAAAAAAAAAAAAAAAAAAAAAAAAAAAAAAAAAAAAAAAAAAAAAAAAAAAAAAAAAAAAAAAAAAAAAAAAAAAAAAAAAAAAAAAAAAAAAAAAAAAAAAAAAAAAAAAAAAAAAAAAAAAAAAAAAAAAAAAAAAAAAAAAAAAAAAAAAAAAAAAAAAAAAAAAAAAAAAAAAAAAAAAAAAAAAAAAAAAAAAAAAAAAAAAAAAAAAAAAAAAAAAAAAAAAAAAAAAAAAAAAAAAAAAAAAAAAAAAAAAAAAAAAAAAAAAAAAAAAAAAAAAAAAAAAAAAAAAAAAAAAAAAAAAAAAAAAAAAAAAAAAAAAAAAAAAAAAAAAAAAAAAAAAAAAAAAAAAAAAAAAAAAAAAAAAAAAAAAAAAAAAAAAAAAAAAAAAAAAAAAAAAAAAAAAAAAAAAAAAAAAAAAAAAAAAAAAAAAAAAAAAAAAAAAAAAAAAAAAAAAAAAAAAAAAAAAAAAAAAAAAAAAAAAAAAAAAAAAAAAAAAAAAAAAAAAAAAAAAAAAAAAAAAAAAAAAAAAAAAAAAAAAAAAAAAAAAAAAAAAAAAAAAAAAAAAAAAAAAAAAAAAAAAAAAAAAAAAAAAAAAAAAAAAAAAAAAAAAAAAAAAAAAAAAAAAAAAAAAAAAAAAAAAAAAAAAAAAAAAAAAAAAAAAAAAAAAAAAAAAAAAAAAAAAAAAAAAAAAAAAAAAAAAAAAAAAAAAAAAAAAAAAAAAAAAAAAAAAAAAAAAAAAAAAAAAAAAAAAAAAAAAAAAAAAAAAAAAAAAAAAAAAAAAAAAAAAAAAAAAAAAAAAAAAAAAAAAAAAAAAAAAAAAAAAAAAAAAAAAAAAAAAAAAAAAAAAAAAAAAAAAAAAAAAAAAAAAAAAAAAAAAAAAAAAAAAAAAAAAAAAAAAAAAAAAAAAAAAAAAAAAAAAAAAAAAAAAAAAAAAAAAAAAAA==",
          "dtype": "i1"
         },
         "x0": " ",
         "xaxis": "x",
         "y": {
          "bdata": "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",
          "dtype": "f8"
         },
         "y0": " ",
         "yaxis": "y"
        }
       ],
       "layout": {
        "boxmode": "overlay",
        "legend": {
         "title": {
          "text": "quality"
         },
         "tracegroupgap": 0
        },
        "margin": {
         "t": 60
        },
        "template": {
         "data": {
          "bar": [
           {
            "error_x": {
             "color": "#2a3f5f"
            },
            "error_y": {
             "color": "#2a3f5f"
            },
            "marker": {
             "line": {
              "color": "#E5ECF6",
              "width": 0.5
             },
             "pattern": {
              "fillmode": "overlay",
              "size": 10,
              "solidity": 0.2
             }
            },
            "type": "bar"
           }
          ],
          "barpolar": [
           {
            "marker": {
             "line": {
              "color": "#E5ECF6",
              "width": 0.5
             },
             "pattern": {
              "fillmode": "overlay",
              "size": 10,
              "solidity": 0.2
             }
            },
            "type": "barpolar"
           }
          ],
          "carpet": [
           {
            "aaxis": {
             "endlinecolor": "#2a3f5f",
             "gridcolor": "white",
             "linecolor": "white",
             "minorgridcolor": "white",
             "startlinecolor": "#2a3f5f"
            },
            "baxis": {
             "endlinecolor": "#2a3f5f",
             "gridcolor": "white",
             "linecolor": "white",
             "minorgridcolor": "white",
             "startlinecolor": "#2a3f5f"
            },
            "type": "carpet"
           }
          ],
          "choropleth": [
           {
            "colorbar": {
             "outlinewidth": 0,
             "ticks": ""
            },
            "type": "choropleth"
           }
          ],
          "contour": [
           {
            "colorbar": {
             "outlinewidth": 0,
             "ticks": ""
            },
            "colorscale": [
             [
              0,
              "#0d0887"
             ],
             [
              0.1111111111111111,
              "#46039f"
             ],
             [
              0.2222222222222222,
              "#7201a8"
             ],
             [
              0.3333333333333333,
              "#9c179e"
             ],
             [
              0.4444444444444444,
              "#bd3786"
             ],
             [
              0.5555555555555556,
              "#d8576b"
             ],
             [
              0.6666666666666666,
              "#ed7953"
             ],
             [
              0.7777777777777778,
              "#fb9f3a"
             ],
             [
              0.8888888888888888,
              "#fdca26"
             ],
             [
              1,
              "#f0f921"
             ]
            ],
            "type": "contour"
           }
          ],
          "contourcarpet": [
           {
            "colorbar": {
             "outlinewidth": 0,
             "ticks": ""
            },
            "type": "contourcarpet"
           }
          ],
          "heatmap": [
           {
            "colorbar": {
             "outlinewidth": 0,
             "ticks": ""
            },
            "colorscale": [
             [
              0,
              "#0d0887"
             ],
             [
              0.1111111111111111,
              "#46039f"
             ],
             [
              0.2222222222222222,
              "#7201a8"
             ],
             [
              0.3333333333333333,
              "#9c179e"
             ],
             [
              0.4444444444444444,
              "#bd3786"
             ],
             [
              0.5555555555555556,
              "#d8576b"
             ],
             [
              0.6666666666666666,
              "#ed7953"
             ],
             [
              0.7777777777777778,
              "#fb9f3a"
             ],
             [
              0.8888888888888888,
              "#fdca26"
             ],
             [
              1,
              "#f0f921"
             ]
            ],
            "type": "heatmap"
           }
          ],
          "histogram": [
           {
            "marker": {
             "pattern": {
              "fillmode": "overlay",
              "size": 10,
              "solidity": 0.2
             }
            },
            "type": "histogram"
           }
          ],
          "histogram2d": [
           {
            "colorbar": {
             "outlinewidth": 0,
             "ticks": ""
            },
            "colorscale": [
             [
              0,
              "#0d0887"
             ],
             [
              0.1111111111111111,
              "#46039f"
             ],
             [
              0.2222222222222222,
              "#7201a8"
             ],
             [
              0.3333333333333333,
              "#9c179e"
             ],
             [
              0.4444444444444444,
              "#bd3786"
             ],
             [
              0.5555555555555556,
              "#d8576b"
             ],
             [
              0.6666666666666666,
              "#ed7953"
             ],
             [
              0.7777777777777778,
              "#fb9f3a"
             ],
             [
              0.8888888888888888,
              "#fdca26"
             ],
             [
              1,
              "#f0f921"
             ]
            ],
            "type": "histogram2d"
           }
          ],
          "histogram2dcontour": [
           {
            "colorbar": {
             "outlinewidth": 0,
             "ticks": ""
            },
            "colorscale": [
             [
              0,
              "#0d0887"
             ],
             [
              0.1111111111111111,
              "#46039f"
             ],
             [
              0.2222222222222222,
              "#7201a8"
             ],
             [
              0.3333333333333333,
              "#9c179e"
             ],
             [
              0.4444444444444444,
              "#bd3786"
             ],
             [
              0.5555555555555556,
              "#d8576b"
             ],
             [
              0.6666666666666666,
              "#ed7953"
             ],
             [
              0.7777777777777778,
              "#fb9f3a"
             ],
             [
              0.8888888888888888,
              "#fdca26"
             ],
             [
              1,
              "#f0f921"
             ]
            ],
            "type": "histogram2dcontour"
           }
          ],
          "mesh3d": [
           {
            "colorbar": {
             "outlinewidth": 0,
             "ticks": ""
            },
            "type": "mesh3d"
           }
          ],
          "parcoords": [
           {
            "line": {
             "colorbar": {
              "outlinewidth": 0,
              "ticks": ""
             }
            },
            "type": "parcoords"
           }
          ],
          "pie": [
           {
            "automargin": true,
            "type": "pie"
           }
          ],
          "scatter": [
           {
            "fillpattern": {
             "fillmode": "overlay",
             "size": 10,
             "solidity": 0.2
            },
            "type": "scatter"
           }
          ],
          "scatter3d": [
           {
            "line": {
             "colorbar": {
              "outlinewidth": 0,
              "ticks": ""
             }
            },
            "marker": {
             "colorbar": {
              "outlinewidth": 0,
              "ticks": ""
             }
            },
            "type": "scatter3d"
           }
          ],
          "scattercarpet": [
           {
            "marker": {
             "colorbar": {
              "outlinewidth": 0,
              "ticks": ""
             }
            },
            "type": "scattercarpet"
           }
          ],
          "scattergeo": [
           {
            "marker": {
             "colorbar": {
              "outlinewidth": 0,
              "ticks": ""
             }
            },
            "type": "scattergeo"
           }
          ],
          "scattergl": [
           {
            "marker": {
             "colorbar": {
              "outlinewidth": 0,
              "ticks": ""
             }
            },
            "type": "scattergl"
           }
          ],
          "scattermap": [
           {
            "marker": {
             "colorbar": {
              "outlinewidth": 0,
              "ticks": ""
             }
            },
            "type": "scattermap"
           }
          ],
          "scattermapbox": [
           {
            "marker": {
             "colorbar": {
              "outlinewidth": 0,
              "ticks": ""
             }
            },
            "type": "scattermapbox"
           }
          ],
          "scatterpolar": [
           {
            "marker": {
             "colorbar": {
              "outlinewidth": 0,
              "ticks": ""
             }
            },
            "type": "scatterpolar"
           }
          ],
          "scatterpolargl": [
           {
            "marker": {
             "colorbar": {
              "outlinewidth": 0,
              "ticks": ""
             }
            },
            "type": "scatterpolargl"
           }
          ],
          "scatterternary": [
           {
            "marker": {
             "colorbar": {
              "outlinewidth": 0,
              "ticks": ""
             }
            },
            "type": "scatterternary"
           }
          ],
          "surface": [
           {
            "colorbar": {
             "outlinewidth": 0,
             "ticks": ""
            },
            "colorscale": [
             [
              0,
              "#0d0887"
             ],
             [
              0.1111111111111111,
              "#46039f"
             ],
             [
              0.2222222222222222,
              "#7201a8"
             ],
             [
              0.3333333333333333,
              "#9c179e"
             ],
             [
              0.4444444444444444,
              "#bd3786"
             ],
             [
              0.5555555555555556,
              "#d8576b"
             ],
             [
              0.6666666666666666,
              "#ed7953"
             ],
             [
              0.7777777777777778,
              "#fb9f3a"
             ],
             [
              0.8888888888888888,
              "#fdca26"
             ],
             [
              1,
              "#f0f921"
             ]
            ],
            "type": "surface"
           }
          ],
          "table": [
           {
            "cells": {
             "fill": {
              "color": "#EBF0F8"
             },
             "line": {
              "color": "white"
             }
            },
            "header": {
             "fill": {
              "color": "#C8D4E3"
             },
             "line": {
              "color": "white"
             }
            },
            "type": "table"
           }
          ]
         },
         "layout": {
          "annotationdefaults": {
           "arrowcolor": "#2a3f5f",
           "arrowhead": 0,
           "arrowwidth": 1
          },
          "autotypenumbers": "strict",
          "coloraxis": {
           "colorbar": {
            "outlinewidth": 0,
            "ticks": ""
           }
          },
          "colorscale": {
           "diverging": [
            [
             0,
             "#8e0152"
            ],
            [
             0.1,
             "#c51b7d"
            ],
            [
             0.2,
             "#de77ae"
            ],
            [
             0.3,
             "#f1b6da"
            ],
            [
             0.4,
             "#fde0ef"
            ],
            [
             0.5,
             "#f7f7f7"
            ],
            [
             0.6,
             "#e6f5d0"
            ],
            [
             0.7,
             "#b8e186"
            ],
            [
             0.8,
             "#7fbc41"
            ],
            [
             0.9,
             "#4d9221"
            ],
            [
             1,
             "#276419"
            ]
           ],
           "sequential": [
            [
             0,
             "#0d0887"
            ],
            [
             0.1111111111111111,
             "#46039f"
            ],
            [
             0.2222222222222222,
             "#7201a8"
            ],
            [
             0.3333333333333333,
             "#9c179e"
            ],
            [
             0.4444444444444444,
             "#bd3786"
            ],
            [
             0.5555555555555556,
             "#d8576b"
            ],
            [
             0.6666666666666666,
             "#ed7953"
            ],
            [
             0.7777777777777778,
             "#fb9f3a"
            ],
            [
             0.8888888888888888,
             "#fdca26"
            ],
            [
             1,
             "#f0f921"
            ]
           ],
           "sequentialminus": [
            [
             0,
             "#0d0887"
            ],
            [
             0.1111111111111111,
             "#46039f"
            ],
            [
             0.2222222222222222,
             "#7201a8"
            ],
            [
             0.3333333333333333,
             "#9c179e"
            ],
            [
             0.4444444444444444,
             "#bd3786"
            ],
            [
             0.5555555555555556,
             "#d8576b"
            ],
            [
             0.6666666666666666,
             "#ed7953"
            ],
            [
             0.7777777777777778,
             "#fb9f3a"
            ],
            [
             0.8888888888888888,
             "#fdca26"
            ],
            [
             1,
             "#f0f921"
            ]
           ]
          },
          "colorway": [
           "#636efa",
           "#EF553B",
           "#00cc96",
           "#ab63fa",
           "#FFA15A",
           "#19d3f3",
           "#FF6692",
           "#B6E880",
           "#FF97FF",
           "#FECB52"
          ],
          "font": {
           "color": "#2a3f5f"
          },
          "geo": {
           "bgcolor": "white",
           "lakecolor": "white",
           "landcolor": "#E5ECF6",
           "showlakes": true,
           "showland": true,
           "subunitcolor": "white"
          },
          "hoverlabel": {
           "align": "left"
          },
          "hovermode": "closest",
          "mapbox": {
           "style": "light"
          },
          "paper_bgcolor": "white",
          "plot_bgcolor": "#E5ECF6",
          "polar": {
           "angularaxis": {
            "gridcolor": "white",
            "linecolor": "white",
            "ticks": ""
           },
           "bgcolor": "#E5ECF6",
           "radialaxis": {
            "gridcolor": "white",
            "linecolor": "white",
            "ticks": ""
           }
          },
          "scene": {
           "xaxis": {
            "backgroundcolor": "#E5ECF6",
            "gridcolor": "white",
            "gridwidth": 2,
            "linecolor": "white",
            "showbackground": true,
            "ticks": "",
            "zerolinecolor": "white"
           },
           "yaxis": {
            "backgroundcolor": "#E5ECF6",
            "gridcolor": "white",
            "gridwidth": 2,
            "linecolor": "white",
            "showbackground": true,
            "ticks": "",
            "zerolinecolor": "white"
           },
           "zaxis": {
            "backgroundcolor": "#E5ECF6",
            "gridcolor": "white",
            "gridwidth": 2,
            "linecolor": "white",
            "showbackground": true,
            "ticks": "",
            "zerolinecolor": "white"
           }
          },
          "shapedefaults": {
           "line": {
            "color": "#2a3f5f"
           }
          },
          "ternary": {
           "aaxis": {
            "gridcolor": "white",
            "linecolor": "white",
            "ticks": ""
           },
           "baxis": {
            "gridcolor": "white",
            "linecolor": "white",
            "ticks": ""
           },
           "bgcolor": "#E5ECF6",
           "caxis": {
            "gridcolor": "white",
            "linecolor": "white",
            "ticks": ""
           }
          },
          "title": {
           "x": 0.05
          },
          "xaxis": {
           "automargin": true,
           "gridcolor": "white",
           "linecolor": "white",
           "ticks": "",
           "title": {
            "standoff": 15
           },
           "zerolinecolor": "white",
           "zerolinewidth": 2
          },
          "yaxis": {
           "automargin": true,
           "gridcolor": "white",
           "linecolor": "white",
           "ticks": "",
           "title": {
            "standoff": 15
           },
           "zerolinecolor": "white",
           "zerolinewidth": 2
          }
         }
        },
        "xaxis": {
         "anchor": "y",
         "categoryarray": [
          1,
          0
         ],
         "categoryorder": "array",
         "domain": [
          0,
          1
         ],
         "title": {
          "text": "quality"
         }
        },
        "yaxis": {
         "anchor": "x",
         "domain": [
          0,
          1
         ],
         "title": {
          "text": "sweetness"
         }
        }
       }
      }
     },
     "metadata": {},
     "output_type": "display_data"
    }
   ],
   "source": [
    "# BoxPlot Quality x Sweetness\n",
    "px.box(df_frutas, x='quality', y='sweetness', color='quality')"
   ]
  },
  {
   "cell_type": "markdown",
   "id": "2f7bbd71",
   "metadata": {},
   "source": [
    "## A doçura (Sweetness) tem uma influência considerável, em termos de amplitude, não há uma diferença tão grande entre os dois grupos (deslocamento), pode ser um indicador que: geralmente a fruta mais doce ela tende a ter uma qualidade melhor (boa)"
   ]
  },
  {
   "cell_type": "code",
   "execution_count": 44,
   "id": "c906653d",
   "metadata": {},
   "outputs": [
    {
     "data": {
      "text/html": [
       "<div>\n",
       "<style scoped>\n",
       "    .dataframe tbody tr th:only-of-type {\n",
       "        vertical-align: middle;\n",
       "    }\n",
       "\n",
       "    .dataframe tbody tr th {\n",
       "        vertical-align: top;\n",
       "    }\n",
       "\n",
       "    .dataframe thead th {\n",
       "        text-align: right;\n",
       "    }\n",
       "</style>\n",
       "<table border=\"1\" class=\"dataframe\">\n",
       "  <thead>\n",
       "    <tr style=\"text-align: right;\">\n",
       "      <th></th>\n",
       "      <th>size</th>\n",
       "      <th>weight</th>\n",
       "      <th>sweetness</th>\n",
       "      <th>crunchiness</th>\n",
       "      <th>juiciness</th>\n",
       "      <th>ripeness</th>\n",
       "      <th>acidity</th>\n",
       "      <th>quality</th>\n",
       "    </tr>\n",
       "  </thead>\n",
       "  <tbody>\n",
       "    <tr>\n",
       "      <th>size</th>\n",
       "      <td>1.000000</td>\n",
       "      <td>-0.170702</td>\n",
       "      <td>-0.324680</td>\n",
       "      <td>0.169868</td>\n",
       "      <td>-0.018892</td>\n",
       "      <td>-0.134773</td>\n",
       "      <td>0.196218</td>\n",
       "      <td>0.244007</td>\n",
       "    </tr>\n",
       "    <tr>\n",
       "      <th>weight</th>\n",
       "      <td>-0.170702</td>\n",
       "      <td>1.000000</td>\n",
       "      <td>-0.154246</td>\n",
       "      <td>-0.095882</td>\n",
       "      <td>-0.092263</td>\n",
       "      <td>-0.243824</td>\n",
       "      <td>0.016414</td>\n",
       "      <td>0.001421</td>\n",
       "    </tr>\n",
       "    <tr>\n",
       "      <th>sweetness</th>\n",
       "      <td>-0.324680</td>\n",
       "      <td>-0.154246</td>\n",
       "      <td>1.000000</td>\n",
       "      <td>-0.037552</td>\n",
       "      <td>0.095882</td>\n",
       "      <td>-0.273800</td>\n",
       "      <td>0.085999</td>\n",
       "      <td>0.250998</td>\n",
       "    </tr>\n",
       "    <tr>\n",
       "      <th>crunchiness</th>\n",
       "      <td>0.169868</td>\n",
       "      <td>-0.095882</td>\n",
       "      <td>-0.037552</td>\n",
       "      <td>1.000000</td>\n",
       "      <td>-0.259607</td>\n",
       "      <td>-0.201982</td>\n",
       "      <td>0.069943</td>\n",
       "      <td>-0.012376</td>\n",
       "    </tr>\n",
       "    <tr>\n",
       "      <th>juiciness</th>\n",
       "      <td>-0.018892</td>\n",
       "      <td>-0.092263</td>\n",
       "      <td>0.095882</td>\n",
       "      <td>-0.259607</td>\n",
       "      <td>1.000000</td>\n",
       "      <td>-0.097144</td>\n",
       "      <td>0.248714</td>\n",
       "      <td>0.260223</td>\n",
       "    </tr>\n",
       "    <tr>\n",
       "      <th>ripeness</th>\n",
       "      <td>-0.134773</td>\n",
       "      <td>-0.243824</td>\n",
       "      <td>-0.273800</td>\n",
       "      <td>-0.201982</td>\n",
       "      <td>-0.097144</td>\n",
       "      <td>1.000000</td>\n",
       "      <td>-0.202669</td>\n",
       "      <td>-0.264315</td>\n",
       "    </tr>\n",
       "    <tr>\n",
       "      <th>acidity</th>\n",
       "      <td>0.196218</td>\n",
       "      <td>0.016414</td>\n",
       "      <td>0.085999</td>\n",
       "      <td>0.069943</td>\n",
       "      <td>0.248714</td>\n",
       "      <td>-0.202669</td>\n",
       "      <td>1.000000</td>\n",
       "      <td>-0.007697</td>\n",
       "    </tr>\n",
       "    <tr>\n",
       "      <th>quality</th>\n",
       "      <td>0.244007</td>\n",
       "      <td>0.001421</td>\n",
       "      <td>0.250998</td>\n",
       "      <td>-0.012376</td>\n",
       "      <td>0.260223</td>\n",
       "      <td>-0.264315</td>\n",
       "      <td>-0.007697</td>\n",
       "      <td>1.000000</td>\n",
       "    </tr>\n",
       "  </tbody>\n",
       "</table>\n",
       "</div>"
      ],
      "text/plain": [
       "                 size    weight  sweetness  crunchiness  juiciness  ripeness  \\\n",
       "size         1.000000 -0.170702  -0.324680     0.169868  -0.018892 -0.134773   \n",
       "weight      -0.170702  1.000000  -0.154246    -0.095882  -0.092263 -0.243824   \n",
       "sweetness   -0.324680 -0.154246   1.000000    -0.037552   0.095882 -0.273800   \n",
       "crunchiness  0.169868 -0.095882  -0.037552     1.000000  -0.259607 -0.201982   \n",
       "juiciness   -0.018892 -0.092263   0.095882    -0.259607   1.000000 -0.097144   \n",
       "ripeness    -0.134773 -0.243824  -0.273800    -0.201982  -0.097144  1.000000   \n",
       "acidity      0.196218  0.016414   0.085999     0.069943   0.248714 -0.202669   \n",
       "quality      0.244007  0.001421   0.250998    -0.012376   0.260223 -0.264315   \n",
       "\n",
       "              acidity   quality  \n",
       "size         0.196218  0.244007  \n",
       "weight       0.016414  0.001421  \n",
       "sweetness    0.085999  0.250998  \n",
       "crunchiness  0.069943 -0.012376  \n",
       "juiciness    0.248714  0.260223  \n",
       "ripeness    -0.202669 -0.264315  \n",
       "acidity      1.000000 -0.007697  \n",
       "quality     -0.007697  1.000000  "
      ]
     },
     "execution_count": 44,
     "metadata": {},
     "output_type": "execute_result"
    }
   ],
   "source": [
    "# Matriz de correlação\n",
    "corr_matrix = df_frutas.corr()\n",
    "corr_matrix"
   ]
  },
  {
   "cell_type": "code",
   "execution_count": 45,
   "id": "1a02fa87",
   "metadata": {},
   "outputs": [
    {
     "data": {
      "application/vnd.plotly.v1+json": {
       "config": {
        "plotlyServerURL": "https://plot.ly"
       },
       "data": [
        {
         "colorscale": [
          [
           0,
           "rgb(103,0,31)"
          ],
          [
           0.1,
           "rgb(178,24,43)"
          ],
          [
           0.2,
           "rgb(214,96,77)"
          ],
          [
           0.3,
           "rgb(244,165,130)"
          ],
          [
           0.4,
           "rgb(253,219,199)"
          ],
          [
           0.5,
           "rgb(247,247,247)"
          ],
          [
           0.6,
           "rgb(209,229,240)"
          ],
          [
           0.7,
           "rgb(146,197,222)"
          ],
          [
           0.8,
           "rgb(67,147,195)"
          ],
          [
           0.9,
           "rgb(33,102,172)"
          ],
          [
           1,
           "rgb(5,48,97)"
          ]
         ],
         "text": {
          "bdata": "AAAAAAAA8D8agfhKjdnFv7SyYauPx9S/PYPmzzy+xT9ub9eYiViTv1077UU9QMG/V2mZZ6wdyT/a6zSSoDvPPxqB+EqN2cW/AAAAAAAA8D+RgETxV77DvwdpAZW0i7i/9VFUw4iet78K90MvojXPv/+tXy3kzpA/oMD9d9NHVz+0smGrj8fUv5GARPFXvsO/AAAAAAAA8D8nx78cBTqjv5iiyhuxi7g/Fjb0t/CF0b+2GBo6CwS2P+8mA9dbENA/PYPmzzy+xT8HaQGVtIu4vyfHvxwFOqO/AAAAAAAA8D/uKo0JZ53Qvy3a2reI2sm/ZEZJP8nnsT/jcOYusViJv25v15iJWJO/9VFUw4iet7+YosobsYu4P+4qjQlnndC/AAAAAAAA8D9lhqZbb964v2N59UXb1c8/NGRudnyn0D9dO+1FPUDBvwr3Qy+iNc+/Fjb0t/CF0b8t2tq3iNrJv2WGpltv3ri/AAAAAAAA8D+K/Wp9D/HJv/hIjfSI6tC/V2mZZ6wdyT//rV8t5M6QP7YYGjoLBLY/ZEZJP8nnsT9jefVF29XPP4r9an0P8cm/AAAAAAAA8D+TBGAwNId/v9rrNJKgO88/oMD9d9NHVz/vJgPXWxDQP+Nw5i6xWIm/NGRudnyn0D/4SI30iOrQv5MEYDA0h3+/AAAAAAAA8D8=",
          "dtype": "f8",
          "shape": "8, 8"
         },
         "texttemplate": "%{text:.2f}",
         "type": "heatmap",
         "x": [
          "size",
          "weight",
          "sweetness",
          "crunchiness",
          "juiciness",
          "ripeness",
          "acidity",
          "quality"
         ],
         "y": [
          "size",
          "weight",
          "sweetness",
          "crunchiness",
          "juiciness",
          "ripeness",
          "acidity",
          "quality"
         ],
         "z": {
          "bdata": "AAAAAAAA8D8agfhKjdnFv7SyYauPx9S/PYPmzzy+xT9ub9eYiViTv1077UU9QMG/V2mZZ6wdyT/a6zSSoDvPPxqB+EqN2cW/AAAAAAAA8D+RgETxV77DvwdpAZW0i7i/9VFUw4iet78K90MvojXPv/+tXy3kzpA/oMD9d9NHVz+0smGrj8fUv5GARPFXvsO/AAAAAAAA8D8nx78cBTqjv5iiyhuxi7g/Fjb0t/CF0b+2GBo6CwS2P+8mA9dbENA/PYPmzzy+xT8HaQGVtIu4vyfHvxwFOqO/AAAAAAAA8D/uKo0JZ53Qvy3a2reI2sm/ZEZJP8nnsT/jcOYusViJv25v15iJWJO/9VFUw4iet7+YosobsYu4P+4qjQlnndC/AAAAAAAA8D9lhqZbb964v2N59UXb1c8/NGRudnyn0D9dO+1FPUDBvwr3Qy+iNc+/Fjb0t/CF0b8t2tq3iNrJv2WGpltv3ri/AAAAAAAA8D+K/Wp9D/HJv/hIjfSI6tC/V2mZZ6wdyT//rV8t5M6QP7YYGjoLBLY/ZEZJP8nnsT9jefVF29XPP4r9an0P8cm/AAAAAAAA8D+TBGAwNId/v9rrNJKgO88/oMD9d9NHVz/vJgPXWxDQP+Nw5i6xWIm/NGRudnyn0D/4SI30iOrQv5MEYDA0h3+/AAAAAAAA8D8=",
          "dtype": "f8",
          "shape": "8, 8"
         },
         "zmax": 1,
         "zmin": -1
        }
       ],
       "layout": {
        "template": {
         "data": {
          "bar": [
           {
            "error_x": {
             "color": "#2a3f5f"
            },
            "error_y": {
             "color": "#2a3f5f"
            },
            "marker": {
             "line": {
              "color": "#E5ECF6",
              "width": 0.5
             },
             "pattern": {
              "fillmode": "overlay",
              "size": 10,
              "solidity": 0.2
             }
            },
            "type": "bar"
           }
          ],
          "barpolar": [
           {
            "marker": {
             "line": {
              "color": "#E5ECF6",
              "width": 0.5
             },
             "pattern": {
              "fillmode": "overlay",
              "size": 10,
              "solidity": 0.2
             }
            },
            "type": "barpolar"
           }
          ],
          "carpet": [
           {
            "aaxis": {
             "endlinecolor": "#2a3f5f",
             "gridcolor": "white",
             "linecolor": "white",
             "minorgridcolor": "white",
             "startlinecolor": "#2a3f5f"
            },
            "baxis": {
             "endlinecolor": "#2a3f5f",
             "gridcolor": "white",
             "linecolor": "white",
             "minorgridcolor": "white",
             "startlinecolor": "#2a3f5f"
            },
            "type": "carpet"
           }
          ],
          "choropleth": [
           {
            "colorbar": {
             "outlinewidth": 0,
             "ticks": ""
            },
            "type": "choropleth"
           }
          ],
          "contour": [
           {
            "colorbar": {
             "outlinewidth": 0,
             "ticks": ""
            },
            "colorscale": [
             [
              0,
              "#0d0887"
             ],
             [
              0.1111111111111111,
              "#46039f"
             ],
             [
              0.2222222222222222,
              "#7201a8"
             ],
             [
              0.3333333333333333,
              "#9c179e"
             ],
             [
              0.4444444444444444,
              "#bd3786"
             ],
             [
              0.5555555555555556,
              "#d8576b"
             ],
             [
              0.6666666666666666,
              "#ed7953"
             ],
             [
              0.7777777777777778,
              "#fb9f3a"
             ],
             [
              0.8888888888888888,
              "#fdca26"
             ],
             [
              1,
              "#f0f921"
             ]
            ],
            "type": "contour"
           }
          ],
          "contourcarpet": [
           {
            "colorbar": {
             "outlinewidth": 0,
             "ticks": ""
            },
            "type": "contourcarpet"
           }
          ],
          "heatmap": [
           {
            "colorbar": {
             "outlinewidth": 0,
             "ticks": ""
            },
            "colorscale": [
             [
              0,
              "#0d0887"
             ],
             [
              0.1111111111111111,
              "#46039f"
             ],
             [
              0.2222222222222222,
              "#7201a8"
             ],
             [
              0.3333333333333333,
              "#9c179e"
             ],
             [
              0.4444444444444444,
              "#bd3786"
             ],
             [
              0.5555555555555556,
              "#d8576b"
             ],
             [
              0.6666666666666666,
              "#ed7953"
             ],
             [
              0.7777777777777778,
              "#fb9f3a"
             ],
             [
              0.8888888888888888,
              "#fdca26"
             ],
             [
              1,
              "#f0f921"
             ]
            ],
            "type": "heatmap"
           }
          ],
          "histogram": [
           {
            "marker": {
             "pattern": {
              "fillmode": "overlay",
              "size": 10,
              "solidity": 0.2
             }
            },
            "type": "histogram"
           }
          ],
          "histogram2d": [
           {
            "colorbar": {
             "outlinewidth": 0,
             "ticks": ""
            },
            "colorscale": [
             [
              0,
              "#0d0887"
             ],
             [
              0.1111111111111111,
              "#46039f"
             ],
             [
              0.2222222222222222,
              "#7201a8"
             ],
             [
              0.3333333333333333,
              "#9c179e"
             ],
             [
              0.4444444444444444,
              "#bd3786"
             ],
             [
              0.5555555555555556,
              "#d8576b"
             ],
             [
              0.6666666666666666,
              "#ed7953"
             ],
             [
              0.7777777777777778,
              "#fb9f3a"
             ],
             [
              0.8888888888888888,
              "#fdca26"
             ],
             [
              1,
              "#f0f921"
             ]
            ],
            "type": "histogram2d"
           }
          ],
          "histogram2dcontour": [
           {
            "colorbar": {
             "outlinewidth": 0,
             "ticks": ""
            },
            "colorscale": [
             [
              0,
              "#0d0887"
             ],
             [
              0.1111111111111111,
              "#46039f"
             ],
             [
              0.2222222222222222,
              "#7201a8"
             ],
             [
              0.3333333333333333,
              "#9c179e"
             ],
             [
              0.4444444444444444,
              "#bd3786"
             ],
             [
              0.5555555555555556,
              "#d8576b"
             ],
             [
              0.6666666666666666,
              "#ed7953"
             ],
             [
              0.7777777777777778,
              "#fb9f3a"
             ],
             [
              0.8888888888888888,
              "#fdca26"
             ],
             [
              1,
              "#f0f921"
             ]
            ],
            "type": "histogram2dcontour"
           }
          ],
          "mesh3d": [
           {
            "colorbar": {
             "outlinewidth": 0,
             "ticks": ""
            },
            "type": "mesh3d"
           }
          ],
          "parcoords": [
           {
            "line": {
             "colorbar": {
              "outlinewidth": 0,
              "ticks": ""
             }
            },
            "type": "parcoords"
           }
          ],
          "pie": [
           {
            "automargin": true,
            "type": "pie"
           }
          ],
          "scatter": [
           {
            "fillpattern": {
             "fillmode": "overlay",
             "size": 10,
             "solidity": 0.2
            },
            "type": "scatter"
           }
          ],
          "scatter3d": [
           {
            "line": {
             "colorbar": {
              "outlinewidth": 0,
              "ticks": ""
             }
            },
            "marker": {
             "colorbar": {
              "outlinewidth": 0,
              "ticks": ""
             }
            },
            "type": "scatter3d"
           }
          ],
          "scattercarpet": [
           {
            "marker": {
             "colorbar": {
              "outlinewidth": 0,
              "ticks": ""
             }
            },
            "type": "scattercarpet"
           }
          ],
          "scattergeo": [
           {
            "marker": {
             "colorbar": {
              "outlinewidth": 0,
              "ticks": ""
             }
            },
            "type": "scattergeo"
           }
          ],
          "scattergl": [
           {
            "marker": {
             "colorbar": {
              "outlinewidth": 0,
              "ticks": ""
             }
            },
            "type": "scattergl"
           }
          ],
          "scattermap": [
           {
            "marker": {
             "colorbar": {
              "outlinewidth": 0,
              "ticks": ""
             }
            },
            "type": "scattermap"
           }
          ],
          "scattermapbox": [
           {
            "marker": {
             "colorbar": {
              "outlinewidth": 0,
              "ticks": ""
             }
            },
            "type": "scattermapbox"
           }
          ],
          "scatterpolar": [
           {
            "marker": {
             "colorbar": {
              "outlinewidth": 0,
              "ticks": ""
             }
            },
            "type": "scatterpolar"
           }
          ],
          "scatterpolargl": [
           {
            "marker": {
             "colorbar": {
              "outlinewidth": 0,
              "ticks": ""
             }
            },
            "type": "scatterpolargl"
           }
          ],
          "scatterternary": [
           {
            "marker": {
             "colorbar": {
              "outlinewidth": 0,
              "ticks": ""
             }
            },
            "type": "scatterternary"
           }
          ],
          "surface": [
           {
            "colorbar": {
             "outlinewidth": 0,
             "ticks": ""
            },
            "colorscale": [
             [
              0,
              "#0d0887"
             ],
             [
              0.1111111111111111,
              "#46039f"
             ],
             [
              0.2222222222222222,
              "#7201a8"
             ],
             [
              0.3333333333333333,
              "#9c179e"
             ],
             [
              0.4444444444444444,
              "#bd3786"
             ],
             [
              0.5555555555555556,
              "#d8576b"
             ],
             [
              0.6666666666666666,
              "#ed7953"
             ],
             [
              0.7777777777777778,
              "#fb9f3a"
             ],
             [
              0.8888888888888888,
              "#fdca26"
             ],
             [
              1,
              "#f0f921"
             ]
            ],
            "type": "surface"
           }
          ],
          "table": [
           {
            "cells": {
             "fill": {
              "color": "#EBF0F8"
             },
             "line": {
              "color": "white"
             }
            },
            "header": {
             "fill": {
              "color": "#C8D4E3"
             },
             "line": {
              "color": "white"
             }
            },
            "type": "table"
           }
          ]
         },
         "layout": {
          "annotationdefaults": {
           "arrowcolor": "#2a3f5f",
           "arrowhead": 0,
           "arrowwidth": 1
          },
          "autotypenumbers": "strict",
          "coloraxis": {
           "colorbar": {
            "outlinewidth": 0,
            "ticks": ""
           }
          },
          "colorscale": {
           "diverging": [
            [
             0,
             "#8e0152"
            ],
            [
             0.1,
             "#c51b7d"
            ],
            [
             0.2,
             "#de77ae"
            ],
            [
             0.3,
             "#f1b6da"
            ],
            [
             0.4,
             "#fde0ef"
            ],
            [
             0.5,
             "#f7f7f7"
            ],
            [
             0.6,
             "#e6f5d0"
            ],
            [
             0.7,
             "#b8e186"
            ],
            [
             0.8,
             "#7fbc41"
            ],
            [
             0.9,
             "#4d9221"
            ],
            [
             1,
             "#276419"
            ]
           ],
           "sequential": [
            [
             0,
             "#0d0887"
            ],
            [
             0.1111111111111111,
             "#46039f"
            ],
            [
             0.2222222222222222,
             "#7201a8"
            ],
            [
             0.3333333333333333,
             "#9c179e"
            ],
            [
             0.4444444444444444,
             "#bd3786"
            ],
            [
             0.5555555555555556,
             "#d8576b"
            ],
            [
             0.6666666666666666,
             "#ed7953"
            ],
            [
             0.7777777777777778,
             "#fb9f3a"
            ],
            [
             0.8888888888888888,
             "#fdca26"
            ],
            [
             1,
             "#f0f921"
            ]
           ],
           "sequentialminus": [
            [
             0,
             "#0d0887"
            ],
            [
             0.1111111111111111,
             "#46039f"
            ],
            [
             0.2222222222222222,
             "#7201a8"
            ],
            [
             0.3333333333333333,
             "#9c179e"
            ],
            [
             0.4444444444444444,
             "#bd3786"
            ],
            [
             0.5555555555555556,
             "#d8576b"
            ],
            [
             0.6666666666666666,
             "#ed7953"
            ],
            [
             0.7777777777777778,
             "#fb9f3a"
            ],
            [
             0.8888888888888888,
             "#fdca26"
            ],
            [
             1,
             "#f0f921"
            ]
           ]
          },
          "colorway": [
           "#636efa",
           "#EF553B",
           "#00cc96",
           "#ab63fa",
           "#FFA15A",
           "#19d3f3",
           "#FF6692",
           "#B6E880",
           "#FF97FF",
           "#FECB52"
          ],
          "font": {
           "color": "#2a3f5f"
          },
          "geo": {
           "bgcolor": "white",
           "lakecolor": "white",
           "landcolor": "#E5ECF6",
           "showlakes": true,
           "showland": true,
           "subunitcolor": "white"
          },
          "hoverlabel": {
           "align": "left"
          },
          "hovermode": "closest",
          "mapbox": {
           "style": "light"
          },
          "paper_bgcolor": "white",
          "plot_bgcolor": "#E5ECF6",
          "polar": {
           "angularaxis": {
            "gridcolor": "white",
            "linecolor": "white",
            "ticks": ""
           },
           "bgcolor": "#E5ECF6",
           "radialaxis": {
            "gridcolor": "white",
            "linecolor": "white",
            "ticks": ""
           }
          },
          "scene": {
           "xaxis": {
            "backgroundcolor": "#E5ECF6",
            "gridcolor": "white",
            "gridwidth": 2,
            "linecolor": "white",
            "showbackground": true,
            "ticks": "",
            "zerolinecolor": "white"
           },
           "yaxis": {
            "backgroundcolor": "#E5ECF6",
            "gridcolor": "white",
            "gridwidth": 2,
            "linecolor": "white",
            "showbackground": true,
            "ticks": "",
            "zerolinecolor": "white"
           },
           "zaxis": {
            "backgroundcolor": "#E5ECF6",
            "gridcolor": "white",
            "gridwidth": 2,
            "linecolor": "white",
            "showbackground": true,
            "ticks": "",
            "zerolinecolor": "white"
           }
          },
          "shapedefaults": {
           "line": {
            "color": "#2a3f5f"
           }
          },
          "ternary": {
           "aaxis": {
            "gridcolor": "white",
            "linecolor": "white",
            "ticks": ""
           },
           "baxis": {
            "gridcolor": "white",
            "linecolor": "white",
            "ticks": ""
           },
           "bgcolor": "#E5ECF6",
           "caxis": {
            "gridcolor": "white",
            "linecolor": "white",
            "ticks": ""
           }
          },
          "title": {
           "x": 0.05
          },
          "xaxis": {
           "automargin": true,
           "gridcolor": "white",
           "linecolor": "white",
           "ticks": "",
           "title": {
            "standoff": 15
           },
           "zerolinecolor": "white",
           "zerolinewidth": 2
          },
          "yaxis": {
           "automargin": true,
           "gridcolor": "white",
           "linecolor": "white",
           "ticks": "",
           "title": {
            "standoff": 15
           },
           "zerolinecolor": "white",
           "zerolinewidth": 2
          }
         }
        }
       }
      }
     },
     "metadata": {},
     "output_type": "display_data"
    }
   ],
   "source": [
    "# Plot Heatmap\n",
    "fig = go.Figure()\n",
    "\n",
    "fig.add_trace(\n",
    "  go.Heatmap(\n",
    "    x=corr_matrix.columns,\n",
    "    y=corr_matrix.index,\n",
    "    z=np.array(corr_matrix),\n",
    "    text=corr_matrix.values,\n",
    "    texttemplate='%{text:.2f}',\n",
    "    colorscale=px.colors.diverging.RdBu,\n",
    "    zmin=-1,\n",
    "    zmax=1\n",
    "  )\n",
    ")\n",
    "\n",
    "fig.show()"
   ]
  }
 ],
 "metadata": {
  "kernelspec": {
   "display_name": "project-a2-m8HxD8ro",
   "language": "python",
   "name": "python3"
  },
  "language_info": {
   "codemirror_mode": {
    "name": "ipython",
    "version": 3
   },
   "file_extension": ".py",
   "mimetype": "text/x-python",
   "name": "python",
   "nbconvert_exporter": "python",
   "pygments_lexer": "ipython3",
   "version": "3.12.3"
  }
 },
 "nbformat": 4,
 "nbformat_minor": 5
}
