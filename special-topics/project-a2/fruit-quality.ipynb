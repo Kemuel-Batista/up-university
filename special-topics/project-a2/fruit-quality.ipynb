{
 "cells": [
  {
   "cell_type": "code",
   "execution_count": 6,
   "id": "ab50de86",
   "metadata": {},
   "outputs": [],
   "source": [
    "# EDA\n",
    "import pandas as pd\n",
    "import numpy as np\n",
    "import plotly.express as px\n",
    "import plotly.graph_objects as go\n",
    "import seaborn as sns"
   ]
  },
  {
   "cell_type": "code",
   "execution_count": 7,
   "id": "4e5742fd",
   "metadata": {},
   "outputs": [],
   "source": [
    "# Carregar dados para o dataframe\n",
    "df_frutas = pd.read_csv('./datasets/apple_quality.csv')"
   ]
  },
  {
   "cell_type": "code",
   "execution_count": 15,
   "id": "5d117076",
   "metadata": {},
   "outputs": [],
   "source": [
    "# 2. Tratamento inicial\n",
    "# Padronizar nomes das colunas (lowercase e sem espaços)\n",
    "df_frutas.columns = df_frutas.columns.str.strip().str.lower()"
   ]
  },
  {
   "cell_type": "code",
   "execution_count": 16,
   "id": "6546cc82",
   "metadata": {},
   "outputs": [
    {
     "data": {
      "text/html": [
       "<div>\n",
       "<style scoped>\n",
       "    .dataframe tbody tr th:only-of-type {\n",
       "        vertical-align: middle;\n",
       "    }\n",
       "\n",
       "    .dataframe tbody tr th {\n",
       "        vertical-align: top;\n",
       "    }\n",
       "\n",
       "    .dataframe thead th {\n",
       "        text-align: right;\n",
       "    }\n",
       "</style>\n",
       "<table border=\"1\" class=\"dataframe\">\n",
       "  <thead>\n",
       "    <tr style=\"text-align: right;\">\n",
       "      <th></th>\n",
       "      <th>size</th>\n",
       "      <th>weight</th>\n",
       "      <th>sweetness</th>\n",
       "      <th>crunchiness</th>\n",
       "      <th>juiciness</th>\n",
       "      <th>ripeness</th>\n",
       "      <th>acidity</th>\n",
       "      <th>quality</th>\n",
       "    </tr>\n",
       "  </thead>\n",
       "  <tbody>\n",
       "    <tr>\n",
       "      <th>0</th>\n",
       "      <td>-3.970049</td>\n",
       "      <td>-2.512336</td>\n",
       "      <td>5.346330</td>\n",
       "      <td>-1.012009</td>\n",
       "      <td>1.844900</td>\n",
       "      <td>0.329840</td>\n",
       "      <td>-0.491590</td>\n",
       "      <td>1</td>\n",
       "    </tr>\n",
       "    <tr>\n",
       "      <th>1</th>\n",
       "      <td>-1.195217</td>\n",
       "      <td>-2.839257</td>\n",
       "      <td>3.664059</td>\n",
       "      <td>1.588232</td>\n",
       "      <td>0.853286</td>\n",
       "      <td>0.867530</td>\n",
       "      <td>-0.722809</td>\n",
       "      <td>1</td>\n",
       "    </tr>\n",
       "    <tr>\n",
       "      <th>2</th>\n",
       "      <td>-0.292024</td>\n",
       "      <td>-1.351282</td>\n",
       "      <td>-1.738429</td>\n",
       "      <td>-0.342616</td>\n",
       "      <td>2.838636</td>\n",
       "      <td>-0.038033</td>\n",
       "      <td>2.621636</td>\n",
       "      <td>0</td>\n",
       "    </tr>\n",
       "    <tr>\n",
       "      <th>3</th>\n",
       "      <td>-0.657196</td>\n",
       "      <td>-2.271627</td>\n",
       "      <td>1.324874</td>\n",
       "      <td>-0.097875</td>\n",
       "      <td>3.637970</td>\n",
       "      <td>-3.413761</td>\n",
       "      <td>0.790723</td>\n",
       "      <td>1</td>\n",
       "    </tr>\n",
       "    <tr>\n",
       "      <th>4</th>\n",
       "      <td>1.364217</td>\n",
       "      <td>-1.296612</td>\n",
       "      <td>-0.384658</td>\n",
       "      <td>-0.553006</td>\n",
       "      <td>3.030874</td>\n",
       "      <td>-1.303849</td>\n",
       "      <td>0.501984</td>\n",
       "      <td>1</td>\n",
       "    </tr>\n",
       "    <tr>\n",
       "      <th>5</th>\n",
       "      <td>-3.425400</td>\n",
       "      <td>-1.409082</td>\n",
       "      <td>-1.913511</td>\n",
       "      <td>-0.555775</td>\n",
       "      <td>-3.853071</td>\n",
       "      <td>1.914616</td>\n",
       "      <td>-2.981523</td>\n",
       "      <td>0</td>\n",
       "    </tr>\n",
       "    <tr>\n",
       "      <th>6</th>\n",
       "      <td>1.331606</td>\n",
       "      <td>1.635956</td>\n",
       "      <td>0.875974</td>\n",
       "      <td>-1.677798</td>\n",
       "      <td>3.106344</td>\n",
       "      <td>-1.847417</td>\n",
       "      <td>2.414171</td>\n",
       "      <td>1</td>\n",
       "    </tr>\n",
       "    <tr>\n",
       "      <th>7</th>\n",
       "      <td>-1.995462</td>\n",
       "      <td>-0.428958</td>\n",
       "      <td>1.530644</td>\n",
       "      <td>-0.742972</td>\n",
       "      <td>0.158834</td>\n",
       "      <td>0.974438</td>\n",
       "      <td>-1.470125</td>\n",
       "      <td>1</td>\n",
       "    </tr>\n",
       "    <tr>\n",
       "      <th>8</th>\n",
       "      <td>-3.867632</td>\n",
       "      <td>-3.734514</td>\n",
       "      <td>0.986429</td>\n",
       "      <td>-1.207655</td>\n",
       "      <td>2.292873</td>\n",
       "      <td>4.080921</td>\n",
       "      <td>-4.871905</td>\n",
       "      <td>0</td>\n",
       "    </tr>\n",
       "    <tr>\n",
       "      <th>9</th>\n",
       "      <td>-0.727983</td>\n",
       "      <td>-0.442820</td>\n",
       "      <td>-4.092223</td>\n",
       "      <td>0.597513</td>\n",
       "      <td>0.393714</td>\n",
       "      <td>1.620857</td>\n",
       "      <td>2.185608</td>\n",
       "      <td>0</td>\n",
       "    </tr>\n",
       "  </tbody>\n",
       "</table>\n",
       "</div>"
      ],
      "text/plain": [
       "       size    weight  sweetness  crunchiness  juiciness  ripeness   acidity  \\\n",
       "0 -3.970049 -2.512336   5.346330    -1.012009   1.844900  0.329840 -0.491590   \n",
       "1 -1.195217 -2.839257   3.664059     1.588232   0.853286  0.867530 -0.722809   \n",
       "2 -0.292024 -1.351282  -1.738429    -0.342616   2.838636 -0.038033  2.621636   \n",
       "3 -0.657196 -2.271627   1.324874    -0.097875   3.637970 -3.413761  0.790723   \n",
       "4  1.364217 -1.296612  -0.384658    -0.553006   3.030874 -1.303849  0.501984   \n",
       "5 -3.425400 -1.409082  -1.913511    -0.555775  -3.853071  1.914616 -2.981523   \n",
       "6  1.331606  1.635956   0.875974    -1.677798   3.106344 -1.847417  2.414171   \n",
       "7 -1.995462 -0.428958   1.530644    -0.742972   0.158834  0.974438 -1.470125   \n",
       "8 -3.867632 -3.734514   0.986429    -1.207655   2.292873  4.080921 -4.871905   \n",
       "9 -0.727983 -0.442820  -4.092223     0.597513   0.393714  1.620857  2.185608   \n",
       "\n",
       "   quality  \n",
       "0        1  \n",
       "1        1  \n",
       "2        0  \n",
       "3        1  \n",
       "4        1  \n",
       "5        0  \n",
       "6        1  \n",
       "7        1  \n",
       "8        0  \n",
       "9        0  "
      ]
     },
     "execution_count": 16,
     "metadata": {},
     "output_type": "execute_result"
    }
   ],
   "source": [
    "# Visualizar dataframe\n",
    "df_frutas.head(10)"
   ]
  },
  {
   "cell_type": "code",
   "execution_count": 17,
   "id": "21bfd400",
   "metadata": {},
   "outputs": [
    {
     "name": "stdout",
     "output_type": "stream",
     "text": [
      "Valores nulos por coluna:\n",
      "size           0\n",
      "weight         0\n",
      "sweetness      0\n",
      "crunchiness    0\n",
      "juiciness      0\n",
      "ripeness       0\n",
      "acidity        0\n",
      "quality        0\n",
      "dtype: int64\n"
     ]
    }
   ],
   "source": [
    "# Verificar valores nulos\n",
    "print(\"Valores nulos por coluna:\")\n",
    "print(df_frutas.isnull().sum())"
   ]
  },
  {
   "cell_type": "code",
   "execution_count": 19,
   "id": "28fe61a5",
   "metadata": {},
   "outputs": [],
   "source": [
    "# Se houver valores nulos, exemplo de tratamento (remoção ou preenchimento)\n",
    "df_frutas = df_frutas.dropna()"
   ]
  },
  {
   "cell_type": "code",
   "execution_count": 9,
   "id": "1bb150be",
   "metadata": {},
   "outputs": [
    {
     "name": "stdout",
     "output_type": "stream",
     "text": [
      "<class 'pandas.core.frame.DataFrame'>\n",
      "RangeIndex: 4000 entries, 0 to 3999\n",
      "Data columns (total 9 columns):\n",
      " #   Column       Non-Null Count  Dtype  \n",
      "---  ------       --------------  -----  \n",
      " 0   A_id         4000 non-null   int64  \n",
      " 1   Size         4000 non-null   float64\n",
      " 2   Weight       4000 non-null   float64\n",
      " 3   Sweetness    4000 non-null   float64\n",
      " 4   Crunchiness  4000 non-null   float64\n",
      " 5   Juiciness    4000 non-null   float64\n",
      " 6   Ripeness     4000 non-null   float64\n",
      " 7   Acidity      4000 non-null   float64\n",
      " 8   Quality      4000 non-null   object \n",
      "dtypes: float64(7), int64(1), object(1)\n",
      "memory usage: 281.4+ KB\n"
     ]
    }
   ],
   "source": [
    "# Estrutura do dataframe\n",
    "df_frutas.info()"
   ]
  },
  {
   "cell_type": "code",
   "execution_count": 10,
   "id": "bfe11846",
   "metadata": {},
   "outputs": [],
   "source": [
    "# Transformar a variável quality em numérica (0 e 1)\n",
    "df_frutas['Quality'] = (df_frutas['Quality'] == 'good').astype(int)"
   ]
  },
  {
   "cell_type": "code",
   "execution_count": 11,
   "id": "1ce02d26",
   "metadata": {},
   "outputs": [],
   "source": [
    "# Remover a coluna A_id, pois não tem poder preditivo\n",
    "df_frutas.drop(columns=['A_id'], axis=1, inplace=True)"
   ]
  },
  {
   "cell_type": "code",
   "execution_count": 12,
   "id": "9b8819a8",
   "metadata": {},
   "outputs": [
    {
     "data": {
      "application/vnd.plotly.v1+json": {
       "config": {
        "plotlyServerURL": "https://plot.ly"
       },
       "data": [
        {
         "alignmentgroup": "True",
         "hovertemplate": "Quality=%{x}<br>Weight=%{y}<extra></extra>",
         "legendgroup": "1",
         "marker": {
          "color": "#636efa"
         },
         "name": "1",
         "notched": false,
         "offsetgroup": "1",
         "orientation": "v",
         "showlegend": true,
         "type": "box",
         "x": {
          "bdata": "AQEBAQEBAQEBAQEBAQEBAQEBAQEBAQEBAQEBAQEBAQEBAQEBAQEBAQEBAQEBAQEBAQEBAQEBAQEBAQEBAQEBAQEBAQEBAQEBAQEBAQEBAQEBAQEBAQEBAQEBAQEBAQEBAQEBAQEBAQEBAQEBAQEBAQEBAQEBAQEBAQEBAQEBAQEBAQEBAQEBAQEBAQEBAQEBAQEBAQEBAQEBAQEBAQEBAQEBAQEBAQEBAQEBAQEBAQEBAQEBAQEBAQEBAQEBAQEBAQEBAQEBAQEBAQEBAQEBAQEBAQEBAQEBAQEBAQEBAQEBAQEBAQEBAQEBAQEBAQEBAQEBAQEBAQEBAQEBAQEBAQEBAQEBAQEBAQEBAQEBAQEBAQEBAQEBAQEBAQEBAQEBAQEBAQEBAQEBAQEBAQEBAQEBAQEBAQEBAQEBAQEBAQEBAQEBAQEBAQEBAQEBAQEBAQEBAQEBAQEBAQEBAQEBAQEBAQEBAQEBAQEBAQEBAQEBAQEBAQEBAQEBAQEBAQEBAQEBAQEBAQEBAQEBAQEBAQEBAQEBAQEBAQEBAQEBAQEBAQEBAQEBAQEBAQEBAQEBAQEBAQEBAQEBAQEBAQEBAQEBAQEBAQEBAQEBAQEBAQEBAQEBAQEBAQEBAQEBAQEBAQEBAQEBAQEBAQEBAQEBAQEBAQEBAQEBAQEBAQEBAQEBAQEBAQEBAQEBAQEBAQEBAQEBAQEBAQEBAQEBAQEBAQEBAQEBAQEBAQEBAQEBAQEBAQEBAQEBAQEBAQEBAQEBAQEBAQEBAQEBAQEBAQEBAQEBAQEBAQEBAQEBAQEBAQEBAQEBAQEBAQEBAQEBAQEBAQEBAQEBAQEBAQEBAQEBAQEBAQEBAQEBAQEBAQEBAQEBAQEBAQEBAQEBAQEBAQEBAQEBAQEBAQEBAQEBAQEBAQEBAQEBAQEBAQEBAQEBAQEBAQEBAQEBAQEBAQEBAQEBAQEBAQEBAQEBAQEBAQEBAQEBAQEBAQEBAQEBAQEBAQEBAQEBAQEBAQEBAQEBAQEBAQEBAQEBAQEBAQEBAQEBAQEBAQEBAQEBAQEBAQEBAQEBAQEBAQEBAQEBAQEBAQEBAQEBAQEBAQEBAQEBAQEBAQEBAQEBAQEBAQEBAQEBAQEBAQEBAQEBAQEBAQEBAQEBAQEBAQEBAQEBAQEBAQEBAQEBAQEBAQEBAQEBAQEBAQEBAQEBAQEBAQEBAQEBAQEBAQEBAQEBAQEBAQEBAQEBAQEBAQEBAQEBAQEBAQEBAQEBAQEBAQEBAQEBAQEBAQEBAQEBAQEBAQEBAQEBAQEBAQEBAQEBAQEBAQEBAQEBAQEBAQEBAQEBAQEBAQEBAQEBAQEBAQEBAQEBAQEBAQEBAQEBAQEBAQEBAQEBAQEBAQEBAQEBAQEBAQEBAQEBAQEBAQEBAQEBAQEBAQEBAQEBAQEBAQEBAQEBAQEBAQEBAQEBAQEBAQEBAQEBAQEBAQEBAQEBAQEBAQEBAQEBAQEBAQEBAQEBAQEBAQEBAQEBAQEBAQEBAQEBAQEBAQEBAQEBAQEBAQEBAQEBAQEBAQEBAQEBAQEBAQEBAQEBAQEBAQEBAQEBAQEBAQEBAQEBAQEBAQEBAQEBAQEBAQEBAQEBAQEBAQEBAQEBAQEBAQEBAQEBAQEBAQEBAQEBAQEBAQEBAQEBAQEBAQEBAQEBAQEBAQEBAQEBAQEBAQEBAQEBAQEBAQEBAQEBAQEBAQEBAQEBAQEBAQEBAQEBAQEBAQEBAQEBAQEBAQEBAQEBAQEBAQEBAQEBAQEBAQEBAQEBAQEBAQEBAQEBAQEBAQEBAQEBAQEBAQEBAQEBAQEBAQEBAQEBAQEBAQEBAQEBAQEBAQEBAQEBAQEBAQEBAQEBAQEBAQEBAQEBAQEBAQEBAQEBAQEBAQEBAQEBAQEBAQEBAQEBAQEBAQEBAQEBAQEBAQEBAQEBAQEBAQEBAQEBAQEBAQEBAQEBAQEBAQEBAQEBAQEBAQEBAQEBAQEBAQEBAQEBAQEBAQEBAQEBAQEBAQEBAQEBAQEBAQEBAQEBAQEBAQEBAQEBAQEBAQEBAQEBAQEBAQEBAQEBAQEBAQEBAQEBAQEBAQEBAQEBAQEBAQEBAQEBAQEBAQEBAQEBAQEBAQEBAQEBAQEBAQEBAQEBAQEBAQEBAQEBAQEBAQEBAQEBAQEBAQEBAQEBAQEBAQEBAQEBAQEBAQEBAQEBAQEBAQEBAQEBAQEBAQEBAQEBAQEBAQEBAQEBAQEBAQEBAQEBAQEBAQEBAQEBAQEBAQEBAQEBAQEBAQEBAQEBAQEBAQEBAQEBAQEBAQEBAQEBAQEBAQEBAQEBAQEBAQEBAQEBAQEBAQEBAQEBAQEBAQEBAQEBAQEBAQEBAQEBAQEBAQEBAQEBAQEBAQEBAQEBAQEBAQEBAQEBAQEBAQEBAQEBAQEBAQEBAQEBAQEBAQEBAQEBAQEBAQEBAQEBAQEBAQEBAQEBAQEBAQEBAQEBAQEBAQEBAQEBAQEBAQEBAQEBAQEBAQEBAQEBAQEBAQEBAQEBAQEBAQEBAQEBAQEBAQEBAQEBAQEBAQEBAQEBAQEBAQEBAQEBAQEBAQEBAQEBAQEBAQEBAQEBAQEBAQEBAQEBAQEBAQEBAQEBAQEBAQEBAQEBAQEBAQEBAQEBAQEBAQEBAQEBAQEBAQEB",
          "dtype": "i1"
         },
         "x0": " ",
         "xaxis": "x",
         "y": {
          "bdata": "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",
          "dtype": "f8"
         },
         "y0": " ",
         "yaxis": "y"
        },
        {
         "alignmentgroup": "True",
         "hovertemplate": "Quality=%{x}<br>Weight=%{y}<extra></extra>",
         "legendgroup": "0",
         "marker": {
          "color": "#EF553B"
         },
         "name": "0",
         "notched": false,
         "offsetgroup": "0",
         "orientation": "v",
         "showlegend": true,
         "type": "box",
         "x": {
          "bdata": "AAAAAAAAAAAAAAAAAAAAAAAAAAAAAAAAAAAAAAAAAAAAAAAAAAAAAAAAAAAAAAAAAAAAAAAAAAAAAAAAAAAAAAAAAAAAAAAAAAAAAAAAAAAAAAAAAAAAAAAAAAAAAAAAAAAAAAAAAAAAAAAAAAAAAAAAAAAAAAAAAAAAAAAAAAAAAAAAAAAAAAAAAAAAAAAAAAAAAAAAAAAAAAAAAAAAAAAAAAAAAAAAAAAAAAAAAAAAAAAAAAAAAAAAAAAAAAAAAAAAAAAAAAAAAAAAAAAAAAAAAAAAAAAAAAAAAAAAAAAAAAAAAAAAAAAAAAAAAAAAAAAAAAAAAAAAAAAAAAAAAAAAAAAAAAAAAAAAAAAAAAAAAAAAAAAAAAAAAAAAAAAAAAAAAAAAAAAAAAAAAAAAAAAAAAAAAAAAAAAAAAAAAAAAAAAAAAAAAAAAAAAAAAAAAAAAAAAAAAAAAAAAAAAAAAAAAAAAAAAAAAAAAAAAAAAAAAAAAAAAAAAAAAAAAAAAAAAAAAAAAAAAAAAAAAAAAAAAAAAAAAAAAAAAAAAAAAAAAAAAAAAAAAAAAAAAAAAAAAAAAAAAAAAAAAAAAAAAAAAAAAAAAAAAAAAAAAAAAAAAAAAAAAAAAAAAAAAAAAAAAAAAAAAAAAAAAAAAAAAAAAAAAAAAAAAAAAAAAAAAAAAAAAAAAAAAAAAAAAAAAAAAAAAAAAAAAAAAAAAAAAAAAAAAAAAAAAAAAAAAAAAAAAAAAAAAAAAAAAAAAAAAAAAAAAAAAAAAAAAAAAAAAAAAAAAAAAAAAAAAAAAAAAAAAAAAAAAAAAAAAAAAAAAAAAAAAAAAAAAAAAAAAAAAAAAAAAAAAAAAAAAAAAAAAAAAAAAAAAAAAAAAAAAAAAAAAAAAAAAAAAAAAAAAAAAAAAAAAAAAAAAAAAAAAAAAAAAAAAAAAAAAAAAAAAAAAAAAAAAAAAAAAAAAAAAAAAAAAAAAAAAAAAAAAAAAAAAAAAAAAAAAAAAAAAAAAAAAAAAAAAAAAAAAAAAAAAAAAAAAAAAAAAAAAAAAAAAAAAAAAAAAAAAAAAAAAAAAAAAAAAAAAAAAAAAAAAAAAAAAAAAAAAAAAAAAAAAAAAAAAAAAAAAAAAAAAAAAAAAAAAAAAAAAAAAAAAAAAAAAAAAAAAAAAAAAAAAAAAAAAAAAAAAAAAAAAAAAAAAAAAAAAAAAAAAAAAAAAAAAAAAAAAAAAAAAAAAAAAAAAAAAAAAAAAAAAAAAAAAAAAAAAAAAAAAAAAAAAAAAAAAAAAAAAAAAAAAAAAAAAAAAAAAAAAAAAAAAAAAAAAAAAAAAAAAAAAAAAAAAAAAAAAAAAAAAAAAAAAAAAAAAAAAAAAAAAAAAAAAAAAAAAAAAAAAAAAAAAAAAAAAAAAAAAAAAAAAAAAAAAAAAAAAAAAAAAAAAAAAAAAAAAAAAAAAAAAAAAAAAAAAAAAAAAAAAAAAAAAAAAAAAAAAAAAAAAAAAAAAAAAAAAAAAAAAAAAAAAAAAAAAAAAAAAAAAAAAAAAAAAAAAAAAAAAAAAAAAAAAAAAAAAAAAAAAAAAAAAAAAAAAAAAAAAAAAAAAAAAAAAAAAAAAAAAAAAAAAAAAAAAAAAAAAAAAAAAAAAAAAAAAAAAAAAAAAAAAAAAAAAAAAAAAAAAAAAAAAAAAAAAAAAAAAAAAAAAAAAAAAAAAAAAAAAAAAAAAAAAAAAAAAAAAAAAAAAAAAAAAAAAAAAAAAAAAAAAAAAAAAAAAAAAAAAAAAAAAAAAAAAAAAAAAAAAAAAAAAAAAAAAAAAAAAAAAAAAAAAAAAAAAAAAAAAAAAAAAAAAAAAAAAAAAAAAAAAAAAAAAAAAAAAAAAAAAAAAAAAAAAAAAAAAAAAAAAAAAAAAAAAAAAAAAAAAAAAAAAAAAAAAAAAAAAAAAAAAAAAAAAAAAAAAAAAAAAAAAAAAAAAAAAAAAAAAAAAAAAAAAAAAAAAAAAAAAAAAAAAAAAAAAAAAAAAAAAAAAAAAAAAAAAAAAAAAAAAAAAAAAAAAAAAAAAAAAAAAAAAAAAAAAAAAAAAAAAAAAAAAAAAAAAAAAAAAAAAAAAAAAAAAAAAAAAAAAAAAAAAAAAAAAAAAAAAAAAAAAAAAAAAAAAAAAAAAAAAAAAAAAAAAAAAAAAAAAAAAAAAAAAAAAAAAAAAAAAAAAAAAAAAAAAAAAAAAAAAAAAAAAAAAAAAAAAAAAAAAAAAAAAAAAAAAAAAAAAAAAAAAAAAAAAAAAAAAAAAAAAAAAAAAAAAAAAAAAAAAAAAAAAAAAAAAAAAAAAAAAAAAAAAAAAAAAAAAAAAAAAAAAAAAAAAAAAAAAAAAAAAAAAAAAAAAAAAAAAAAAAAAAAAAAAAAAAAAAAAAAAAAAAAAAAAAAAAAAAAAAAAAAAAAAAAAAAAAAAAAAAAAAAAAAAAAAAAAAAAAAAAAAAAAAAAAAAAAAAAAAAAAAAAAAAAAAAAAAAAAAAAAAAAAAAAAAAAAAAAAAAAAAAAAAAAAAAAAAAAAAAAAAAAAAAAAAAAAAAAAAAAAAAAAAAAAAAAAAAAAAAAAAAAAAAAAAAAAAAAAAAAAAAAAAAAAAAAAAAAAAAAAAAAAAAAAAAAAAAAAAAAAAAAAAAAAAAAAAAAAAAAAAAAA==",
          "dtype": "i1"
         },
         "x0": " ",
         "xaxis": "x",
         "y": {
          "bdata": "nC2D3tme9b+94/jHmYv2v6UaW6dI4A3A3teILStX3L8mN5QeqUX1vyF5erRX4P2/imZeQaw0/79PkoMZIJf7P96h2kC3jAfAINSbCh5a5r+IbD6zxh7ovzgVrulv2fa/iZP2ZNAJDMBkCeJxjnDlP7Re9UjPgfo/mnN0hQyO+D8CCFf0EhUCwIZbbsuo8/G/HVSHgVOwA8AgrbBnbyv3vx9MhdaV+wXAkOB2Ay0W6D+f6XFUeOgFQOjNxwbp4eQ//Z/aGO8WAkDHmD/PNCP8v0k/k11mgek/lb0FD1yw9b90ni33NPXwP27vikhjgNC/cdQRjdyVCcDkNYGywa8LwB81+ItxP/2/fGE3Duoy8r9oc/8FQLz0v288Vis+fs4/9CPj8ADB5j+Q8IMUuKz7v+WgRzaewum/kZfpInuMBcCdnrl/E6fZv2Ebjjp8Sr4/XLL8iWJzA8DUvdQjm7gAwEdCLZa6DQHAt4spi9TZC8DHXCs314SCv/ujaBhQ/fa/9SadgNpHCMCuWU0oWzgIwC9gPmOjR/q/wcXy/cA8BMCP4HFKc535v5dB72wTiwjA+H1lyQ8x8r+JjXzV//IEwFkKrt1p1+q/Vu+MkGPmvb8EaK/MyDHrv2kkrAd4tPq/AZNMNVBsqL+scDMrx6NlP3CVj/Pqu9i/9ZmDBc+r9r8nN32CM1z9vyYN7DOSTQjAiPAlEFPr4r8tHqmBkCsHwObyY+9sFwTA9xsv1bPdCMACtxSuTNrhv6sNrrbrcMC/c4XkVbcR9r/FlgxqOez4vz6d4bzuA+K/WQlDCLvtyz+vsAZGY6MBwE+yk8nC+ui/+KV+3lSs8b+kxBuKHBH+v/CId3H8H+u/96bsa5I87z8bOeL7qAfvv7SEKYiJf9q/Ppa1guNg/T8DoM44tPAAwDxUz1nRaADAuYp+mn6EBMCBEpyDMjDfv2sCoub/7wHA/BUo5ZJD+L818KMa9ovgv274jC3MDuq/EO/EoqXP+L+HWWUvpqz6Pw2yqRa4bPO/SARSfiz+9b9HZHYbdt3jP3RttIuFq+e/1Jx6rDKm5r9dyxXyyZH0v4cEOC/hX9k/D5V+dksI/r9ao3lbRAf+v1U25lS2wPe/50x1KffAxz9J3jEjWfPWP4O+O8xzJQDAzvi5/5rc67/UqMeDGyv0v6qKwpG0MfW/0rpSPiCa+r8SeNkPrgEFwBkGjCu3r/e/ADMSs/RTCsACOUwnHr/PP0RboG3Nr/E/eE2o3ThU1b9XFAL74IPjv/xliEcIzeO/YehxFRT5879q1SMX4J7Fv4MdaeohjHq/syk2aq4EAcC0FZtZwq/6vwgd/frkkum/I8/c4Je8uT+M9J29BQLpP3aBlbqZHvi/Ey1+9eYX/r8D1ZpB1xnKP3T56yJA7vS/mFDGmr9J5z9+QlfRCK7xv7qsySBlLpQ/PkDW1+MT8r8ENkVSmwDoP6iYGAWgpe2/kYLcgvvaAcDb49a7d6j1v5FPfkHBW9I/tkLXDBAv1L8nPqm8Pk/sv5RmyLiv8dC/U+WuN8cDAUCwuecc4xrEv7iBEtF1YvS/KQEB0ADRAsBTF+4xmKgBwO38SgMZA/y/A3iZzj+j9b89BT/48C/YP5rgMcIvA9g/Yc7MyRRO4r+J5qsrOQNgv192XEgYWu6/veawVkjk/b9vrxuiSQPUv4nGCBjFEfS/8SMeU+4zx78JusUVelUGwGTB8lcwAM6/mIJRI9YV97/p2cDeQ8D0PzTAgaAOSfA/WDFIORku4z+p+BBrKegDwMIi7P8PjPC/r6OGQyod07/oG30+Xczcv8zpUias8vI/EHepnOwa9T8ts3VhhQL5v7TflmyVkLM/roLbhML6/79KCd3/qXPEvxCk6AfJCAbAks2XD+/GA8AFmhSOPFryv+jcx7PG3to/hKVcD5bp8r+Z6GhfvU3lv2Qt2CJ23QfAn1DELPjQ9T8Ah13PaC/gvxz6A/LgYwfA9FxT3pYJDMA0e/QUpvj6v8tHIpmtc8+/FNhXrwYm8L/pWfJzoXwEwJ4E2y1u2Oa/mDvkepzcB8BdXhHgGj7zP9NjAE0pHPa/NvvEgHN27r/x8WwDNUTQP6LllA5DLPy/1KlOrvnqA8CvW0EpE1Tvv70hnDXJAgFAuSckpv+t/r+pTOoxtdjhP3sakLom78G/I5x0LerjBEB0pjGjHSzov/gfhyvhte2/0QQ0WAso2L+vHrhJk3L7P1gp80UxZ/K/7mYdwOjj/L98DTPHAbL6vxd1GFlT1c0/TPWzRKZ9zz/zzEziDIvxvyparO2VlQTAx95OzMHm7T9iOhfAQLLgP3rSO3Xim9o/tKA34rdr7j9WSq7mKcDjv5dzkZGfbNM/SvWQNZIsCMBS3u+Z6t7iv3PaMmRl1QbAb9P9bkqRuD9ZCt4WgBQFwHrKdCwSPgDAqJj39rbK9r9yTwvp5kYHwDILv2R7vgbAddGIgOApAsBvKpR9Prf6v83gGJfkX8S/Tz/50hMKzD++jA66FwfaP/2g/hgSpvy/8rE/ee1M5L8m6JQfbwz+v5H/L8IHnxLAo9Ap/cFm679MF4MDMZvQvzAuULDRuvW/G7XPHsCm6j8rzge6rKj4P613UjvQNvO/oh2nUCzD4z8lKYvwZvW6P5ENZyg1ZgHAAg40rp5U+b97dRn0YSYFwDeTIHDl67k/86ZQTbHJ6z8EYoaE9571v6TN4AttEuK/Y1RoDLJmxj9wDfLOL/fAP+afG8UylADAFfpMNTR30b80qZTjvQa5P2p01L+OSeC/ipoBkfLR4L/2dcf/cNH8v0X9vhcQ7sS/gx2wv60WA8BjCkiOgzH+vxmL2aQ4zeC/7f9lvIJ0tL+E4RI28q8AwLi/FbHRB+m/5XLpg1jy479f9VJB3WHpP+A/v+omw8Q/MgOfY2PV8b9aHRUMomYEwK8Nrf+H/N0/ShDjchIT8L8vb6bz9VX0v5cb62ZvftO/1/4D6bh7+r+NR2doVdb0v8El3DgdWeM/TZvr4NIE/r+QrYoX27nnP4iLJaqMYgFAorsz+bfiwz9s8NIO/szZP1bsrjoSIv+/We2mA3Uk5b9ko43SjqPlv2uZLdXcbPW/bEXLHPOj0b+Ki+DVK/Lzv46azejpEfW/epXv+Hof+L+TXDM2ypPZPy/JHxH1YPm/YlzcDFju0z/rrQIuKCnhv0YSc/9HBPu/3J7UIpju+7860G7td4L/v/HFYMOoq+A/EhEam/8Sz79dKo+evXvTv3H6YSHGrcm/nJF7maza/r+13I+XEs4QwJAS+BnQnAPAyRijntM25b89noQ8/A0KwMhrOg/iM/G/nwiqkj1M5r//DjOeggjjv5yl0dU3v9c/Ean3weqJ978RancpJOLvv+58rNGMRPC/E2cDuHI51T8ZQ+AYZ9v5v1NuOLJGS8M/kaooieVp8r8B83xFON/TvxEOApok0NS/FMGxx0Hy67+eSZM5M/3/v7v4OxFNy/e/uj3gOCtt9787ZoeVXTLWv54Cibu0oNe/delkS4T90z/Y0y+NNnnxPw100ba4a/O/kLMbQyE+8z/MUtGpQrvev0a5ZLf3ctG/7enR8SSr2b9hvM24/Dnkv0jgGbFyb9k/dd3L5VWZAMA1ttw7mPT6P1ED2BC0s8q/phOFbfYt2b9GoIX6Gbv8v3xuXFewU9O/oys0txKX97/EAZlCjNz+P652xlc4Ure/I/AnLdN09b/M3QVPw4Xzv1akc5JuovW/AuNB/MEF+r/OagC9EIkAQEr2HBkqzdu/n6mLn7wb4r8TvypjuITXP6o+hZOcDgbAgggTdOv98j/V0PR8R/0IwDPWJ04ohwBA4PFs3W259L/lD2FX7uDcP7trSF3kXtq/7JIn/0kyD8BFhl8uBavrP5IfdWR6hPe/3Jfd2lzx9b+vwdydnt/RP+HMWeZHJAnACXGMNFZmBsDIRC5eSuLTP/vJ0UnagKS/MIEZWyGv0z8rw3FGuHzLv78n8v4hyOe/Xn3XyPd2A8AaiapBk3IQwE9E+WEI+em/4I6OsEpX+7++4U2dmITzPwfhgzehofO/FVDqw2HGyL9q7H1wX6v1v6STBUko6Nk/ZcGPLXX30L8rymAdq6r3PwYwZeCArvq/qvmwMqjjyL/YgQtjHxXyvz/pwEkFo/y/edpyEnAu8r+kSSfnywDyv4bC5mrLgwTAPCnQffIN5b+DdokVLmIEwLZWdB4ncuW/MN/HvznBCMAr4jJ22yj7vx4abKNnvv6/tBBPPIjRCcBQfGZdZEEBwBKyXtI51wHAYiVbZ8D087+hTtQtljUIwFH+lWXtggFADd/ZVmdo+L/sU6dmg0rxP88qT/okQvi/zJt84E6F6z9BCXDQF6wPwHjSoVcsCwfAtUuajTVyDsBiMoCwht3Gv6YByHiwd/Q/KUwVFTyI77/5j2EimQblP5+ewDn4aei/XBqrDGQvyz9anE0hOYzxv720BMBI3fC/aKStY7+757/vTGaRLWQIwFp+0f8hRuG/SkiXQ/rJzr+gmgIBgarjvyTl8SsL48m/sVP4qMko8b8oKPTj96r3vyCNDVT7ccQ/JduTnCCF4r+EsIqfFXTkP+jNvZR1kN+/dpc9ad7a/b8PORgSeWwBwPJG8AOzofW/igdX6qC19r8X9cW1DIIAwI/Z+YEikxHA4+YXz+ee+7/5FiyOMBDWvzECXQ3mPfG/TO5Kp4IpA8CQ4zNLlRffvwbS896AZcI/iH9cC0it+r9jjpIVy3oBwLlx+JXoC+K/G7I9V7RpsL85BKWgjz3Kv4NItFRGwv6/W7N0iRNt8L/Ujp7/dzTYv2TyJO5Te/U/Le+J+eJw8L8FnR1k6sL5v4KsHmUBWQDA9gAs3gex7L9rjx6MxoTUv6+ipF/Z2wrAt4e133dfj79RZUtoKBwGwH997rD7Kf2/RNa618Az/L/7Prn5iHDWPxsJ/+UEzAJA/WN68kv14r/zlZGR65YCwB6pvvOL2ve/j+b4A0YaEcB3niLOXefQPww8ptcuOcK//RsUykvR+78C5KzRcJ+5Pw9Zi+zWpPk/Uqk/5vbH4D/aRNqEgzbXvynJbQ0CSfI/Z+CjpcLN9L8j4BocSCb6v7U85m6duPi/syGkE67s4b+S4/Mv7ovTvzM4xiX5IwfAaIGKa/vlxr+5S32BopcAwF+Zt+o60ATAFfVRX/kA3L9OL5EIFjLTP9a+Z8EXeOK/CKWf2Fnw77+R5du9ByjHv2mxLWb4reU/tZJ00p1V0D/B7C7obkvfP/a5cqeIxOG/mc31E1Ro1r91KPnHMRjgv62HJaHRtsW/CzVKZA35/b+SAUAY74zqP41rBxmEZgXA/8DOrQ0u8b+3SoIAsa75v+1obTF3yfW/6uLMNSBg6b+ueYOfoIPov1frmWUcEdo/pzLWSFyR3z/UoKLJSWEAwMY5KU38UQTASH/A560Y3T+B3MyI1Xbzv4OFHCbdoNk/L/ejit2kCsDrNFHSYz4BwEM9Ni9yEgvA0fxVc8WU+78bFRyE1zPivw7bqcgHjt+/bnHeFmRX8L9MN4SIptTxvzqa5semL/i/o7RnMdnB9b/28RwG/Snov41KTzAaYAPAfmJ5ZGcy+b8km9Gt3E3pvxUrtL0nyPe/E5CC6aw19L+bpZcqrvD3v8OxQFFfUgTAUegd8L6rAsCX7PZeHqDNv/RSU8CtI+M/AC3ksWkc2b/oifHedAoBQKO/Mped49o/Wlg13fLO7r8E0m2lsR/YPwFZWtaV6PG/TB+eS4+rzr9bVU8WWVPpPx8QkkwhiADA1s8mfd1G178ug8z2asW+P57aU1FATwHAX4CCLaQL/r8t7k5dSoTyv3i1lcR9x+W/69wIGTUeEcAN6E2RuPHSP5PBY9WmFfK/3/Qa+qg4lj+f6AZ/ydrpv6E7p6rnKADAt7E3A+y76T9i5IhcQI3qv5Y/5M/lXQLA2Me87qro8L9oBPrI1iD0v3fnb5NoKfq/6cqVsQm/zz/RmjgcCn39v1cqVKlsZ7K//72fEL0Z5j9fgsot6isTwMZM+xY4YQ7AAgu5gghZ+78qJkFIrkz6v1fzD2ftcum/F/3ltiT/+7/F+zKXoqTwv8qp+BrdnN2/w/oRTw5o+7+JQzaQLv77v7FT4QxUuxDAupsrc4iy/L+2GS1beTaIP5ATtDZ+WvG/7O3W/yfZ7r/WlH26LroBwGbk4l5Pmvi/5a9RVe+A77+IyTW06rvLP7tYg72qHRDA8q+6FY9dAcAf5Dl+TzT0v2B/chFoe6W/qQxdNUGf9L/putQuxPfwv+u6bkx66PK/01n2vMwk1j/f/7Btnfz3P4DOb1sFuNa/+KSXQUru8r/C2E+6haLvvyyfFbOGhAHAbAg9hLlp17/SEJrMlPD/v+cuTwiZW/O/r/ODe+Q5BcA8JbpDlwP3v+uk1chixt6/w0cV3Ed69L+/Yl5euIfYv+NyCJEWswDA5Wuh9B3t2b/kz5T2NhQMwKEqoRmWSwFA08FslW/80D/BKhkrKlXYP2t6XXqMRuK/PINbfq0h+r9pOfvDyZfzPxU49Vsda+C/hdmZfJKv4L/benHVgfvbvxFmeoxpa+6/l0xDxDVd4z/vyMUJLRr4vzgHHsv61gfARHwb8x7F/7+0J0kj2zv2v126vhl5fJy/sedebMnGzr/TFIo/TV/0v2r5W+SZJfu/IwZPWwK8+r+CoVP/PF8AwPEzquNj7Q3Avs/9RIE47r/x8otKnpblvy/dRRRqCADA6Nz37Nw78L+JRZ+eXU/uvzmrKbwQcvu/+6KaGOaa9L+SToXB+tT0P0Hlg5GjCAHA8LNDXDbT9r8olHaEguP3v/lFJU87V+Q/Ap53DUEg9b9Nqv9xlwThP24Xed1Lb/K/5gtkujM62T+cjMxRt/vvvzPUK9wnlOO/knpUnm6g8b+G+teeyxcFwNn4Amm1ts6/KeLzEZg5B8C/kjy7ovLfv6t8UMmZY82/9DDs5JcPDsBeOc6v3o/OvzGuUw1EVPG/GjOvQWSr/L/x/wtN13wEwBYJSiqDbfq/q6JPFoQT7j9IWUqMIT3xv5rwdn0Z7us/FbTifjRa8L/BUjf5KA0FwEi0StT+owHAQ+MNWXL7CMD7aOUcRDT/v9YTZYjGIxPAY15oKptU8L/acEnvyh/8v5teveVFoeS/klE9UKmJB8A28UibLiTgv6KEYQwhYes/gnu33A1Q4T/r5uzh7rPjv9vdH8mOWPS/feUW+i346b/pZYvZz0ACwIzN+e/imd8/yAgxYmKF9b9tvsgG/UW9P68wEhQe8ALAgA7uLExvZ79ptm8Rv7L7v7jK8vlRos2/2Y8cAqrc8L+hjaUNXDXmvxsjthTAT/i/xlgQRMIZ9L9b6BBZIFUCwFJHZKsNtvK/Hr8aFIuP8L/U23FTm4ntv6b/1Xgj0ui/PVWIvvDH1T8LkzJ0r7X7P3bwmvcC8v6/KWQri2n2tb/0dgoNUhXzvxpQthtZ0gfAmut27iQv4j9jWYTw1b/Hv/2s/2G1k9Y/BYkTtqRV/b/h5w5Og+P2v1SUX8f+MOG/tyX2+b3Hwb8SxmiAf8jRv69R3uBu2QbA4vOptNzx9L8o6z+EG13GP/6OPmw9ceM/z3/fJKUH+L9DCJWmq4Xxv9UYvs8CPvI/CjvC8rJx97+CR8j+gWvvv6pn6G+nLOs/tJ1C8PA9+r8svIkpqiHFv5jpupfLq+K/1BHrTT/q5L9gT6aXOREHwDq5+D7Jq/+/3oiv9ZMx1T+zkCUYc3zaP+e7oC0DBAHA1O1ZyD085r+xF3d0PRQOwL+b5efD2fq/zwNa5QJKxT88VpjaLHwAwGiTyOBWUdY/nbbP9UDl+7/TNAxF2GUCwN6zpmAqUQLAu0U65czE5L/Z6R4RB4wGwJ1oxL0Twu0/GJlItcSM979V5i/yh672v56L9uAEmvu/jwzhtLo+xb+uAbng5pbxvz8L0iRiGgPAPX8hftrjEMABRxTw8R3Qv7h5HVC6rfa/zs93MXlV1r8a5MuXWTz7P6h5C0c32gDAM+7sfFaR77/hiMqTX5eFP1SSONWh/fG/JxlN72ERB8C9xXI0D+zHv6RIKa5LmQDAXubtaBna8L+PLpQeFpLuP/LiZOUOoO2/+K1SUSem57+i5ANy8SbsvyyNN7BXg8q/tYisXhMc5r8wjrD5z8Lvv00vgt3o9/q/TrWkELkK+r/HubpUhsD0P7avAeZhDum/SAL2mf+s7L8mjYplHrzpv5gy02oGnAfAAbA3uhU1778TKuwt28rPv4QCk3T9xfC/uFEgkKSE67+Leu4owW/5vwj+RT01sPq/mB/ydZ1W+79OPdWYRWXLP5wiexX9//a/d6J1a9GG5j8QMEZmJh/XvxJKE3rzN9s/w0fvFKWm/L956XK/TVP/v3YvcZCCdgFA/zOKsqVhB8CmOMAs6tzNv2tprenzkfW/JG5amKF747+tuW4NFtEFwPPXA2Tqmee/6ffwcRUH6z8syv3y7zHbvzr6RhGlIwfAd1xXQxdB6D+AZxjKy2Lqv57P8s8b7eO/Ns8l3RVY8b+eEd9oS8bWP/4PTSwyugLA22nTJ6Vn9b+0prYqQtfsv37okSXEi/G/lRfY5KK6+79Uanp5z7ucv2GxqZrw2Pa/YxmPEO30+b+ydwI+mKTTv3Yncp1TBLc/4xCfqxVwAcAQJP5H98rav7IgswQwDfC/qlr2F4a39T+Xy3FnWfkFwJ2jcjl8b/W/Trebyf9QBsDONJ5e4nW8P98cvQBMePq/u/unEbaM679H7I8HjSbRP5Ogdvpsxfu/ZAEO/7vu2r8J5eJHs2QDwBy5XGe9FOQ/cKchaNQ12b+WZT7WQv/7v7+Vsi1/9dE/efZ7s+TJ9z8T1Oa7OMrev6CKZ0XeHBHA1Knrgz6G8b9vU2T2dzv/v/XUsAAi5PE/OmeXsZna4L+0sPOrQ74DwLy5z1xthvk/a+7jxv+N1D9XkIKByfD4v2HUJUv8dfa/qcnLG9kl879pF+B2+boNwIlS2MsKk92/x5CC+Nci9L8HqpqulHb4vzbF1HctCsO/N6p1EKuXAMDU2mmopwjov8n3GO5UZ/m/q+hbW4Iw2D8DQlPFQEIAwNcDwlvbfOS/frYVyNoJ778xNg+IWf34vyeksc34HP6/s1kHnZYj6L8L3r3HjKTzP4mJwVQX5uE/EtxzWX+9479XuvDAVrYDQDmDfUP6ENG/7uUOAPQi+z/5DWcM4G4IwJfCn7sGmN4/9VamXSH79L+7gp39qQ4HwHajppX28QXAiWLWsWgH9r8r255YWwT6v5gatYOQjgXAZFOfxQHd3L+BO9Tf4BXkP1l0vf1RRQHAvnQZUtM7BcBh7hFsh+/lv2omDaVepuQ/68x3zwVezz+4GODbJGHbP3FvdFHRgeQ/c76RpmXP8D9bVQhBzSAJwE6Ybf2tKuC/K8wsVpW8y788p9Cuf23Nv5gE8X8cfPm/XHyaKzQwCMBF0OePqJHzP0HXOki6bMk/ITHzfW6R5r8sKdUQ5WPGP8pGniZeBvM/pDZnAEz8FsDZwxoLY6cFwAQ1Bf1Iu5o/rWBEcJZBAcC/GVO1fzP4vym+n++uQPW/xysLhG8K2D/FCPW1rXTuv6lEeemdz+e/DSP3U2dGA8B9dJ48Iprwv3KhbHYWPBTAar3arw0hAkDlhd5cqCb4v3S2Haa/ewPAis00UtBcB8CowyFT8tkHwCSxb+qtyMW/Q+T09Xzt9z96wyyd11T/v5Betpj93Pg/M6zQqhDJEMAzUlxGy5j4v2F8JGdZzvm/WyRVKpRU5L+vjuv4kuL1vzjyFeQ0su8/OdQaQzNVD8Bq4XDuyFsDwF9rOCoMUbE/lbz4qq6OBsB8EQXkXwT8v6vZ+zt4fQDA7uigx/+jBcBh2dlLq1X1vxUJun5ADuy/ooNHfnHn6b8Tqyon5iD/v2psuXcwCcq/klBOQla4/r8tiZXMD47zv2lV/6uEAv2/9CW+VBgV+L8FJO2IO1kGwLOLINDENLi/cnU6b+dLAcBJRgZt/XrtPwabonL/UOS/8VJZMMswAUBcCbSmP1z0v1d5dLaPY/S/dWRPfGGk0j8GnFQdOrntvwM0K4pABfO/S3NMkr673L8TOFs+ZwLtv/vcFWn+cqw/wMfV0iAYAMCOAtJrpLb8v/9rj8qMwPq/Ij6jub3g079LkvFsst32v62XLfmidALADRmPUgnf5z8SU1w06LTjPwVo5L6Y192/8NG/fU2B7b+sRrbADKwDwD6B6v416dW/tIkpF35m+b/ueIltL6ILwLuz43e0INA/EGfCUgQQA8BaF1lg/x3iv2sHfK5Rd+0/1swiYOlaDMAx5+QIwwfpvx5lhaFcrgbAc266NU4i7b+PDRTgCpTCP0z+AbhU3wHA2UGzWHvZ+r8IcbpsQd2CvxnA+60U9wbAIvY8kb3ksD9rkwSNC8rlv+syX9LWkL+/qTCau7S++L/TRs7y14zjv49+zrnon80/xnsV5isL6L8upYyKyBjhvxwLVhF4nPW/NgiHn37eyD+3H04yAsKxv408X594CwbAyIL8S9bR178o5v3YVDjAPwqQQDp35u+/MD8PbJdx7r9NuXF0XUTlP5nIxUtJrMu/3aL5hyBL879aW6HdW/Dov9/1OUESTxDAs1jCjoo11b/nlf9RGnQHwCEfH+2y0da/lI6BW8ii/79eG7D/yIn3v3K+eAnFm/K/7SMVmN4KBcCsWVDg6fLxv2Ev9lnDdwfA25joPd/AAsA3W9SCcsoAwJgztU5XTf6/+lgQthdC+r+mJnpGRqoBwFlRXaJ1DgrASxL4gbMN3b+BQQLhazkAwOWmDVS0jOE/M7AUHVeQ979TgUngxYEDwGfnXYrl1fc/vJsou/lDpr8608gKJa8IwPK5ZDO/zue/lEf9FhkYAMDIZFpjHNj1P0aeoCSPTec/dBo8KDUP3j84BV+8Eg30P6qz/6Yc9ABAjJe9WFeW4T/RnFDjOVoAwNUOmOp2tLu/UJZ9/kuX6L/4EzDihP//v4CKv/oz1Oy/IP35LW9XB8C462MNMFIGwFtxWLfNNvS/nnx6bMtA+b9Egb0QEtzmv2xLrY84eLc/1IZJDJB98b/FCUQ2LUTrPykQSFJqcAzAas7l+RhfAEApTaaxjVECwHxSI30lA+O/EvdOiF00vr/RsDTK3Mfov1qkmKKtmQfAFO7hB/Gl87+tFGqcOaPVv5TltD8BCOm/tIq/bIks+b90cdfv4pkEwAY34mGLGQDAJ+KgyW1XxT96yVqeYvDwvwhltGrkLsu/t/M3gAJ47b/pcr9Nw8Pyv+yVd6qDKeO/xqe++/y63L9kdogSPGTNv4mK5VQ6MfC/glQOVjG3BsC7ECcHHiXjP93I18YhXADAlyt8sJ7g5D/cWb6l0WEEwKbqKwNftaE/GSPkTKsy979qonlHYOwTwFqYcZJnqPA/Mq6hnLTl0r9VM2spIN3jP673IKZytgLA+hD71BZ2p781bJuvgLz1v6b3Wr6YV/W/uLiioToO+r/GvKAbIMzhP2VWXA1qdv6/f+xq/Aap1L8x0gLpn9bZv1F1Qd09afa/hkf3gDS09z8ivyPPmhgAwI/ja/Xzq+a/4YbEr+siEMCVWH9vxnEBwAryiBGP2gHAzzb6Qg8P1L+bTguOLXz8v5Ym1dnxiOa/HWnWPaVf87/gJEyfva3jv7I4eDNea9A/XpzDeHervr8UHLyBkjrevy7lDxXJsPu/wjoZErOrA8DA/hkVoHz2vynbVYKk8xHAHYbsQsecqb8r035XQycEQAd2gFCsPQTAyez0z0i+5T+oqTrrIK36vxsV9rw05AjA7UMb1g1x6b+qPBIT+rfGv6P2pBEI29K/sSnCE5sXAcA+PUQQ2Hbyv/zzXd/BPus//btfgb8q5L/c5EOSUYzqv8DVMgDxggLAwX0k8ktP/79knksnyL7/v0p8hiGGXsY/2R0+KKnV87+M0WMpzLrzv8yqPyoUReW/+ZI6vzAy8b9c/MYH2GMCwGVW2NTFKvQ/nGnC9pMR/r+NK68O4HL4v5SP1ZQB0+m/VcA9z5929L8zNTkXp/P8v5tZezp/MAJA58ggMDxKB8DqbcR3iD3hv4CxDcid0+G/KbNQUUZb/z92Ila5L4P4vzr1Ytff+tu/qQyufECv/7+NyBL+jibYP2nzu40mR/e/gH0HTpxtwL+FU6LJHoEBwLTEtoT9tAfAerhKm51ZAsDpbEp3rJnMPxqwwGSeIQTAMGQID7nqyz99eX29LT7Rv1CKckM1wOu/MiqFTVi78L+ZJFJ3vgfxPyOOTPLpGvW/HmvwBQCPAsBIs0fixBvvv6MJsYbNKO6/rgkv4rdI4D+rbUtjAioGwA4F5RbwS+6/njs2DGM6BMA1SjmNJKnmv7gXlhRfut2/zCr/aYnG9r9ZaeC00VLxP5uwMldcle6/SopsQLTxsL+08Hvv/R4DQIR+wrPmYuW/qJtC6TYh+b96HFzzEHH8vxVtPSyc0Pq/SERe+ooq5r+qZcY2BPL1vyM3kBxTuQPA4CkFWSYusT+pLWseZGr/v3appF1rYPe/CLiFhnzSCMCghX5SX0EKwIR3t4fEivS/Fjjt6tTj57/Hu7bGhnf7v+D/O2Amo9m/eR+JjzaLBsBFGc1xPtrKv6QFZaM+FALAYqOVQ9cWAMC+LulGXTX/vwwtdvE6j+G/P+U1AjNv9L8CcFt3za3hvwFjx5CtSO2/fxbjrQe03b9P8xlG/aYIQHUzsEkPD/C/NeBeXwx5+D8YFA0f/z/lv+k4DwvbHei/Z3cTP3B8EcD/17tqXpgFwGsZHU5oG/u/fjlnz1tI5785l2ucEKT4v/k8P78Bk+u/AF1NAd2l67/6RuvdXKr5P4GEel0z//O/k7vN8KbQ8L8f0r6l2/MGwEG8JW5SF/C/ZTM7FtHS0L84K200KkfjvzxFrp4KjeW/u1LMysFv9b8LYK5r0rYAwM1YWmRAmKS/VKEA2CCm9b9ClgrMOF3SP9GG/jSuXhHAsz/P7cVa4b8jm8KCr+vyv2t87E9eWwrAotIlb8JFCsCSGb5xkezuPzIONddX4dU/ooiv8NoXsb+IV1fa6TTlv5MZTh3UW/m/bEqqnf5f7L/rThJzklP0vzxjBPl+r9E/WdZRY6/sB8ADXkARhr/0v/BS0/b7muA//FnJGjcNBcBS7DMqGjLzP9lNfPe/yt4/7fmNu7BR9D/T8qidBgHwv1CUuTaqTPe/I5qZydLv7T+hsdNooooEwM6ToPwzwALA9FtVpRaa+b9Jx4s7lOcAwB1Er2KYo9g/4DA+vTMp7b+FjsKab2nZP0EsDY8MiP2/wMYCGv08BsDZ3BUdcH34v95oxQyUOfO/o0POZeSY47+GZN1MQJwAwJ0228P7IQ7AGJFq0H6R5L8f4/ko/VbiPyU6dSyJIPu/25zJhWpd5D/Hwv5VwVTHP5q/I9kM+M0/GgHYKgisBcBhsqIat3MAwL+AY3EtavQ/fq2XGxaX57/tjWbUmJIAwEJfHIpyQe0/Qu2bIXNeBcCt2+ISLhEDwG49Grk0H+u/cL3JFhki6j8rONp2fHkCQAnYRvBK6NO/SwNguEp68r96y+S6eiABwCsnrh6IgOI/KPlseNVyAMAmNq2Bnl/8vyPcbsaM18E/XraJ0l8tBsBvnDA7bcj3v8XeuWfF5vy/KtaUV/Nb4D//be5mSBDiv1LpCUaDBta/wrZDmOJn5r8jRwURU8n1v0XFVtVt1vW/wuIuyoV9AsDqKtAzZdPxvxswMV4/MQTAkljWJuNa+79mshpzINn3vzidgAD7I94/bYaQ/XDj7b/itkac/+vSv5vRQEB/tAPAhKkmu6v88r8Dz1DrHNTZv7v9+YNvtOm/DYvayDjA4L+rrWFR1JP2P0gjNLw4dac/+G7N/6aV3b8TULPQZn4EwG+H4X4bbfa/O3Vhe5gD17/eFzzxQXTvv3agw4brdOm/f5NmJiq1DcBNdlKw3YX5P3jPTPM4S/o/n4a0NT6txL8MCW5dl5ELwB9C1v+rYda/xnJVHZVSB8BTirhhXcruv4yI/8dL7/G/rrPBjKB+AMDYLX4q2XezP5xAQ8VZjVw/HrzFr5fHAsDFHcA5W/TPv0yvTkdg6dS/ANjm6rq4BMACOmH8E6D7vyutQKYVVhHAX2lif67947+P5KtKRtUFwE5Cd7Y45O2/h6qsLiZc+L8hBEwvHVLdv6kZ08UGkPA/cy2mDvwUA8A0sYHzMETrvzBAxs+LguK/vWkoJWz6CcD8BoHw/JkHwLeEuzT3oPa/4esaFmuE7r83miEqlBLSv+mggCrEDOs/sod861GV6r9WZpHA+7e7P4WPuxo2oO+/o+cMSJ//AMCfM7Pgj+Twvw7gkruGy/O/Tg7PrTgu7787J/jRaaDzv3kMYcVBU/C/mZwFmgKz/b+WbmHJlBD7P87SE2v4u/G/ExrpjsP1379oTwlVWFP6v9n/vE3Y/ve/WNVqxqSOB8AtWHUZqIP2v1IY2IYxuda/+EUjThAd7j9aIGD+IRXdP8WwhjXcOuk/NYN++l1F8T+p+ejcBvjjv/CRu3I36ATAPaZdaIicAMBOhUrsckvnv3vtE+wxDP6/UqL8D3brzb8UStNeTMznv/+B3L9evwXA5VIv1G538b/9nSo1NLvkv6LYREUggwbAp3bIxf86ur91yQ3GVTcCwDEj2JI3O9u/MELMs//y07/nnRIpMPHTP0ZHfGuD+tA/98Hl8Mo/9b8GAYADXVLhv1xMfWoGIuQ/kk9QCdaY0b8fQqbGldz+v7K4jXOMxeu/2TGFOQdA6z8LvjvCAV7Lv+m3RyBySwXAtQ6pykCT4L+s1w71pHgDwJqliP+AkgrAX2qBxhdQ9D8PbgriPqEOwO8YojP+R+6//kn4tWCLAsBStWuv9pF6P8+GuhexIuQ/Jda+jYha5D8mYnLsntn/v9ue4UyavvO/j36H5FytAsCiGXp6W6/1PzAfxxGWIf6/4ZWCQPfNCcAytUxWqsP0v3HZwNTR3Oe/aATKj8D7+7/q/Eu6fAfiPxSx9f21C/O/c417ZXHOwr8hVChZ7s8AwPDSIOGImQHAT5sBxuSR9r/HqGN8NUPvv+i6KC5Sjv2/P9dKKksb7r97a/2ASfL5v1aQ0cedvug/c4JXR2V1zj8wVgabWy39vxu+ii6dVuu/Jz3H2O2h8T9TTI+6XoUHwAvWF42lTeA/KTE/nxe647/n6rr89rHSPwJLRn981gjApKrokwUB379RPPxvBI3fPx7u//Cui/C/Da0Msn6W9r96AD9utcoAwPFPBMzXYOy/oeHwKdCM5L/Lo0Eo9HzVv7EREclTMO6/e4pbhrEpAcDS5ibUTQ7DPy+g3ULT6cE/mkV5/YHWCcAS6SGUoyL6v4V1S8EGtwbAFEkzl818nj+3Gj944GAGwL2eKSBf1dG/LE+FF/tt4L/Jd5vKsTvcv5nr9W0PQvy//QWcVB3q57/d+ehOXNADwGu4Vuh0mvM/ZMXv9Ope9L+a9poMMTgGwCt8oXPDSgfA8Ust9r+V5b9RA8Yt+Fryv9MjV/uFaMI/mWGPyPg55L96FG/jnXv+v71oL6WlV/+/YB1LSDnSyL8p2QjJpNAJwNOFTouepOa/iqzNsGWq6r+KxqXtCZnzP56s3gKF8fK/7YrF4V/Tz7+irSzMoCzcP3Z7duQ7JQTActc7cXMp2b8JMv1wYhDwvwSs42U+keK/Q/yvsjcS+L/ylhi8ye7pv04zJsJbd/e/RbieKNbTAsBOF2mvLFMEwHiWG2rmKfa/C62Bv/W35L+t2KGSIYTgv8qQmN3pawTAxqcrmCvl+7/4528wPh7yv67IjBBOFuK/Rwfn/cYp+r/iXBRUjOfKP261w2kFOeC/C9BlU3ZG5b9a1bOcW78GwLce/7GCMtA/6/7NZUz88r/S9HTW8GLuv5fhGRaehQTA5YQBMhEy6z9AMyAsd1/0v1qvPUHPF8C/hrtzWzR68L+HfMDRyMaVP6st2ru9ps2/suLIwXQ79T/R82K5iTADwFhlEVAC//O/JlKQW3Dn97+Qb5ZirI69vzLBEDw17NW/cLUtTqWICMCni0x0IYzXv3+h8YvlrgTA20AkvVRu8r9hAuzgtqcFwMfOKh/BLgvAubjNIZfWDcAZMm3r5oPUP+ZSIqpsz/U/8veN2r0v0b/xYU9rNazvP7U5m3wd4v6/u7ktzm7W+7+zAU2Of8IAwFrkduYgY+y/3/yGiQYpuT8K0Cuo7LfWvwWo+qxqnd0/S1/QjpC77j+7gmCakSEDwDSW4ydrYBPAk1LQ7SXN0z9yZPd6fTHkv+nivQrzlYE/EMGtxesV8b88BuJ3/vXwP06PKfxyduQ/DrjFNIcPBcDBFPL8+oXov8QRBMUYs+g/uJKmDN9UBcAyBDAAtTrqP9+7K40oQQrAdMht/tbD/r9LTBCoEMXwv/W0R5g3wZC/0BBMPSTXCsBwFV5eja0RwJ8eAfqCWOW/As3T+AbACMDg7VikPTnwv3PiqGU2i8U/w4dWSnYk/b9GtraavGMFwKX1Zr3gP9s/BJ3HYzEC9b+2HZxNHKj1vw7AxCe2Bdg/0I6nJySw+78J4GE4qQDxvwFlp61+YQHAV0C9822E978fLh2ZZVADwFvxEj6Jn/Q/CEI4utiBCcCdcGr4+gDlP3duzWLR0PE/JIw+nS1Lxb+0y7KF8p7+v2Z3rhOKuew/Rbt3xW3jhL+5uPPoOY7ZP64RLtXmbts/9T2cIOcm6r/vI8GYUNjrP2ZjpGVEPPC/HGudvdV8AsDJrEbF6znyv3oxNKHAcO6/IZyJyDTT8L/8vLG5zRjxvyW/ZDQJTvO/WYDpxlGP+L9p3n60kGS6vy/rkxYN/QPAkUm4I6th3T/nOpcmyIf0v/Sy188jZeG/P/tA2zKM678DmJ8Mb031v49q9ES5j+C/uHN9+UYH9r9hUgonWrP6v3LZs6rP3Ou/ojOtcHJ/8b8Rtx/96jL1P1yzxdAS3fQ/jdh9gBsVCECU02mgo3z6v+tUkbscj/+/G31QQKgF8z89Qzhm2cP1P9gkfEVw+e6/4AMvi214rL+lrnAjSaoSwEGWqlkMkwHANW4vPgx65L8iLaLhJdzZPxEDvW0vNJ6/xP9G0NJM+7/P30ff6z7DP6GaDHP0hwLA2Z7pveLZCsDSsH2gk0DQv+bmpMKb7+m/J8tx8EobBsBmwtY8rG/1PzyCMsXQ7fy/wYLTOUHm9r+0HL0hWgH2vxhQ+++5qvi/2o8UkWE11L/w/PNL/AXSv+w8Q5uQxO0/fr6LyatPDcCyuYbzUlgAwOcOFNiZvwDAFuQOa4++8r8amGjSnvEMwDYC4o9Rd/m/BSi/pZl//785EXmiVi7ovww/1XR/uQnAvXMM7iX6/L/PHQTqu8WtP7Dul9DWOQvAn28n6xkd27+FLvW0QisEwB7oj9NRKvu//+kxihikAcAawaqgwGDov3MafkQHtXu/p0q8hXMi4b9CgbsP51HbP5avKWKh1g7ANZEdRABK6r8Fbry/atLzP5Mba529UQDA0yZM7UzuzT9UzQwYrQoIwJ2Jb3x7xOa/NzP1GLdhob8R7T8/R6z6v+I1t1v1LZ0/jWt5bmwVBMD1PQQEXJjvv2E3l9vwDfC/9SBqxpW/p79uFHAHngbcP+Q7ywh82fS/EEiUhrKx4z9fqjSKLmX6v/AbUlFkKeC/jVbeI9VWur8GKN3783vkv1by4fRWptA/rH5gH4FF2b9cP/A9y8/Hv3ouGehWYwTAW3vFceWOsr8UxVDz+sACQCUlTDfaiKu/ZCE/vUct/r99u48dAIcNwG+SnbmyNArAPr/M0Kgb6b+0Fa08fjAAwI15VRsnC+U/Y7q38vdK0L/8IBzKiH/jv5XO5dgKcvK/OetqKj+sAMAchD8Xm4v4v/5V2PAaEpQ/hDtXYSG93L+e/Sq7vmHfv9kD6iOpsua/KekxL191+79P5yJvze7sv5haVGPABPM/yrwbLBjAAMCsjoTMgbkHwGqTN36wXfm/TdLjlAzy5b93ucoLl5Lqv+O1oxzyTfg/tiMC+QWg77+4z8zBo/XVP2grsHm1mcQ/b0WDkAMB3L/HpEXRkdkDwGBvuwCWzeC/RnOcj/bV2L9OjJztIALTP1PglwxdqwrArf/qptGq5D+uLtKEIMniv3kqTzxBhNY/zck/vnoo5L/VLldTGnD1v9L01wCsm8m/MB4L9ee/AsCA4AtCYjPmPz4QVuz6SOq/eoRbvRE99L8VpbdR+sAJwJVysmXd5dU/2MhumeXo579Ibr8PFrz8v08TBC/9NgvAjYzJc2Hq079DSEhqwhr9P8sQofMVgu2/YdVJSx9Z37+UsyT+MOv3v9OX+ZwotgbAGSwtB6C3/L80tASQD0f7v7S63C23nuG/c7RmCCDBCMDUc9D6m038v6Zu27WMbdc/C2unCYJ3CMAUFgWPqXr9P4F1F4aaIfm/8UhPoG75A8C8EMmVHO35vwtBL1iB5ATA2uJmLQ9G6b/e82ZOQ/YFwCdW/JWEivC/2d5i1m8s879eg7709h8BwHbaUrvqB+S/CYoaqjRy0r9iKFUSQavMv6XFg6c8IAbAS3RwkuHO+r+nHsIoo4Lkv2lUeIGmVgjAfouVa+Zd2D+fYc92A7/3v6jFsCjEwgJAAAL3uEaG4b+C7laMdnnFv6b3pkzejv2/MfLnGObRBsBuQyes1ofJPy2+qKq+Xd2/WH7P/varuD+vW4j+nvrzv7FqxFcxAP8//Il++O/d3L8gI0BQ5VnyP77m6gHSgvi/e8bXAYRl978n+V1NqKTJP8BKyWigVsu/8JERc/Cs5L8T5mZNZvcCwNO0+71jDADAdeaQZ6YK979OTADGf379vygQWjUmUfO/hvOPD5F69r80RB1vVU74PzWeHMYjp/y/7N//CyfQy7+KaaR6crL4v7y4oerWkfW/El0x0nTu9b+BP9F8mzzvvy+0LsakZdI/Q7lv4M5I6r9jFUEsMxbiv45t0JnfGeu/eRe1HGR55b935xmTr5jdPxq96mYet84/UR0aMvjdob+ozdqbTzXvv21jD5SrXdc/Sejlsvzp8r+QcNtwuDztv1tIylpmtADAwer4yuS5C8C14ECmh0UDwJW1tdQtevm/Rs1Xycfuuz/b7HC9ayW+P4gDtr28lPe/Rn5+kTAp47/YuLLPWSL9vxeeuJh2PNM/bwxk6mzI8L+f+TLXvWPzv+V79do0WgnAz6XyVXb6+r8lwKSJW4vfv58Vknjr3/s/7rz3sS5gxz/NhHAWQLYBwKguULpD9ri/GR3N55VQ/b/dxtHiref0v++NQg4hWd4/OsfeXffO6T8tvV7j+O73v3HEuO0L8AvA1oi51KOtBsD45ioiMkjjv2WSDXsMhAbAyDPh92yG5r/p3PylliTrv2fINHdNYAHAdu6ZzEiK+j+WzexYRKvTvwe0wJMg5AfApSTz4bwwBcBn+f4p/NnrPwNrTr7Wxva/xycEdUHy6L8ByPJ20CH8v7ii1CtTpgDA0sysCKuvxz+ClKp90krov89DxtONiO4/0iTP+jZy1z8r6UJbt/nuvyC3gExCVLo/PuSBVs30/r8y/pkbtYX7P8bSGJFOuwTAOo47f7xi4D9iB/ua2Bjsv/bMEYAf+Ng/eSKDOrfZ3L91+XYVyQTxv7Q6XwoUGwDAaZUfDMqhxD/+jj5sPYUGwNEQGUx/xwjAtgYFkYQ6DcAgJEj72Erjv5KWkjGz1QHAvCw/078a9z+sj/7MXXHmv93+WjM5CgvAKF+bUDJgEMC7JZyKEoAKwPkjwyzfs+Y/VvJEHxI/7D+N+K4+p8v8vx5hpFnRDQHAnVq9kPxL1r+bvsznRLnwv7aU0LbK3vG/soBQsUZKfr+TgntZa2APwN5afMOqBfO/XxJ2cAE387/Mem73K5L7v+zaRlK+H+a/xOCrZ1JU2r/8B9BwfNkMwGJWL4ziv9G/A5ANtm4JhD9nHHvaB5f+vxLcj66ux+g/FbIoKQYZAMC8eJVueDX9v9QXgTI/x+Y/GrIpc83yB8Ch64hkRBn3v2AUu7i4xsg/XC2MAc2w8b/SNG9vk277v/8A9MYMfte/d+RhBAEgA8BaFzOZXGryv3/ML8wH6ei/36u2mChd6L+eD0YhBqDjv6LE0rNlQPG/FywFP9JNBMDKguL30TEFwOs9moxYe/o/FyD6g7sy8r+dxqJbQuUBwCzHzlWfHck/NsJCsCGd8j9PaUu9cbntP1ch4G4b1sg/iKshdkjftr/9ivj4yzH5v1rj/OVE7/2/qzukhbx/tT+JJgQ23e7mv1333xWE3N8/YtYUk/rwCsBChLW6Z2D9v/T3hWl1YPC/QrPK0KGx7b+VT0Xg/pL9v/LszOZsl/6/Y863Lsq2+r/qXS51nzYCwDSEbQix2uq/oLNJodMLBMBGJcZJmUjlv/TCfP056ve/daBozXgj6L9QUcXyhtLUP97PiTr8cO2/bdABw55wA8CpfgNl45npv9YqAf4XguE/a3cXQcbQ2L+H3zFivbIMwH7vnFHmC/m/xNefEHY8/b9fOK9odc3gv5S0J/BqWwHAsrb55ACUAMBNRulgaqzlvxB3g9VJb/O/7snVJWlOB8DdG7NULUkDwE8lWUDOh/O/wUFXL3p/+L/VvhHBXg/lv0R/+UhwkeO/88Rf0plt4T8VDu//BGPnv3jSCTuhhAHA2sYMRZty1j/lKht446TsvxEVkf7qM8q/IkchZoIjgb+WwRHXQ0kAwC/na/n1kfe/m3OIafP4DcByl41mFo30v5GKJwRwWOe//ZkCGB3Q6z9fAL40dSn/v/SZ3L0WLwDA4L+D41U1EMC8boYlYkUGwCRa/6Jcfru/51eZRwPK9z/q1F0llMD8vweiJK3DlLe/ZtWH+P5jCMA/W2d5p6UCwMI6rHWEKQHAJngxN1mv0r9bvDRSqtWzPxyuA1fhRec/gFtU5ECK+7+lhIvVGanzv/lP3peYhgbAIAkSE4hi2r9uLHwLWGMKwNfn2chPnOG/r3RLZk1A4z+vntJCe5XSP8myRI1gmOC/OCSzTwev9b8syIpyTTfyvyV2uf38ywXA9e8oBUXCuL8qNVAguSOyPzOiY/D4egjA4yUZ6MO77D8nEAQ1bWDlv9JOuQEgILE/vBKIpAS/+r837xk4iandP+Fcd35HcOW/Dj5G2VjS9L+K2TpULbv4PwtQCT683cy/031ZCuMv478LQLoQX5HWv0w7ht4aFPG/JW+pGCEbAcA=",
          "dtype": "f8"
         },
         "y0": " ",
         "yaxis": "y"
        }
       ],
       "layout": {
        "boxmode": "overlay",
        "legend": {
         "title": {
          "text": "Quality"
         },
         "tracegroupgap": 0
        },
        "margin": {
         "t": 60
        },
        "template": {
         "data": {
          "bar": [
           {
            "error_x": {
             "color": "#2a3f5f"
            },
            "error_y": {
             "color": "#2a3f5f"
            },
            "marker": {
             "line": {
              "color": "#E5ECF6",
              "width": 0.5
             },
             "pattern": {
              "fillmode": "overlay",
              "size": 10,
              "solidity": 0.2
             }
            },
            "type": "bar"
           }
          ],
          "barpolar": [
           {
            "marker": {
             "line": {
              "color": "#E5ECF6",
              "width": 0.5
             },
             "pattern": {
              "fillmode": "overlay",
              "size": 10,
              "solidity": 0.2
             }
            },
            "type": "barpolar"
           }
          ],
          "carpet": [
           {
            "aaxis": {
             "endlinecolor": "#2a3f5f",
             "gridcolor": "white",
             "linecolor": "white",
             "minorgridcolor": "white",
             "startlinecolor": "#2a3f5f"
            },
            "baxis": {
             "endlinecolor": "#2a3f5f",
             "gridcolor": "white",
             "linecolor": "white",
             "minorgridcolor": "white",
             "startlinecolor": "#2a3f5f"
            },
            "type": "carpet"
           }
          ],
          "choropleth": [
           {
            "colorbar": {
             "outlinewidth": 0,
             "ticks": ""
            },
            "type": "choropleth"
           }
          ],
          "contour": [
           {
            "colorbar": {
             "outlinewidth": 0,
             "ticks": ""
            },
            "colorscale": [
             [
              0,
              "#0d0887"
             ],
             [
              0.1111111111111111,
              "#46039f"
             ],
             [
              0.2222222222222222,
              "#7201a8"
             ],
             [
              0.3333333333333333,
              "#9c179e"
             ],
             [
              0.4444444444444444,
              "#bd3786"
             ],
             [
              0.5555555555555556,
              "#d8576b"
             ],
             [
              0.6666666666666666,
              "#ed7953"
             ],
             [
              0.7777777777777778,
              "#fb9f3a"
             ],
             [
              0.8888888888888888,
              "#fdca26"
             ],
             [
              1,
              "#f0f921"
             ]
            ],
            "type": "contour"
           }
          ],
          "contourcarpet": [
           {
            "colorbar": {
             "outlinewidth": 0,
             "ticks": ""
            },
            "type": "contourcarpet"
           }
          ],
          "heatmap": [
           {
            "colorbar": {
             "outlinewidth": 0,
             "ticks": ""
            },
            "colorscale": [
             [
              0,
              "#0d0887"
             ],
             [
              0.1111111111111111,
              "#46039f"
             ],
             [
              0.2222222222222222,
              "#7201a8"
             ],
             [
              0.3333333333333333,
              "#9c179e"
             ],
             [
              0.4444444444444444,
              "#bd3786"
             ],
             [
              0.5555555555555556,
              "#d8576b"
             ],
             [
              0.6666666666666666,
              "#ed7953"
             ],
             [
              0.7777777777777778,
              "#fb9f3a"
             ],
             [
              0.8888888888888888,
              "#fdca26"
             ],
             [
              1,
              "#f0f921"
             ]
            ],
            "type": "heatmap"
           }
          ],
          "histogram": [
           {
            "marker": {
             "pattern": {
              "fillmode": "overlay",
              "size": 10,
              "solidity": 0.2
             }
            },
            "type": "histogram"
           }
          ],
          "histogram2d": [
           {
            "colorbar": {
             "outlinewidth": 0,
             "ticks": ""
            },
            "colorscale": [
             [
              0,
              "#0d0887"
             ],
             [
              0.1111111111111111,
              "#46039f"
             ],
             [
              0.2222222222222222,
              "#7201a8"
             ],
             [
              0.3333333333333333,
              "#9c179e"
             ],
             [
              0.4444444444444444,
              "#bd3786"
             ],
             [
              0.5555555555555556,
              "#d8576b"
             ],
             [
              0.6666666666666666,
              "#ed7953"
             ],
             [
              0.7777777777777778,
              "#fb9f3a"
             ],
             [
              0.8888888888888888,
              "#fdca26"
             ],
             [
              1,
              "#f0f921"
             ]
            ],
            "type": "histogram2d"
           }
          ],
          "histogram2dcontour": [
           {
            "colorbar": {
             "outlinewidth": 0,
             "ticks": ""
            },
            "colorscale": [
             [
              0,
              "#0d0887"
             ],
             [
              0.1111111111111111,
              "#46039f"
             ],
             [
              0.2222222222222222,
              "#7201a8"
             ],
             [
              0.3333333333333333,
              "#9c179e"
             ],
             [
              0.4444444444444444,
              "#bd3786"
             ],
             [
              0.5555555555555556,
              "#d8576b"
             ],
             [
              0.6666666666666666,
              "#ed7953"
             ],
             [
              0.7777777777777778,
              "#fb9f3a"
             ],
             [
              0.8888888888888888,
              "#fdca26"
             ],
             [
              1,
              "#f0f921"
             ]
            ],
            "type": "histogram2dcontour"
           }
          ],
          "mesh3d": [
           {
            "colorbar": {
             "outlinewidth": 0,
             "ticks": ""
            },
            "type": "mesh3d"
           }
          ],
          "parcoords": [
           {
            "line": {
             "colorbar": {
              "outlinewidth": 0,
              "ticks": ""
             }
            },
            "type": "parcoords"
           }
          ],
          "pie": [
           {
            "automargin": true,
            "type": "pie"
           }
          ],
          "scatter": [
           {
            "fillpattern": {
             "fillmode": "overlay",
             "size": 10,
             "solidity": 0.2
            },
            "type": "scatter"
           }
          ],
          "scatter3d": [
           {
            "line": {
             "colorbar": {
              "outlinewidth": 0,
              "ticks": ""
             }
            },
            "marker": {
             "colorbar": {
              "outlinewidth": 0,
              "ticks": ""
             }
            },
            "type": "scatter3d"
           }
          ],
          "scattercarpet": [
           {
            "marker": {
             "colorbar": {
              "outlinewidth": 0,
              "ticks": ""
             }
            },
            "type": "scattercarpet"
           }
          ],
          "scattergeo": [
           {
            "marker": {
             "colorbar": {
              "outlinewidth": 0,
              "ticks": ""
             }
            },
            "type": "scattergeo"
           }
          ],
          "scattergl": [
           {
            "marker": {
             "colorbar": {
              "outlinewidth": 0,
              "ticks": ""
             }
            },
            "type": "scattergl"
           }
          ],
          "scattermap": [
           {
            "marker": {
             "colorbar": {
              "outlinewidth": 0,
              "ticks": ""
             }
            },
            "type": "scattermap"
           }
          ],
          "scattermapbox": [
           {
            "marker": {
             "colorbar": {
              "outlinewidth": 0,
              "ticks": ""
             }
            },
            "type": "scattermapbox"
           }
          ],
          "scatterpolar": [
           {
            "marker": {
             "colorbar": {
              "outlinewidth": 0,
              "ticks": ""
             }
            },
            "type": "scatterpolar"
           }
          ],
          "scatterpolargl": [
           {
            "marker": {
             "colorbar": {
              "outlinewidth": 0,
              "ticks": ""
             }
            },
            "type": "scatterpolargl"
           }
          ],
          "scatterternary": [
           {
            "marker": {
             "colorbar": {
              "outlinewidth": 0,
              "ticks": ""
             }
            },
            "type": "scatterternary"
           }
          ],
          "surface": [
           {
            "colorbar": {
             "outlinewidth": 0,
             "ticks": ""
            },
            "colorscale": [
             [
              0,
              "#0d0887"
             ],
             [
              0.1111111111111111,
              "#46039f"
             ],
             [
              0.2222222222222222,
              "#7201a8"
             ],
             [
              0.3333333333333333,
              "#9c179e"
             ],
             [
              0.4444444444444444,
              "#bd3786"
             ],
             [
              0.5555555555555556,
              "#d8576b"
             ],
             [
              0.6666666666666666,
              "#ed7953"
             ],
             [
              0.7777777777777778,
              "#fb9f3a"
             ],
             [
              0.8888888888888888,
              "#fdca26"
             ],
             [
              1,
              "#f0f921"
             ]
            ],
            "type": "surface"
           }
          ],
          "table": [
           {
            "cells": {
             "fill": {
              "color": "#EBF0F8"
             },
             "line": {
              "color": "white"
             }
            },
            "header": {
             "fill": {
              "color": "#C8D4E3"
             },
             "line": {
              "color": "white"
             }
            },
            "type": "table"
           }
          ]
         },
         "layout": {
          "annotationdefaults": {
           "arrowcolor": "#2a3f5f",
           "arrowhead": 0,
           "arrowwidth": 1
          },
          "autotypenumbers": "strict",
          "coloraxis": {
           "colorbar": {
            "outlinewidth": 0,
            "ticks": ""
           }
          },
          "colorscale": {
           "diverging": [
            [
             0,
             "#8e0152"
            ],
            [
             0.1,
             "#c51b7d"
            ],
            [
             0.2,
             "#de77ae"
            ],
            [
             0.3,
             "#f1b6da"
            ],
            [
             0.4,
             "#fde0ef"
            ],
            [
             0.5,
             "#f7f7f7"
            ],
            [
             0.6,
             "#e6f5d0"
            ],
            [
             0.7,
             "#b8e186"
            ],
            [
             0.8,
             "#7fbc41"
            ],
            [
             0.9,
             "#4d9221"
            ],
            [
             1,
             "#276419"
            ]
           ],
           "sequential": [
            [
             0,
             "#0d0887"
            ],
            [
             0.1111111111111111,
             "#46039f"
            ],
            [
             0.2222222222222222,
             "#7201a8"
            ],
            [
             0.3333333333333333,
             "#9c179e"
            ],
            [
             0.4444444444444444,
             "#bd3786"
            ],
            [
             0.5555555555555556,
             "#d8576b"
            ],
            [
             0.6666666666666666,
             "#ed7953"
            ],
            [
             0.7777777777777778,
             "#fb9f3a"
            ],
            [
             0.8888888888888888,
             "#fdca26"
            ],
            [
             1,
             "#f0f921"
            ]
           ],
           "sequentialminus": [
            [
             0,
             "#0d0887"
            ],
            [
             0.1111111111111111,
             "#46039f"
            ],
            [
             0.2222222222222222,
             "#7201a8"
            ],
            [
             0.3333333333333333,
             "#9c179e"
            ],
            [
             0.4444444444444444,
             "#bd3786"
            ],
            [
             0.5555555555555556,
             "#d8576b"
            ],
            [
             0.6666666666666666,
             "#ed7953"
            ],
            [
             0.7777777777777778,
             "#fb9f3a"
            ],
            [
             0.8888888888888888,
             "#fdca26"
            ],
            [
             1,
             "#f0f921"
            ]
           ]
          },
          "colorway": [
           "#636efa",
           "#EF553B",
           "#00cc96",
           "#ab63fa",
           "#FFA15A",
           "#19d3f3",
           "#FF6692",
           "#B6E880",
           "#FF97FF",
           "#FECB52"
          ],
          "font": {
           "color": "#2a3f5f"
          },
          "geo": {
           "bgcolor": "white",
           "lakecolor": "white",
           "landcolor": "#E5ECF6",
           "showlakes": true,
           "showland": true,
           "subunitcolor": "white"
          },
          "hoverlabel": {
           "align": "left"
          },
          "hovermode": "closest",
          "mapbox": {
           "style": "light"
          },
          "paper_bgcolor": "white",
          "plot_bgcolor": "#E5ECF6",
          "polar": {
           "angularaxis": {
            "gridcolor": "white",
            "linecolor": "white",
            "ticks": ""
           },
           "bgcolor": "#E5ECF6",
           "radialaxis": {
            "gridcolor": "white",
            "linecolor": "white",
            "ticks": ""
           }
          },
          "scene": {
           "xaxis": {
            "backgroundcolor": "#E5ECF6",
            "gridcolor": "white",
            "gridwidth": 2,
            "linecolor": "white",
            "showbackground": true,
            "ticks": "",
            "zerolinecolor": "white"
           },
           "yaxis": {
            "backgroundcolor": "#E5ECF6",
            "gridcolor": "white",
            "gridwidth": 2,
            "linecolor": "white",
            "showbackground": true,
            "ticks": "",
            "zerolinecolor": "white"
           },
           "zaxis": {
            "backgroundcolor": "#E5ECF6",
            "gridcolor": "white",
            "gridwidth": 2,
            "linecolor": "white",
            "showbackground": true,
            "ticks": "",
            "zerolinecolor": "white"
           }
          },
          "shapedefaults": {
           "line": {
            "color": "#2a3f5f"
           }
          },
          "ternary": {
           "aaxis": {
            "gridcolor": "white",
            "linecolor": "white",
            "ticks": ""
           },
           "baxis": {
            "gridcolor": "white",
            "linecolor": "white",
            "ticks": ""
           },
           "bgcolor": "#E5ECF6",
           "caxis": {
            "gridcolor": "white",
            "linecolor": "white",
            "ticks": ""
           }
          },
          "title": {
           "x": 0.05
          },
          "xaxis": {
           "automargin": true,
           "gridcolor": "white",
           "linecolor": "white",
           "ticks": "",
           "title": {
            "standoff": 15
           },
           "zerolinecolor": "white",
           "zerolinewidth": 2
          },
          "yaxis": {
           "automargin": true,
           "gridcolor": "white",
           "linecolor": "white",
           "ticks": "",
           "title": {
            "standoff": 15
           },
           "zerolinecolor": "white",
           "zerolinewidth": 2
          }
         }
        },
        "xaxis": {
         "anchor": "y",
         "categoryarray": [
          1,
          0
         ],
         "categoryorder": "array",
         "domain": [
          0,
          1
         ],
         "title": {
          "text": "Quality"
         }
        },
        "yaxis": {
         "anchor": "x",
         "domain": [
          0,
          1
         ],
         "title": {
          "text": "Weight"
         }
        }
       }
      }
     },
     "metadata": {},
     "output_type": "display_data"
    }
   ],
   "source": [
    "# BoxPlot Quality x Weight\n",
    "# Será que tem diferença de peso, entre as frutas boas e ruims? Vemos isso atráves de um boxplot\n",
    "px.box(df_frutas, x='Quality', y='Weight', color='Quality')"
   ]
  },
  {
   "cell_type": "code",
   "execution_count": 13,
   "id": "c906653d",
   "metadata": {},
   "outputs": [
    {
     "data": {
      "text/html": [
       "<div>\n",
       "<style scoped>\n",
       "    .dataframe tbody tr th:only-of-type {\n",
       "        vertical-align: middle;\n",
       "    }\n",
       "\n",
       "    .dataframe tbody tr th {\n",
       "        vertical-align: top;\n",
       "    }\n",
       "\n",
       "    .dataframe thead th {\n",
       "        text-align: right;\n",
       "    }\n",
       "</style>\n",
       "<table border=\"1\" class=\"dataframe\">\n",
       "  <thead>\n",
       "    <tr style=\"text-align: right;\">\n",
       "      <th></th>\n",
       "      <th>Size</th>\n",
       "      <th>Weight</th>\n",
       "      <th>Sweetness</th>\n",
       "      <th>Crunchiness</th>\n",
       "      <th>Juiciness</th>\n",
       "      <th>Ripeness</th>\n",
       "      <th>Acidity</th>\n",
       "      <th>Quality</th>\n",
       "    </tr>\n",
       "  </thead>\n",
       "  <tbody>\n",
       "    <tr>\n",
       "      <th>Size</th>\n",
       "      <td>1.000000</td>\n",
       "      <td>-0.170702</td>\n",
       "      <td>-0.324680</td>\n",
       "      <td>0.169868</td>\n",
       "      <td>-0.018892</td>\n",
       "      <td>-0.134773</td>\n",
       "      <td>0.196218</td>\n",
       "      <td>0.244007</td>\n",
       "    </tr>\n",
       "    <tr>\n",
       "      <th>Weight</th>\n",
       "      <td>-0.170702</td>\n",
       "      <td>1.000000</td>\n",
       "      <td>-0.154246</td>\n",
       "      <td>-0.095882</td>\n",
       "      <td>-0.092263</td>\n",
       "      <td>-0.243824</td>\n",
       "      <td>0.016414</td>\n",
       "      <td>0.001421</td>\n",
       "    </tr>\n",
       "    <tr>\n",
       "      <th>Sweetness</th>\n",
       "      <td>-0.324680</td>\n",
       "      <td>-0.154246</td>\n",
       "      <td>1.000000</td>\n",
       "      <td>-0.037552</td>\n",
       "      <td>0.095882</td>\n",
       "      <td>-0.273800</td>\n",
       "      <td>0.085999</td>\n",
       "      <td>0.250998</td>\n",
       "    </tr>\n",
       "    <tr>\n",
       "      <th>Crunchiness</th>\n",
       "      <td>0.169868</td>\n",
       "      <td>-0.095882</td>\n",
       "      <td>-0.037552</td>\n",
       "      <td>1.000000</td>\n",
       "      <td>-0.259607</td>\n",
       "      <td>-0.201982</td>\n",
       "      <td>0.069943</td>\n",
       "      <td>-0.012376</td>\n",
       "    </tr>\n",
       "    <tr>\n",
       "      <th>Juiciness</th>\n",
       "      <td>-0.018892</td>\n",
       "      <td>-0.092263</td>\n",
       "      <td>0.095882</td>\n",
       "      <td>-0.259607</td>\n",
       "      <td>1.000000</td>\n",
       "      <td>-0.097144</td>\n",
       "      <td>0.248714</td>\n",
       "      <td>0.260223</td>\n",
       "    </tr>\n",
       "    <tr>\n",
       "      <th>Ripeness</th>\n",
       "      <td>-0.134773</td>\n",
       "      <td>-0.243824</td>\n",
       "      <td>-0.273800</td>\n",
       "      <td>-0.201982</td>\n",
       "      <td>-0.097144</td>\n",
       "      <td>1.000000</td>\n",
       "      <td>-0.202669</td>\n",
       "      <td>-0.264315</td>\n",
       "    </tr>\n",
       "    <tr>\n",
       "      <th>Acidity</th>\n",
       "      <td>0.196218</td>\n",
       "      <td>0.016414</td>\n",
       "      <td>0.085999</td>\n",
       "      <td>0.069943</td>\n",
       "      <td>0.248714</td>\n",
       "      <td>-0.202669</td>\n",
       "      <td>1.000000</td>\n",
       "      <td>-0.007697</td>\n",
       "    </tr>\n",
       "    <tr>\n",
       "      <th>Quality</th>\n",
       "      <td>0.244007</td>\n",
       "      <td>0.001421</td>\n",
       "      <td>0.250998</td>\n",
       "      <td>-0.012376</td>\n",
       "      <td>0.260223</td>\n",
       "      <td>-0.264315</td>\n",
       "      <td>-0.007697</td>\n",
       "      <td>1.000000</td>\n",
       "    </tr>\n",
       "  </tbody>\n",
       "</table>\n",
       "</div>"
      ],
      "text/plain": [
       "                 Size    Weight  Sweetness  Crunchiness  Juiciness  Ripeness  \\\n",
       "Size         1.000000 -0.170702  -0.324680     0.169868  -0.018892 -0.134773   \n",
       "Weight      -0.170702  1.000000  -0.154246    -0.095882  -0.092263 -0.243824   \n",
       "Sweetness   -0.324680 -0.154246   1.000000    -0.037552   0.095882 -0.273800   \n",
       "Crunchiness  0.169868 -0.095882  -0.037552     1.000000  -0.259607 -0.201982   \n",
       "Juiciness   -0.018892 -0.092263   0.095882    -0.259607   1.000000 -0.097144   \n",
       "Ripeness    -0.134773 -0.243824  -0.273800    -0.201982  -0.097144  1.000000   \n",
       "Acidity      0.196218  0.016414   0.085999     0.069943   0.248714 -0.202669   \n",
       "Quality      0.244007  0.001421   0.250998    -0.012376   0.260223 -0.264315   \n",
       "\n",
       "              Acidity   Quality  \n",
       "Size         0.196218  0.244007  \n",
       "Weight       0.016414  0.001421  \n",
       "Sweetness    0.085999  0.250998  \n",
       "Crunchiness  0.069943 -0.012376  \n",
       "Juiciness    0.248714  0.260223  \n",
       "Ripeness    -0.202669 -0.264315  \n",
       "Acidity      1.000000 -0.007697  \n",
       "Quality     -0.007697  1.000000  "
      ]
     },
     "execution_count": 13,
     "metadata": {},
     "output_type": "execute_result"
    }
   ],
   "source": [
    "# Matriz de correlação\n",
    "corr_matrix = df_frutas.corr()\n",
    "corr_matrix"
   ]
  },
  {
   "cell_type": "code",
   "execution_count": 14,
   "id": "1a02fa87",
   "metadata": {},
   "outputs": [
    {
     "data": {
      "application/vnd.plotly.v1+json": {
       "config": {
        "plotlyServerURL": "https://plot.ly"
       },
       "data": [
        {
         "colorscale": [
          [
           0,
           "rgb(103,0,31)"
          ],
          [
           0.1,
           "rgb(178,24,43)"
          ],
          [
           0.2,
           "rgb(214,96,77)"
          ],
          [
           0.3,
           "rgb(244,165,130)"
          ],
          [
           0.4,
           "rgb(253,219,199)"
          ],
          [
           0.5,
           "rgb(247,247,247)"
          ],
          [
           0.6,
           "rgb(209,229,240)"
          ],
          [
           0.7,
           "rgb(146,197,222)"
          ],
          [
           0.8,
           "rgb(67,147,195)"
          ],
          [
           0.9,
           "rgb(33,102,172)"
          ],
          [
           1,
           "rgb(5,48,97)"
          ]
         ],
         "text": {
          "bdata": "AAAAAAAA8D8agfhKjdnFv7SyYauPx9S/PYPmzzy+xT9ub9eYiViTv1077UU9QMG/V2mZZ6wdyT/a6zSSoDvPPxqB+EqN2cW/AAAAAAAA8D+RgETxV77DvwdpAZW0i7i/9VFUw4iet78K90MvojXPv/+tXy3kzpA/oMD9d9NHVz+0smGrj8fUv5GARPFXvsO/AAAAAAAA8D8nx78cBTqjv5iiyhuxi7g/Fjb0t/CF0b+2GBo6CwS2P+8mA9dbENA/PYPmzzy+xT8HaQGVtIu4vyfHvxwFOqO/AAAAAAAA8D/uKo0JZ53Qvy3a2reI2sm/ZEZJP8nnsT/jcOYusViJv25v15iJWJO/9VFUw4iet7+YosobsYu4P+4qjQlnndC/AAAAAAAA8D9lhqZbb964v2N59UXb1c8/NGRudnyn0D9dO+1FPUDBvwr3Qy+iNc+/Fjb0t/CF0b8t2tq3iNrJv2WGpltv3ri/AAAAAAAA8D+K/Wp9D/HJv/hIjfSI6tC/V2mZZ6wdyT//rV8t5M6QP7YYGjoLBLY/ZEZJP8nnsT9jefVF29XPP4r9an0P8cm/AAAAAAAA8D+TBGAwNId/v9rrNJKgO88/oMD9d9NHVz/vJgPXWxDQP+Nw5i6xWIm/NGRudnyn0D/4SI30iOrQv5MEYDA0h3+/AAAAAAAA8D8=",
          "dtype": "f8",
          "shape": "8, 8"
         },
         "texttemplate": "%{text:.2f}",
         "type": "heatmap",
         "x": [
          "Size",
          "Weight",
          "Sweetness",
          "Crunchiness",
          "Juiciness",
          "Ripeness",
          "Acidity",
          "Quality"
         ],
         "y": [
          "Size",
          "Weight",
          "Sweetness",
          "Crunchiness",
          "Juiciness",
          "Ripeness",
          "Acidity",
          "Quality"
         ],
         "z": {
          "bdata": "AAAAAAAA8D8agfhKjdnFv7SyYauPx9S/PYPmzzy+xT9ub9eYiViTv1077UU9QMG/V2mZZ6wdyT/a6zSSoDvPPxqB+EqN2cW/AAAAAAAA8D+RgETxV77DvwdpAZW0i7i/9VFUw4iet78K90MvojXPv/+tXy3kzpA/oMD9d9NHVz+0smGrj8fUv5GARPFXvsO/AAAAAAAA8D8nx78cBTqjv5iiyhuxi7g/Fjb0t/CF0b+2GBo6CwS2P+8mA9dbENA/PYPmzzy+xT8HaQGVtIu4vyfHvxwFOqO/AAAAAAAA8D/uKo0JZ53Qvy3a2reI2sm/ZEZJP8nnsT/jcOYusViJv25v15iJWJO/9VFUw4iet7+YosobsYu4P+4qjQlnndC/AAAAAAAA8D9lhqZbb964v2N59UXb1c8/NGRudnyn0D9dO+1FPUDBvwr3Qy+iNc+/Fjb0t/CF0b8t2tq3iNrJv2WGpltv3ri/AAAAAAAA8D+K/Wp9D/HJv/hIjfSI6tC/V2mZZ6wdyT//rV8t5M6QP7YYGjoLBLY/ZEZJP8nnsT9jefVF29XPP4r9an0P8cm/AAAAAAAA8D+TBGAwNId/v9rrNJKgO88/oMD9d9NHVz/vJgPXWxDQP+Nw5i6xWIm/NGRudnyn0D/4SI30iOrQv5MEYDA0h3+/AAAAAAAA8D8=",
          "dtype": "f8",
          "shape": "8, 8"
         },
         "zmax": 1,
         "zmin": -1
        }
       ],
       "layout": {
        "template": {
         "data": {
          "bar": [
           {
            "error_x": {
             "color": "#2a3f5f"
            },
            "error_y": {
             "color": "#2a3f5f"
            },
            "marker": {
             "line": {
              "color": "#E5ECF6",
              "width": 0.5
             },
             "pattern": {
              "fillmode": "overlay",
              "size": 10,
              "solidity": 0.2
             }
            },
            "type": "bar"
           }
          ],
          "barpolar": [
           {
            "marker": {
             "line": {
              "color": "#E5ECF6",
              "width": 0.5
             },
             "pattern": {
              "fillmode": "overlay",
              "size": 10,
              "solidity": 0.2
             }
            },
            "type": "barpolar"
           }
          ],
          "carpet": [
           {
            "aaxis": {
             "endlinecolor": "#2a3f5f",
             "gridcolor": "white",
             "linecolor": "white",
             "minorgridcolor": "white",
             "startlinecolor": "#2a3f5f"
            },
            "baxis": {
             "endlinecolor": "#2a3f5f",
             "gridcolor": "white",
             "linecolor": "white",
             "minorgridcolor": "white",
             "startlinecolor": "#2a3f5f"
            },
            "type": "carpet"
           }
          ],
          "choropleth": [
           {
            "colorbar": {
             "outlinewidth": 0,
             "ticks": ""
            },
            "type": "choropleth"
           }
          ],
          "contour": [
           {
            "colorbar": {
             "outlinewidth": 0,
             "ticks": ""
            },
            "colorscale": [
             [
              0,
              "#0d0887"
             ],
             [
              0.1111111111111111,
              "#46039f"
             ],
             [
              0.2222222222222222,
              "#7201a8"
             ],
             [
              0.3333333333333333,
              "#9c179e"
             ],
             [
              0.4444444444444444,
              "#bd3786"
             ],
             [
              0.5555555555555556,
              "#d8576b"
             ],
             [
              0.6666666666666666,
              "#ed7953"
             ],
             [
              0.7777777777777778,
              "#fb9f3a"
             ],
             [
              0.8888888888888888,
              "#fdca26"
             ],
             [
              1,
              "#f0f921"
             ]
            ],
            "type": "contour"
           }
          ],
          "contourcarpet": [
           {
            "colorbar": {
             "outlinewidth": 0,
             "ticks": ""
            },
            "type": "contourcarpet"
           }
          ],
          "heatmap": [
           {
            "colorbar": {
             "outlinewidth": 0,
             "ticks": ""
            },
            "colorscale": [
             [
              0,
              "#0d0887"
             ],
             [
              0.1111111111111111,
              "#46039f"
             ],
             [
              0.2222222222222222,
              "#7201a8"
             ],
             [
              0.3333333333333333,
              "#9c179e"
             ],
             [
              0.4444444444444444,
              "#bd3786"
             ],
             [
              0.5555555555555556,
              "#d8576b"
             ],
             [
              0.6666666666666666,
              "#ed7953"
             ],
             [
              0.7777777777777778,
              "#fb9f3a"
             ],
             [
              0.8888888888888888,
              "#fdca26"
             ],
             [
              1,
              "#f0f921"
             ]
            ],
            "type": "heatmap"
           }
          ],
          "histogram": [
           {
            "marker": {
             "pattern": {
              "fillmode": "overlay",
              "size": 10,
              "solidity": 0.2
             }
            },
            "type": "histogram"
           }
          ],
          "histogram2d": [
           {
            "colorbar": {
             "outlinewidth": 0,
             "ticks": ""
            },
            "colorscale": [
             [
              0,
              "#0d0887"
             ],
             [
              0.1111111111111111,
              "#46039f"
             ],
             [
              0.2222222222222222,
              "#7201a8"
             ],
             [
              0.3333333333333333,
              "#9c179e"
             ],
             [
              0.4444444444444444,
              "#bd3786"
             ],
             [
              0.5555555555555556,
              "#d8576b"
             ],
             [
              0.6666666666666666,
              "#ed7953"
             ],
             [
              0.7777777777777778,
              "#fb9f3a"
             ],
             [
              0.8888888888888888,
              "#fdca26"
             ],
             [
              1,
              "#f0f921"
             ]
            ],
            "type": "histogram2d"
           }
          ],
          "histogram2dcontour": [
           {
            "colorbar": {
             "outlinewidth": 0,
             "ticks": ""
            },
            "colorscale": [
             [
              0,
              "#0d0887"
             ],
             [
              0.1111111111111111,
              "#46039f"
             ],
             [
              0.2222222222222222,
              "#7201a8"
             ],
             [
              0.3333333333333333,
              "#9c179e"
             ],
             [
              0.4444444444444444,
              "#bd3786"
             ],
             [
              0.5555555555555556,
              "#d8576b"
             ],
             [
              0.6666666666666666,
              "#ed7953"
             ],
             [
              0.7777777777777778,
              "#fb9f3a"
             ],
             [
              0.8888888888888888,
              "#fdca26"
             ],
             [
              1,
              "#f0f921"
             ]
            ],
            "type": "histogram2dcontour"
           }
          ],
          "mesh3d": [
           {
            "colorbar": {
             "outlinewidth": 0,
             "ticks": ""
            },
            "type": "mesh3d"
           }
          ],
          "parcoords": [
           {
            "line": {
             "colorbar": {
              "outlinewidth": 0,
              "ticks": ""
             }
            },
            "type": "parcoords"
           }
          ],
          "pie": [
           {
            "automargin": true,
            "type": "pie"
           }
          ],
          "scatter": [
           {
            "fillpattern": {
             "fillmode": "overlay",
             "size": 10,
             "solidity": 0.2
            },
            "type": "scatter"
           }
          ],
          "scatter3d": [
           {
            "line": {
             "colorbar": {
              "outlinewidth": 0,
              "ticks": ""
             }
            },
            "marker": {
             "colorbar": {
              "outlinewidth": 0,
              "ticks": ""
             }
            },
            "type": "scatter3d"
           }
          ],
          "scattercarpet": [
           {
            "marker": {
             "colorbar": {
              "outlinewidth": 0,
              "ticks": ""
             }
            },
            "type": "scattercarpet"
           }
          ],
          "scattergeo": [
           {
            "marker": {
             "colorbar": {
              "outlinewidth": 0,
              "ticks": ""
             }
            },
            "type": "scattergeo"
           }
          ],
          "scattergl": [
           {
            "marker": {
             "colorbar": {
              "outlinewidth": 0,
              "ticks": ""
             }
            },
            "type": "scattergl"
           }
          ],
          "scattermap": [
           {
            "marker": {
             "colorbar": {
              "outlinewidth": 0,
              "ticks": ""
             }
            },
            "type": "scattermap"
           }
          ],
          "scattermapbox": [
           {
            "marker": {
             "colorbar": {
              "outlinewidth": 0,
              "ticks": ""
             }
            },
            "type": "scattermapbox"
           }
          ],
          "scatterpolar": [
           {
            "marker": {
             "colorbar": {
              "outlinewidth": 0,
              "ticks": ""
             }
            },
            "type": "scatterpolar"
           }
          ],
          "scatterpolargl": [
           {
            "marker": {
             "colorbar": {
              "outlinewidth": 0,
              "ticks": ""
             }
            },
            "type": "scatterpolargl"
           }
          ],
          "scatterternary": [
           {
            "marker": {
             "colorbar": {
              "outlinewidth": 0,
              "ticks": ""
             }
            },
            "type": "scatterternary"
           }
          ],
          "surface": [
           {
            "colorbar": {
             "outlinewidth": 0,
             "ticks": ""
            },
            "colorscale": [
             [
              0,
              "#0d0887"
             ],
             [
              0.1111111111111111,
              "#46039f"
             ],
             [
              0.2222222222222222,
              "#7201a8"
             ],
             [
              0.3333333333333333,
              "#9c179e"
             ],
             [
              0.4444444444444444,
              "#bd3786"
             ],
             [
              0.5555555555555556,
              "#d8576b"
             ],
             [
              0.6666666666666666,
              "#ed7953"
             ],
             [
              0.7777777777777778,
              "#fb9f3a"
             ],
             [
              0.8888888888888888,
              "#fdca26"
             ],
             [
              1,
              "#f0f921"
             ]
            ],
            "type": "surface"
           }
          ],
          "table": [
           {
            "cells": {
             "fill": {
              "color": "#EBF0F8"
             },
             "line": {
              "color": "white"
             }
            },
            "header": {
             "fill": {
              "color": "#C8D4E3"
             },
             "line": {
              "color": "white"
             }
            },
            "type": "table"
           }
          ]
         },
         "layout": {
          "annotationdefaults": {
           "arrowcolor": "#2a3f5f",
           "arrowhead": 0,
           "arrowwidth": 1
          },
          "autotypenumbers": "strict",
          "coloraxis": {
           "colorbar": {
            "outlinewidth": 0,
            "ticks": ""
           }
          },
          "colorscale": {
           "diverging": [
            [
             0,
             "#8e0152"
            ],
            [
             0.1,
             "#c51b7d"
            ],
            [
             0.2,
             "#de77ae"
            ],
            [
             0.3,
             "#f1b6da"
            ],
            [
             0.4,
             "#fde0ef"
            ],
            [
             0.5,
             "#f7f7f7"
            ],
            [
             0.6,
             "#e6f5d0"
            ],
            [
             0.7,
             "#b8e186"
            ],
            [
             0.8,
             "#7fbc41"
            ],
            [
             0.9,
             "#4d9221"
            ],
            [
             1,
             "#276419"
            ]
           ],
           "sequential": [
            [
             0,
             "#0d0887"
            ],
            [
             0.1111111111111111,
             "#46039f"
            ],
            [
             0.2222222222222222,
             "#7201a8"
            ],
            [
             0.3333333333333333,
             "#9c179e"
            ],
            [
             0.4444444444444444,
             "#bd3786"
            ],
            [
             0.5555555555555556,
             "#d8576b"
            ],
            [
             0.6666666666666666,
             "#ed7953"
            ],
            [
             0.7777777777777778,
             "#fb9f3a"
            ],
            [
             0.8888888888888888,
             "#fdca26"
            ],
            [
             1,
             "#f0f921"
            ]
           ],
           "sequentialminus": [
            [
             0,
             "#0d0887"
            ],
            [
             0.1111111111111111,
             "#46039f"
            ],
            [
             0.2222222222222222,
             "#7201a8"
            ],
            [
             0.3333333333333333,
             "#9c179e"
            ],
            [
             0.4444444444444444,
             "#bd3786"
            ],
            [
             0.5555555555555556,
             "#d8576b"
            ],
            [
             0.6666666666666666,
             "#ed7953"
            ],
            [
             0.7777777777777778,
             "#fb9f3a"
            ],
            [
             0.8888888888888888,
             "#fdca26"
            ],
            [
             1,
             "#f0f921"
            ]
           ]
          },
          "colorway": [
           "#636efa",
           "#EF553B",
           "#00cc96",
           "#ab63fa",
           "#FFA15A",
           "#19d3f3",
           "#FF6692",
           "#B6E880",
           "#FF97FF",
           "#FECB52"
          ],
          "font": {
           "color": "#2a3f5f"
          },
          "geo": {
           "bgcolor": "white",
           "lakecolor": "white",
           "landcolor": "#E5ECF6",
           "showlakes": true,
           "showland": true,
           "subunitcolor": "white"
          },
          "hoverlabel": {
           "align": "left"
          },
          "hovermode": "closest",
          "mapbox": {
           "style": "light"
          },
          "paper_bgcolor": "white",
          "plot_bgcolor": "#E5ECF6",
          "polar": {
           "angularaxis": {
            "gridcolor": "white",
            "linecolor": "white",
            "ticks": ""
           },
           "bgcolor": "#E5ECF6",
           "radialaxis": {
            "gridcolor": "white",
            "linecolor": "white",
            "ticks": ""
           }
          },
          "scene": {
           "xaxis": {
            "backgroundcolor": "#E5ECF6",
            "gridcolor": "white",
            "gridwidth": 2,
            "linecolor": "white",
            "showbackground": true,
            "ticks": "",
            "zerolinecolor": "white"
           },
           "yaxis": {
            "backgroundcolor": "#E5ECF6",
            "gridcolor": "white",
            "gridwidth": 2,
            "linecolor": "white",
            "showbackground": true,
            "ticks": "",
            "zerolinecolor": "white"
           },
           "zaxis": {
            "backgroundcolor": "#E5ECF6",
            "gridcolor": "white",
            "gridwidth": 2,
            "linecolor": "white",
            "showbackground": true,
            "ticks": "",
            "zerolinecolor": "white"
           }
          },
          "shapedefaults": {
           "line": {
            "color": "#2a3f5f"
           }
          },
          "ternary": {
           "aaxis": {
            "gridcolor": "white",
            "linecolor": "white",
            "ticks": ""
           },
           "baxis": {
            "gridcolor": "white",
            "linecolor": "white",
            "ticks": ""
           },
           "bgcolor": "#E5ECF6",
           "caxis": {
            "gridcolor": "white",
            "linecolor": "white",
            "ticks": ""
           }
          },
          "title": {
           "x": 0.05
          },
          "xaxis": {
           "automargin": true,
           "gridcolor": "white",
           "linecolor": "white",
           "ticks": "",
           "title": {
            "standoff": 15
           },
           "zerolinecolor": "white",
           "zerolinewidth": 2
          },
          "yaxis": {
           "automargin": true,
           "gridcolor": "white",
           "linecolor": "white",
           "ticks": "",
           "title": {
            "standoff": 15
           },
           "zerolinecolor": "white",
           "zerolinewidth": 2
          }
         }
        }
       }
      }
     },
     "metadata": {},
     "output_type": "display_data"
    }
   ],
   "source": [
    "# Plot Heatmap\n",
    "fig = go.Figure()\n",
    "\n",
    "fig.add_trace(\n",
    "  go.Heatmap(\n",
    "    x=corr_matrix.columns,\n",
    "    y=corr_matrix.index,\n",
    "    z=np.array(corr_matrix),\n",
    "    text=corr_matrix.values,\n",
    "    texttemplate='%{text:.2f}',\n",
    "    colorscale=px.colors.diverging.RdBu,\n",
    "    zmin=-1,\n",
    "    zmax=1\n",
    "  )\n",
    ")\n",
    "\n",
    "fig.show()"
   ]
  }
 ],
 "metadata": {
  "kernelspec": {
   "display_name": "project-a2-m8HxD8ro",
   "language": "python",
   "name": "python3"
  },
  "language_info": {
   "codemirror_mode": {
    "name": "ipython",
    "version": 3
   },
   "file_extension": ".py",
   "mimetype": "text/x-python",
   "name": "python",
   "nbconvert_exporter": "python",
   "pygments_lexer": "ipython3",
   "version": "3.12.3"
  }
 },
 "nbformat": 4,
 "nbformat_minor": 5
}
